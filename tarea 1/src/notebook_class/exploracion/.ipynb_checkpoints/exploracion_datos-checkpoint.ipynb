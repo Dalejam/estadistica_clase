{
 "cells": [
  {
   "cell_type": "markdown",
   "metadata": {
    "slideshow": {
     "slide_type": "slide"
    }
   },
   "source": [
    "# Explorar datos\n",
    "* Obtener estadisticas basicas\n",
    "* Graficar las variables\n",
    "    - Histogramas\n",
    "    - Box plots\n",
    "    - Scartter plots\n",
    "* Calcular correlacion con la variable objetivo\n",
    "* Check si es normal\n"
   ]
  },
  {
   "cell_type": "code",
   "execution_count": null,
   "metadata": {
    "slideshow": {
     "slide_type": "slide"
    }
   },
   "outputs": [],
   "source": [
    "! pip install numpy pandas plotly scipy matplotlib"
   ]
  },
  {
   "cell_type": "code",
   "execution_count": 3,
   "metadata": {},
   "outputs": [],
   "source": [
    "import numpy as np\n",
    "import os\n",
    "import pandas as pd\n",
    "import sqlite3\n",
    "from scipy import stats\n",
    "import matplotlib.pyplot as plt\n",
    "import tarfile\n",
    "import zipfile\n",
    "from scipy.io import loadmat\n",
    "from urllib.request import urlretrieve\n",
    "from os.path import isfile, isdir\n",
    "import plotly.express as px\n",
    "pd.set_option('display.max_rows', 500)\n",
    "pd.set_option('display.max_columns', 500)\n",
    "%matplotlib inline"
   ]
  },
  {
   "cell_type": "markdown",
   "metadata": {},
   "source": [
    "### Preguntas\n",
    "* Cuales son las estadisticas descriptivas de la base de autos?"
   ]
  },
  {
   "cell_type": "code",
   "execution_count": 4,
   "metadata": {
    "scrolled": true
   },
   "outputs": [],
   "source": [
    "df = pd.read_csv(\"data/CARS.csv\")"
   ]
  },
  {
   "cell_type": "code",
   "execution_count": 5,
   "metadata": {},
   "outputs": [],
   "source": [
    "conn = sqlite3.connect('data/db_cars')\n",
    "c = conn.cursor()"
   ]
  },
  {
   "cell_type": "code",
   "execution_count": 6,
   "metadata": {},
   "outputs": [],
   "source": [
    "df.to_sql('cars', conn, if_exists='replace', index = False)"
   ]
  },
  {
   "cell_type": "code",
   "execution_count": 11,
   "metadata": {},
   "outputs": [
    {
     "data": {
      "text/html": [
       "<div>\n",
       "<style scoped>\n",
       "    .dataframe tbody tr th:only-of-type {\n",
       "        vertical-align: middle;\n",
       "    }\n",
       "\n",
       "    .dataframe tbody tr th {\n",
       "        vertical-align: top;\n",
       "    }\n",
       "\n",
       "    .dataframe thead th {\n",
       "        text-align: right;\n",
       "    }\n",
       "</style>\n",
       "<table border=\"1\" class=\"dataframe\">\n",
       "  <thead>\n",
       "    <tr style=\"text-align: right;\">\n",
       "      <th></th>\n",
       "      <th>Make</th>\n",
       "      <th>Model</th>\n",
       "      <th>Type</th>\n",
       "      <th>Origin</th>\n",
       "      <th>DriveTrain</th>\n",
       "      <th>MSRP</th>\n",
       "      <th>Invoice</th>\n",
       "      <th>EngineSize</th>\n",
       "      <th>Cylinders</th>\n",
       "      <th>Horsepower</th>\n",
       "      <th>MPG_City</th>\n",
       "      <th>MPG_Highway</th>\n",
       "      <th>Weight</th>\n",
       "      <th>Wheelbase</th>\n",
       "      <th>Length</th>\n",
       "    </tr>\n",
       "  </thead>\n",
       "  <tbody>\n",
       "    <tr>\n",
       "      <th>0</th>\n",
       "      <td>Acura</td>\n",
       "      <td>MDX</td>\n",
       "      <td>SUV</td>\n",
       "      <td>Asia</td>\n",
       "      <td>All</td>\n",
       "      <td>$36,945</td>\n",
       "      <td>$33,337</td>\n",
       "      <td>3.5</td>\n",
       "      <td>6.0</td>\n",
       "      <td>265</td>\n",
       "      <td>17</td>\n",
       "      <td>23</td>\n",
       "      <td>4451</td>\n",
       "      <td>106</td>\n",
       "      <td>189</td>\n",
       "    </tr>\n",
       "    <tr>\n",
       "      <th>1</th>\n",
       "      <td>Acura</td>\n",
       "      <td>RSX Type S 2dr</td>\n",
       "      <td>Sedan</td>\n",
       "      <td>Asia</td>\n",
       "      <td>Front</td>\n",
       "      <td>$23,820</td>\n",
       "      <td>$21,761</td>\n",
       "      <td>2.0</td>\n",
       "      <td>4.0</td>\n",
       "      <td>200</td>\n",
       "      <td>24</td>\n",
       "      <td>31</td>\n",
       "      <td>2778</td>\n",
       "      <td>101</td>\n",
       "      <td>172</td>\n",
       "    </tr>\n",
       "    <tr>\n",
       "      <th>2</th>\n",
       "      <td>Acura</td>\n",
       "      <td>TSX 4dr</td>\n",
       "      <td>Sedan</td>\n",
       "      <td>Asia</td>\n",
       "      <td>Front</td>\n",
       "      <td>$26,990</td>\n",
       "      <td>$24,647</td>\n",
       "      <td>2.4</td>\n",
       "      <td>4.0</td>\n",
       "      <td>200</td>\n",
       "      <td>22</td>\n",
       "      <td>29</td>\n",
       "      <td>3230</td>\n",
       "      <td>105</td>\n",
       "      <td>183</td>\n",
       "    </tr>\n",
       "    <tr>\n",
       "      <th>3</th>\n",
       "      <td>Acura</td>\n",
       "      <td>TL 4dr</td>\n",
       "      <td>Sedan</td>\n",
       "      <td>Asia</td>\n",
       "      <td>Front</td>\n",
       "      <td>$33,195</td>\n",
       "      <td>$30,299</td>\n",
       "      <td>3.2</td>\n",
       "      <td>6.0</td>\n",
       "      <td>270</td>\n",
       "      <td>20</td>\n",
       "      <td>28</td>\n",
       "      <td>3575</td>\n",
       "      <td>108</td>\n",
       "      <td>186</td>\n",
       "    </tr>\n",
       "    <tr>\n",
       "      <th>4</th>\n",
       "      <td>Acura</td>\n",
       "      <td>3.5 RL 4dr</td>\n",
       "      <td>Sedan</td>\n",
       "      <td>Asia</td>\n",
       "      <td>Front</td>\n",
       "      <td>$43,755</td>\n",
       "      <td>$39,014</td>\n",
       "      <td>3.5</td>\n",
       "      <td>6.0</td>\n",
       "      <td>225</td>\n",
       "      <td>18</td>\n",
       "      <td>24</td>\n",
       "      <td>3880</td>\n",
       "      <td>115</td>\n",
       "      <td>197</td>\n",
       "    </tr>\n",
       "  </tbody>\n",
       "</table>\n",
       "</div>"
      ],
      "text/plain": [
       "    Make           Model   Type Origin DriveTrain     MSRP  Invoice  \\\n",
       "0  Acura             MDX    SUV   Asia        All  $36,945  $33,337   \n",
       "1  Acura  RSX Type S 2dr  Sedan   Asia      Front  $23,820  $21,761   \n",
       "2  Acura         TSX 4dr  Sedan   Asia      Front  $26,990  $24,647   \n",
       "3  Acura          TL 4dr  Sedan   Asia      Front  $33,195  $30,299   \n",
       "4  Acura      3.5 RL 4dr  Sedan   Asia      Front  $43,755  $39,014   \n",
       "\n",
       "   EngineSize  Cylinders  Horsepower  MPG_City  MPG_Highway  Weight  \\\n",
       "0         3.5        6.0         265        17           23    4451   \n",
       "1         2.0        4.0         200        24           31    2778   \n",
       "2         2.4        4.0         200        22           29    3230   \n",
       "3         3.2        6.0         270        20           28    3575   \n",
       "4         3.5        6.0         225        18           24    3880   \n",
       "\n",
       "   Wheelbase  Length  \n",
       "0        106     189  \n",
       "1        101     172  \n",
       "2        105     183  \n",
       "3        108     186  \n",
       "4        115     197  "
      ]
     },
     "execution_count": 11,
     "metadata": {},
     "output_type": "execute_result"
    }
   ],
   "source": [
    "df.head(5)"
   ]
  },
  {
   "cell_type": "code",
   "execution_count": 7,
   "metadata": {
    "slideshow": {
     "slide_type": "-"
    }
   },
   "outputs": [
    {
     "data": {
      "text/html": [
       "<div>\n",
       "<style scoped>\n",
       "    .dataframe tbody tr th:only-of-type {\n",
       "        vertical-align: middle;\n",
       "    }\n",
       "\n",
       "    .dataframe tbody tr th {\n",
       "        vertical-align: top;\n",
       "    }\n",
       "\n",
       "    .dataframe thead th {\n",
       "        text-align: right;\n",
       "    }\n",
       "</style>\n",
       "<table border=\"1\" class=\"dataframe\">\n",
       "  <thead>\n",
       "    <tr style=\"text-align: right;\">\n",
       "      <th></th>\n",
       "      <th>EngineSize</th>\n",
       "      <th>Cylinders</th>\n",
       "      <th>Horsepower</th>\n",
       "      <th>MPG_City</th>\n",
       "      <th>MPG_Highway</th>\n",
       "      <th>Weight</th>\n",
       "      <th>Wheelbase</th>\n",
       "      <th>Length</th>\n",
       "    </tr>\n",
       "  </thead>\n",
       "  <tbody>\n",
       "    <tr>\n",
       "      <th>count</th>\n",
       "      <td>428.000000</td>\n",
       "      <td>426.000000</td>\n",
       "      <td>428.000000</td>\n",
       "      <td>428.000000</td>\n",
       "      <td>428.000000</td>\n",
       "      <td>428.000000</td>\n",
       "      <td>428.000000</td>\n",
       "      <td>428.000000</td>\n",
       "    </tr>\n",
       "    <tr>\n",
       "      <th>mean</th>\n",
       "      <td>3.196729</td>\n",
       "      <td>5.807512</td>\n",
       "      <td>215.885514</td>\n",
       "      <td>20.060748</td>\n",
       "      <td>26.843458</td>\n",
       "      <td>3577.953271</td>\n",
       "      <td>108.154206</td>\n",
       "      <td>186.362150</td>\n",
       "    </tr>\n",
       "    <tr>\n",
       "      <th>std</th>\n",
       "      <td>1.108595</td>\n",
       "      <td>1.558443</td>\n",
       "      <td>71.836032</td>\n",
       "      <td>5.238218</td>\n",
       "      <td>5.741201</td>\n",
       "      <td>758.983215</td>\n",
       "      <td>8.311813</td>\n",
       "      <td>14.357991</td>\n",
       "    </tr>\n",
       "    <tr>\n",
       "      <th>min</th>\n",
       "      <td>1.300000</td>\n",
       "      <td>3.000000</td>\n",
       "      <td>73.000000</td>\n",
       "      <td>10.000000</td>\n",
       "      <td>12.000000</td>\n",
       "      <td>1850.000000</td>\n",
       "      <td>89.000000</td>\n",
       "      <td>143.000000</td>\n",
       "    </tr>\n",
       "    <tr>\n",
       "      <th>25%</th>\n",
       "      <td>2.375000</td>\n",
       "      <td>4.000000</td>\n",
       "      <td>165.000000</td>\n",
       "      <td>17.000000</td>\n",
       "      <td>24.000000</td>\n",
       "      <td>3104.000000</td>\n",
       "      <td>103.000000</td>\n",
       "      <td>178.000000</td>\n",
       "    </tr>\n",
       "    <tr>\n",
       "      <th>50%</th>\n",
       "      <td>3.000000</td>\n",
       "      <td>6.000000</td>\n",
       "      <td>210.000000</td>\n",
       "      <td>19.000000</td>\n",
       "      <td>26.000000</td>\n",
       "      <td>3474.500000</td>\n",
       "      <td>107.000000</td>\n",
       "      <td>187.000000</td>\n",
       "    </tr>\n",
       "    <tr>\n",
       "      <th>75%</th>\n",
       "      <td>3.900000</td>\n",
       "      <td>6.000000</td>\n",
       "      <td>255.000000</td>\n",
       "      <td>21.250000</td>\n",
       "      <td>29.000000</td>\n",
       "      <td>3977.750000</td>\n",
       "      <td>112.000000</td>\n",
       "      <td>194.000000</td>\n",
       "    </tr>\n",
       "    <tr>\n",
       "      <th>max</th>\n",
       "      <td>8.300000</td>\n",
       "      <td>12.000000</td>\n",
       "      <td>500.000000</td>\n",
       "      <td>60.000000</td>\n",
       "      <td>66.000000</td>\n",
       "      <td>7190.000000</td>\n",
       "      <td>144.000000</td>\n",
       "      <td>238.000000</td>\n",
       "    </tr>\n",
       "  </tbody>\n",
       "</table>\n",
       "</div>"
      ],
      "text/plain": [
       "       EngineSize   Cylinders  Horsepower    MPG_City  MPG_Highway  \\\n",
       "count  428.000000  426.000000  428.000000  428.000000   428.000000   \n",
       "mean     3.196729    5.807512  215.885514   20.060748    26.843458   \n",
       "std      1.108595    1.558443   71.836032    5.238218     5.741201   \n",
       "min      1.300000    3.000000   73.000000   10.000000    12.000000   \n",
       "25%      2.375000    4.000000  165.000000   17.000000    24.000000   \n",
       "50%      3.000000    6.000000  210.000000   19.000000    26.000000   \n",
       "75%      3.900000    6.000000  255.000000   21.250000    29.000000   \n",
       "max      8.300000   12.000000  500.000000   60.000000    66.000000   \n",
       "\n",
       "            Weight   Wheelbase      Length  \n",
       "count   428.000000  428.000000  428.000000  \n",
       "mean   3577.953271  108.154206  186.362150  \n",
       "std     758.983215    8.311813   14.357991  \n",
       "min    1850.000000   89.000000  143.000000  \n",
       "25%    3104.000000  103.000000  178.000000  \n",
       "50%    3474.500000  107.000000  187.000000  \n",
       "75%    3977.750000  112.000000  194.000000  \n",
       "max    7190.000000  144.000000  238.000000  "
      ]
     },
     "execution_count": 7,
     "metadata": {},
     "output_type": "execute_result"
    }
   ],
   "source": [
    "df.describe()"
   ]
  },
  {
   "cell_type": "code",
   "execution_count": 12,
   "metadata": {},
   "outputs": [
    {
     "data": {
      "text/html": [
       "<div>\n",
       "<style scoped>\n",
       "    .dataframe tbody tr th:only-of-type {\n",
       "        vertical-align: middle;\n",
       "    }\n",
       "\n",
       "    .dataframe tbody tr th {\n",
       "        vertical-align: top;\n",
       "    }\n",
       "\n",
       "    .dataframe thead th {\n",
       "        text-align: right;\n",
       "    }\n",
       "</style>\n",
       "<table border=\"1\" class=\"dataframe\">\n",
       "  <thead>\n",
       "    <tr style=\"text-align: right;\">\n",
       "      <th></th>\n",
       "      <th>Make</th>\n",
       "      <th>Model</th>\n",
       "      <th>Type</th>\n",
       "      <th>Origin</th>\n",
       "      <th>DriveTrain</th>\n",
       "      <th>MSRP</th>\n",
       "      <th>Invoice</th>\n",
       "      <th>EngineSize</th>\n",
       "      <th>Cylinders</th>\n",
       "      <th>Horsepower</th>\n",
       "      <th>MPG_City</th>\n",
       "      <th>MPG_Highway</th>\n",
       "      <th>Weight</th>\n",
       "      <th>Wheelbase</th>\n",
       "      <th>Length</th>\n",
       "    </tr>\n",
       "  </thead>\n",
       "  <tbody>\n",
       "    <tr>\n",
       "      <th>count</th>\n",
       "      <td>428</td>\n",
       "      <td>428</td>\n",
       "      <td>428</td>\n",
       "      <td>428</td>\n",
       "      <td>428</td>\n",
       "      <td>428</td>\n",
       "      <td>428</td>\n",
       "      <td>428.000000</td>\n",
       "      <td>426.000000</td>\n",
       "      <td>428.000000</td>\n",
       "      <td>428.000000</td>\n",
       "      <td>428.000000</td>\n",
       "      <td>428.000000</td>\n",
       "      <td>428.000000</td>\n",
       "      <td>428.000000</td>\n",
       "    </tr>\n",
       "    <tr>\n",
       "      <th>unique</th>\n",
       "      <td>38</td>\n",
       "      <td>425</td>\n",
       "      <td>6</td>\n",
       "      <td>3</td>\n",
       "      <td>3</td>\n",
       "      <td>410</td>\n",
       "      <td>425</td>\n",
       "      <td>NaN</td>\n",
       "      <td>NaN</td>\n",
       "      <td>NaN</td>\n",
       "      <td>NaN</td>\n",
       "      <td>NaN</td>\n",
       "      <td>NaN</td>\n",
       "      <td>NaN</td>\n",
       "      <td>NaN</td>\n",
       "    </tr>\n",
       "    <tr>\n",
       "      <th>top</th>\n",
       "      <td>Toyota</td>\n",
       "      <td>C240 4dr</td>\n",
       "      <td>Sedan</td>\n",
       "      <td>Asia</td>\n",
       "      <td>Front</td>\n",
       "      <td>$23,895</td>\n",
       "      <td>$68,306</td>\n",
       "      <td>NaN</td>\n",
       "      <td>NaN</td>\n",
       "      <td>NaN</td>\n",
       "      <td>NaN</td>\n",
       "      <td>NaN</td>\n",
       "      <td>NaN</td>\n",
       "      <td>NaN</td>\n",
       "      <td>NaN</td>\n",
       "    </tr>\n",
       "    <tr>\n",
       "      <th>freq</th>\n",
       "      <td>28</td>\n",
       "      <td>2</td>\n",
       "      <td>262</td>\n",
       "      <td>158</td>\n",
       "      <td>226</td>\n",
       "      <td>2</td>\n",
       "      <td>2</td>\n",
       "      <td>NaN</td>\n",
       "      <td>NaN</td>\n",
       "      <td>NaN</td>\n",
       "      <td>NaN</td>\n",
       "      <td>NaN</td>\n",
       "      <td>NaN</td>\n",
       "      <td>NaN</td>\n",
       "      <td>NaN</td>\n",
       "    </tr>\n",
       "    <tr>\n",
       "      <th>mean</th>\n",
       "      <td>NaN</td>\n",
       "      <td>NaN</td>\n",
       "      <td>NaN</td>\n",
       "      <td>NaN</td>\n",
       "      <td>NaN</td>\n",
       "      <td>NaN</td>\n",
       "      <td>NaN</td>\n",
       "      <td>3.196729</td>\n",
       "      <td>5.807512</td>\n",
       "      <td>215.885514</td>\n",
       "      <td>20.060748</td>\n",
       "      <td>26.843458</td>\n",
       "      <td>3577.953271</td>\n",
       "      <td>108.154206</td>\n",
       "      <td>186.362150</td>\n",
       "    </tr>\n",
       "    <tr>\n",
       "      <th>std</th>\n",
       "      <td>NaN</td>\n",
       "      <td>NaN</td>\n",
       "      <td>NaN</td>\n",
       "      <td>NaN</td>\n",
       "      <td>NaN</td>\n",
       "      <td>NaN</td>\n",
       "      <td>NaN</td>\n",
       "      <td>1.108595</td>\n",
       "      <td>1.558443</td>\n",
       "      <td>71.836032</td>\n",
       "      <td>5.238218</td>\n",
       "      <td>5.741201</td>\n",
       "      <td>758.983215</td>\n",
       "      <td>8.311813</td>\n",
       "      <td>14.357991</td>\n",
       "    </tr>\n",
       "    <tr>\n",
       "      <th>min</th>\n",
       "      <td>NaN</td>\n",
       "      <td>NaN</td>\n",
       "      <td>NaN</td>\n",
       "      <td>NaN</td>\n",
       "      <td>NaN</td>\n",
       "      <td>NaN</td>\n",
       "      <td>NaN</td>\n",
       "      <td>1.300000</td>\n",
       "      <td>3.000000</td>\n",
       "      <td>73.000000</td>\n",
       "      <td>10.000000</td>\n",
       "      <td>12.000000</td>\n",
       "      <td>1850.000000</td>\n",
       "      <td>89.000000</td>\n",
       "      <td>143.000000</td>\n",
       "    </tr>\n",
       "    <tr>\n",
       "      <th>25%</th>\n",
       "      <td>NaN</td>\n",
       "      <td>NaN</td>\n",
       "      <td>NaN</td>\n",
       "      <td>NaN</td>\n",
       "      <td>NaN</td>\n",
       "      <td>NaN</td>\n",
       "      <td>NaN</td>\n",
       "      <td>2.375000</td>\n",
       "      <td>4.000000</td>\n",
       "      <td>165.000000</td>\n",
       "      <td>17.000000</td>\n",
       "      <td>24.000000</td>\n",
       "      <td>3104.000000</td>\n",
       "      <td>103.000000</td>\n",
       "      <td>178.000000</td>\n",
       "    </tr>\n",
       "    <tr>\n",
       "      <th>50%</th>\n",
       "      <td>NaN</td>\n",
       "      <td>NaN</td>\n",
       "      <td>NaN</td>\n",
       "      <td>NaN</td>\n",
       "      <td>NaN</td>\n",
       "      <td>NaN</td>\n",
       "      <td>NaN</td>\n",
       "      <td>3.000000</td>\n",
       "      <td>6.000000</td>\n",
       "      <td>210.000000</td>\n",
       "      <td>19.000000</td>\n",
       "      <td>26.000000</td>\n",
       "      <td>3474.500000</td>\n",
       "      <td>107.000000</td>\n",
       "      <td>187.000000</td>\n",
       "    </tr>\n",
       "    <tr>\n",
       "      <th>75%</th>\n",
       "      <td>NaN</td>\n",
       "      <td>NaN</td>\n",
       "      <td>NaN</td>\n",
       "      <td>NaN</td>\n",
       "      <td>NaN</td>\n",
       "      <td>NaN</td>\n",
       "      <td>NaN</td>\n",
       "      <td>3.900000</td>\n",
       "      <td>6.000000</td>\n",
       "      <td>255.000000</td>\n",
       "      <td>21.250000</td>\n",
       "      <td>29.000000</td>\n",
       "      <td>3977.750000</td>\n",
       "      <td>112.000000</td>\n",
       "      <td>194.000000</td>\n",
       "    </tr>\n",
       "    <tr>\n",
       "      <th>max</th>\n",
       "      <td>NaN</td>\n",
       "      <td>NaN</td>\n",
       "      <td>NaN</td>\n",
       "      <td>NaN</td>\n",
       "      <td>NaN</td>\n",
       "      <td>NaN</td>\n",
       "      <td>NaN</td>\n",
       "      <td>8.300000</td>\n",
       "      <td>12.000000</td>\n",
       "      <td>500.000000</td>\n",
       "      <td>60.000000</td>\n",
       "      <td>66.000000</td>\n",
       "      <td>7190.000000</td>\n",
       "      <td>144.000000</td>\n",
       "      <td>238.000000</td>\n",
       "    </tr>\n",
       "  </tbody>\n",
       "</table>\n",
       "</div>"
      ],
      "text/plain": [
       "          Make     Model   Type Origin DriveTrain     MSRP  Invoice  \\\n",
       "count      428       428    428    428        428      428      428   \n",
       "unique      38       425      6      3          3      410      425   \n",
       "top     Toyota  C240 4dr  Sedan   Asia      Front  $23,895  $68,306   \n",
       "freq        28         2    262    158        226        2        2   \n",
       "mean       NaN       NaN    NaN    NaN        NaN      NaN      NaN   \n",
       "std        NaN       NaN    NaN    NaN        NaN      NaN      NaN   \n",
       "min        NaN       NaN    NaN    NaN        NaN      NaN      NaN   \n",
       "25%        NaN       NaN    NaN    NaN        NaN      NaN      NaN   \n",
       "50%        NaN       NaN    NaN    NaN        NaN      NaN      NaN   \n",
       "75%        NaN       NaN    NaN    NaN        NaN      NaN      NaN   \n",
       "max        NaN       NaN    NaN    NaN        NaN      NaN      NaN   \n",
       "\n",
       "        EngineSize   Cylinders  Horsepower    MPG_City  MPG_Highway  \\\n",
       "count   428.000000  426.000000  428.000000  428.000000   428.000000   \n",
       "unique         NaN         NaN         NaN         NaN          NaN   \n",
       "top            NaN         NaN         NaN         NaN          NaN   \n",
       "freq           NaN         NaN         NaN         NaN          NaN   \n",
       "mean      3.196729    5.807512  215.885514   20.060748    26.843458   \n",
       "std       1.108595    1.558443   71.836032    5.238218     5.741201   \n",
       "min       1.300000    3.000000   73.000000   10.000000    12.000000   \n",
       "25%       2.375000    4.000000  165.000000   17.000000    24.000000   \n",
       "50%       3.000000    6.000000  210.000000   19.000000    26.000000   \n",
       "75%       3.900000    6.000000  255.000000   21.250000    29.000000   \n",
       "max       8.300000   12.000000  500.000000   60.000000    66.000000   \n",
       "\n",
       "             Weight   Wheelbase      Length  \n",
       "count    428.000000  428.000000  428.000000  \n",
       "unique          NaN         NaN         NaN  \n",
       "top             NaN         NaN         NaN  \n",
       "freq            NaN         NaN         NaN  \n",
       "mean    3577.953271  108.154206  186.362150  \n",
       "std      758.983215    8.311813   14.357991  \n",
       "min     1850.000000   89.000000  143.000000  \n",
       "25%     3104.000000  103.000000  178.000000  \n",
       "50%     3474.500000  107.000000  187.000000  \n",
       "75%     3977.750000  112.000000  194.000000  \n",
       "max     7190.000000  144.000000  238.000000  "
      ]
     },
     "execution_count": 12,
     "metadata": {},
     "output_type": "execute_result"
    }
   ],
   "source": [
    "df.describe(include=\"all\")"
   ]
  },
  {
   "cell_type": "code",
   "execution_count": 15,
   "metadata": {},
   "outputs": [
    {
     "data": {
      "text/plain": [
       "Make            object\n",
       "Model           object\n",
       "Type            object\n",
       "Origin          object\n",
       "DriveTrain      object\n",
       "MSRP            object\n",
       "Invoice         object\n",
       "EngineSize     float64\n",
       "Cylinders      float64\n",
       "Horsepower       int64\n",
       "MPG_City         int64\n",
       "MPG_Highway      int64\n",
       "Weight           int64\n",
       "Wheelbase        int64\n",
       "Length           int64\n",
       "dtype: object"
      ]
     },
     "execution_count": 15,
     "metadata": {},
     "output_type": "execute_result"
    }
   ],
   "source": [
    "df.dtypes"
   ]
  },
  {
   "cell_type": "code",
   "execution_count": 16,
   "metadata": {},
   "outputs": [],
   "source": [
    "query_str = \"\"\"\n",
    "    SELECT make, count(*), max(Invoice)\n",
    "    FROM CARS\n",
    "    GROUP BY make\n",
    "    ORDER BY 2 desc\n",
    "\"\"\"\n"
   ]
  },
  {
   "cell_type": "code",
   "execution_count": 17,
   "metadata": {},
   "outputs": [
    {
     "data": {
      "text/html": [
       "<div>\n",
       "<style scoped>\n",
       "    .dataframe tbody tr th:only-of-type {\n",
       "        vertical-align: middle;\n",
       "    }\n",
       "\n",
       "    .dataframe tbody tr th {\n",
       "        vertical-align: top;\n",
       "    }\n",
       "\n",
       "    .dataframe thead th {\n",
       "        text-align: right;\n",
       "    }\n",
       "</style>\n",
       "<table border=\"1\" class=\"dataframe\">\n",
       "  <thead>\n",
       "    <tr style=\"text-align: right;\">\n",
       "      <th></th>\n",
       "      <th>make</th>\n",
       "      <th>num</th>\n",
       "      <th>mean</th>\n",
       "    </tr>\n",
       "  </thead>\n",
       "  <tbody>\n",
       "    <tr>\n",
       "      <th>0</th>\n",
       "      <td>Toyota</td>\n",
       "      <td>28</td>\n",
       "      <td>$47,986</td>\n",
       "    </tr>\n",
       "    <tr>\n",
       "      <th>1</th>\n",
       "      <td>Chevrolet</td>\n",
       "      <td>27</td>\n",
       "      <td>$45,193</td>\n",
       "    </tr>\n",
       "    <tr>\n",
       "      <th>2</th>\n",
       "      <td>Mercedes-Benz</td>\n",
       "      <td>26</td>\n",
       "      <td>$88,324</td>\n",
       "    </tr>\n",
       "    <tr>\n",
       "      <th>3</th>\n",
       "      <td>Ford</td>\n",
       "      <td>23</td>\n",
       "      <td>$36,494</td>\n",
       "    </tr>\n",
       "    <tr>\n",
       "      <th>4</th>\n",
       "      <td>BMW</td>\n",
       "      <td>20</td>\n",
       "      <td>$66,830</td>\n",
       "    </tr>\n",
       "    <tr>\n",
       "      <th>5</th>\n",
       "      <td>Audi</td>\n",
       "      <td>19</td>\n",
       "      <td>$76,417</td>\n",
       "    </tr>\n",
       "    <tr>\n",
       "      <th>6</th>\n",
       "      <td>Nissan</td>\n",
       "      <td>17</td>\n",
       "      <td>$31,845</td>\n",
       "    </tr>\n",
       "    <tr>\n",
       "      <th>7</th>\n",
       "      <td>Honda</td>\n",
       "      <td>17</td>\n",
       "      <td>$29,965</td>\n",
       "    </tr>\n",
       "    <tr>\n",
       "      <th>8</th>\n",
       "      <td>Volkswagen</td>\n",
       "      <td>15</td>\n",
       "      <td>$69,130</td>\n",
       "    </tr>\n",
       "    <tr>\n",
       "      <th>9</th>\n",
       "      <td>Chrysler</td>\n",
       "      <td>15</td>\n",
       "      <td>$35,063</td>\n",
       "    </tr>\n",
       "  </tbody>\n",
       "</table>\n",
       "</div>"
      ],
      "text/plain": [
       "            make  num     mean\n",
       "0         Toyota   28  $47,986\n",
       "1      Chevrolet   27  $45,193\n",
       "2  Mercedes-Benz   26  $88,324\n",
       "3           Ford   23  $36,494\n",
       "4            BMW   20  $66,830\n",
       "5           Audi   19  $76,417\n",
       "6         Nissan   17  $31,845\n",
       "7          Honda   17  $29,965\n",
       "8     Volkswagen   15  $69,130\n",
       "9       Chrysler   15  $35,063"
      ]
     },
     "execution_count": 17,
     "metadata": {},
     "output_type": "execute_result"
    }
   ],
   "source": [
    "df_qry = pd.DataFrame(c.execute(query_str).fetchall(), columns =[\"make\",\"num\",\"mean\"])    \n",
    "df_qry.head(10)"
   ]
  },
  {
   "cell_type": "code",
   "execution_count": 25,
   "metadata": {},
   "outputs": [
    {
     "data": {
      "text/html": [
       "<div>\n",
       "<style scoped>\n",
       "    .dataframe tbody tr th:only-of-type {\n",
       "        vertical-align: middle;\n",
       "    }\n",
       "\n",
       "    .dataframe tbody tr th {\n",
       "        vertical-align: top;\n",
       "    }\n",
       "\n",
       "    .dataframe thead th {\n",
       "        text-align: right;\n",
       "    }\n",
       "</style>\n",
       "<table border=\"1\" class=\"dataframe\">\n",
       "  <thead>\n",
       "    <tr style=\"text-align: right;\">\n",
       "      <th></th>\n",
       "      <th>Make</th>\n",
       "      <th>Weight</th>\n",
       "    </tr>\n",
       "  </thead>\n",
       "  <tbody>\n",
       "    <tr>\n",
       "      <th>7</th>\n",
       "      <td>Audi</td>\n",
       "      <td>3252</td>\n",
       "    </tr>\n",
       "    <tr>\n",
       "      <th>8</th>\n",
       "      <td>Audi</td>\n",
       "      <td>3638</td>\n",
       "    </tr>\n",
       "  </tbody>\n",
       "</table>\n",
       "</div>"
      ],
      "text/plain": [
       "   Make  Weight\n",
       "7  Audi    3252\n",
       "8  Audi    3638"
      ]
     },
     "execution_count": 25,
     "metadata": {},
     "output_type": "execute_result"
    }
   ],
   "source": [
    "df[[\"Make\",\"Weight\"]][df.Make == \"Audi\"]\n",
    "df[[\"Make\",\"Weight\"]].query('Make == \"Audi\"').head(2)"
   ]
  },
  {
   "cell_type": "code",
   "execution_count": 26,
   "metadata": {},
   "outputs": [
    {
     "data": {
      "text/html": [
       "<div>\n",
       "<style scoped>\n",
       "    .dataframe tbody tr th:only-of-type {\n",
       "        vertical-align: middle;\n",
       "    }\n",
       "\n",
       "    .dataframe tbody tr th {\n",
       "        vertical-align: top;\n",
       "    }\n",
       "\n",
       "    .dataframe thead th {\n",
       "        text-align: right;\n",
       "    }\n",
       "</style>\n",
       "<table border=\"1\" class=\"dataframe\">\n",
       "  <thead>\n",
       "    <tr style=\"text-align: right;\">\n",
       "      <th></th>\n",
       "      <th>Model</th>\n",
       "      <th>Invoice</th>\n",
       "    </tr>\n",
       "    <tr>\n",
       "      <th>Make</th>\n",
       "      <th></th>\n",
       "      <th></th>\n",
       "    </tr>\n",
       "  </thead>\n",
       "  <tbody>\n",
       "    <tr>\n",
       "      <th>Toyota</th>\n",
       "      <td>28</td>\n",
       "      <td>$47,986</td>\n",
       "    </tr>\n",
       "    <tr>\n",
       "      <th>Chevrolet</th>\n",
       "      <td>27</td>\n",
       "      <td>$45,193</td>\n",
       "    </tr>\n",
       "    <tr>\n",
       "      <th>Mercedes-Benz</th>\n",
       "      <td>26</td>\n",
       "      <td>$88,324</td>\n",
       "    </tr>\n",
       "    <tr>\n",
       "      <th>Ford</th>\n",
       "      <td>23</td>\n",
       "      <td>$36,494</td>\n",
       "    </tr>\n",
       "    <tr>\n",
       "      <th>BMW</th>\n",
       "      <td>20</td>\n",
       "      <td>$66,830</td>\n",
       "    </tr>\n",
       "    <tr>\n",
       "      <th>Audi</th>\n",
       "      <td>19</td>\n",
       "      <td>$76,417</td>\n",
       "    </tr>\n",
       "    <tr>\n",
       "      <th>Honda</th>\n",
       "      <td>17</td>\n",
       "      <td>$29,965</td>\n",
       "    </tr>\n",
       "    <tr>\n",
       "      <th>Nissan</th>\n",
       "      <td>17</td>\n",
       "      <td>$31,845</td>\n",
       "    </tr>\n",
       "    <tr>\n",
       "      <th>Volkswagen</th>\n",
       "      <td>15</td>\n",
       "      <td>$69,130</td>\n",
       "    </tr>\n",
       "    <tr>\n",
       "      <th>Chrysler</th>\n",
       "      <td>15</td>\n",
       "      <td>$35,063</td>\n",
       "    </tr>\n",
       "  </tbody>\n",
       "</table>\n",
       "</div>"
      ],
      "text/plain": [
       "               Model  Invoice\n",
       "Make                         \n",
       "Toyota            28  $47,986\n",
       "Chevrolet         27  $45,193\n",
       "Mercedes-Benz     26  $88,324\n",
       "Ford              23  $36,494\n",
       "BMW               20  $66,830\n",
       "Audi              19  $76,417\n",
       "Honda             17  $29,965\n",
       "Nissan            17  $31,845\n",
       "Volkswagen        15  $69,130\n",
       "Chrysler          15  $35,063"
      ]
     },
     "execution_count": 26,
     "metadata": {},
     "output_type": "execute_result"
    }
   ],
   "source": [
    "df[[\"Make\",\"Model\",\"Invoice\"]]\\\n",
    "    .groupby([\"Make\"]).agg({\"Model\":\"count\",\"Invoice\":\"max\"})\\\n",
    "    .sort_values(by=\"Model\",ascending=False).head(10)"
   ]
  },
  {
   "cell_type": "code",
   "execution_count": 27,
   "metadata": {},
   "outputs": [],
   "source": [
    "df[\"Invoice\"] = df[\"Invoice\"].replace('[\\$,]', '', regex=True).astype(float)"
   ]
  },
  {
   "cell_type": "code",
   "execution_count": 29,
   "metadata": {},
   "outputs": [
    {
     "data": {
      "text/html": [
       "<div>\n",
       "<style scoped>\n",
       "    .dataframe tbody tr th:only-of-type {\n",
       "        vertical-align: middle;\n",
       "    }\n",
       "\n",
       "    .dataframe tbody tr th {\n",
       "        vertical-align: top;\n",
       "    }\n",
       "\n",
       "    .dataframe thead th {\n",
       "        text-align: right;\n",
       "    }\n",
       "</style>\n",
       "<table border=\"1\" class=\"dataframe\">\n",
       "  <thead>\n",
       "    <tr style=\"text-align: right;\">\n",
       "      <th></th>\n",
       "      <th>Model</th>\n",
       "      <th>Invoice</th>\n",
       "    </tr>\n",
       "    <tr>\n",
       "      <th>Make</th>\n",
       "      <th></th>\n",
       "      <th></th>\n",
       "    </tr>\n",
       "  </thead>\n",
       "  <tbody>\n",
       "    <tr>\n",
       "      <th>Porsche</th>\n",
       "      <td>7</td>\n",
       "      <td>73662.857143</td>\n",
       "    </tr>\n",
       "    <tr>\n",
       "      <th>Mercedes-Benz</th>\n",
       "      <td>26</td>\n",
       "      <td>56453.307692</td>\n",
       "    </tr>\n",
       "    <tr>\n",
       "      <th>Jaguar</th>\n",
       "      <td>12</td>\n",
       "      <td>56098.416667</td>\n",
       "    </tr>\n",
       "    <tr>\n",
       "      <th>Cadillac</th>\n",
       "      <td>8</td>\n",
       "      <td>46426.875000</td>\n",
       "    </tr>\n",
       "    <tr>\n",
       "      <th>Hummer</th>\n",
       "      <td>1</td>\n",
       "      <td>45815.000000</td>\n",
       "    </tr>\n",
       "    <tr>\n",
       "      <th>Land Rover</th>\n",
       "      <td>3</td>\n",
       "      <td>41851.000000</td>\n",
       "    </tr>\n",
       "    <tr>\n",
       "      <th>BMW</th>\n",
       "      <td>20</td>\n",
       "      <td>39620.650000</td>\n",
       "    </tr>\n",
       "    <tr>\n",
       "      <th>Audi</th>\n",
       "      <td>19</td>\n",
       "      <td>39330.105263</td>\n",
       "    </tr>\n",
       "    <tr>\n",
       "      <th>Lincoln</th>\n",
       "      <td>9</td>\n",
       "      <td>39135.777778</td>\n",
       "    </tr>\n",
       "    <tr>\n",
       "      <th>Lexus</th>\n",
       "      <td>11</td>\n",
       "      <td>38760.000000</td>\n",
       "    </tr>\n",
       "  </tbody>\n",
       "</table>\n",
       "</div>"
      ],
      "text/plain": [
       "               Model       Invoice\n",
       "Make                              \n",
       "Porsche            7  73662.857143\n",
       "Mercedes-Benz     26  56453.307692\n",
       "Jaguar            12  56098.416667\n",
       "Cadillac           8  46426.875000\n",
       "Hummer             1  45815.000000\n",
       "Land Rover         3  41851.000000\n",
       "BMW               20  39620.650000\n",
       "Audi              19  39330.105263\n",
       "Lincoln            9  39135.777778\n",
       "Lexus             11  38760.000000"
      ]
     },
     "execution_count": 29,
     "metadata": {},
     "output_type": "execute_result"
    }
   ],
   "source": [
    "df[[\"Make\",\"Model\",\"Invoice\"]]\\\n",
    "    .groupby([\"Make\"]).agg({\"Model\":\"count\",\"Invoice\":\"mean\"})\\\n",
    "    .sort_values(by=\"Invoice\",ascending=False).head(10)"
   ]
  },
  {
   "cell_type": "code",
   "execution_count": 31,
   "metadata": {},
   "outputs": [
    {
     "data": {
      "text/html": [
       "<div>\n",
       "<style scoped>\n",
       "    .dataframe tbody tr th:only-of-type {\n",
       "        vertical-align: middle;\n",
       "    }\n",
       "\n",
       "    .dataframe tbody tr th {\n",
       "        vertical-align: top;\n",
       "    }\n",
       "\n",
       "    .dataframe thead th {\n",
       "        text-align: right;\n",
       "    }\n",
       "</style>\n",
       "<table border=\"1\" class=\"dataframe\">\n",
       "  <thead>\n",
       "    <tr style=\"text-align: right;\">\n",
       "      <th></th>\n",
       "      <th>Invoice</th>\n",
       "      <th>EngineSize</th>\n",
       "      <th>Cylinders</th>\n",
       "      <th>Horsepower</th>\n",
       "      <th>MPG_City</th>\n",
       "      <th>MPG_Highway</th>\n",
       "      <th>Weight</th>\n",
       "      <th>Wheelbase</th>\n",
       "      <th>Length</th>\n",
       "    </tr>\n",
       "  </thead>\n",
       "  <tbody>\n",
       "    <tr>\n",
       "      <th>count</th>\n",
       "      <td>428.000000</td>\n",
       "      <td>428.000000</td>\n",
       "      <td>426.000000</td>\n",
       "      <td>428.000000</td>\n",
       "      <td>428.000000</td>\n",
       "      <td>428.000000</td>\n",
       "      <td>428.000000</td>\n",
       "      <td>428.000000</td>\n",
       "      <td>428.000000</td>\n",
       "    </tr>\n",
       "    <tr>\n",
       "      <th>mean</th>\n",
       "      <td>30014.700935</td>\n",
       "      <td>3.196729</td>\n",
       "      <td>5.807512</td>\n",
       "      <td>215.885514</td>\n",
       "      <td>20.060748</td>\n",
       "      <td>26.843458</td>\n",
       "      <td>3577.953271</td>\n",
       "      <td>108.154206</td>\n",
       "      <td>186.362150</td>\n",
       "    </tr>\n",
       "    <tr>\n",
       "      <th>std</th>\n",
       "      <td>17642.117750</td>\n",
       "      <td>1.108595</td>\n",
       "      <td>1.558443</td>\n",
       "      <td>71.836032</td>\n",
       "      <td>5.238218</td>\n",
       "      <td>5.741201</td>\n",
       "      <td>758.983215</td>\n",
       "      <td>8.311813</td>\n",
       "      <td>14.357991</td>\n",
       "    </tr>\n",
       "    <tr>\n",
       "      <th>min</th>\n",
       "      <td>9875.000000</td>\n",
       "      <td>1.300000</td>\n",
       "      <td>3.000000</td>\n",
       "      <td>73.000000</td>\n",
       "      <td>10.000000</td>\n",
       "      <td>12.000000</td>\n",
       "      <td>1850.000000</td>\n",
       "      <td>89.000000</td>\n",
       "      <td>143.000000</td>\n",
       "    </tr>\n",
       "    <tr>\n",
       "      <th>25%</th>\n",
       "      <td>18866.000000</td>\n",
       "      <td>2.375000</td>\n",
       "      <td>4.000000</td>\n",
       "      <td>165.000000</td>\n",
       "      <td>17.000000</td>\n",
       "      <td>24.000000</td>\n",
       "      <td>3104.000000</td>\n",
       "      <td>103.000000</td>\n",
       "      <td>178.000000</td>\n",
       "    </tr>\n",
       "    <tr>\n",
       "      <th>50%</th>\n",
       "      <td>25294.500000</td>\n",
       "      <td>3.000000</td>\n",
       "      <td>6.000000</td>\n",
       "      <td>210.000000</td>\n",
       "      <td>19.000000</td>\n",
       "      <td>26.000000</td>\n",
       "      <td>3474.500000</td>\n",
       "      <td>107.000000</td>\n",
       "      <td>187.000000</td>\n",
       "    </tr>\n",
       "    <tr>\n",
       "      <th>75%</th>\n",
       "      <td>35710.250000</td>\n",
       "      <td>3.900000</td>\n",
       "      <td>6.000000</td>\n",
       "      <td>255.000000</td>\n",
       "      <td>21.250000</td>\n",
       "      <td>29.000000</td>\n",
       "      <td>3977.750000</td>\n",
       "      <td>112.000000</td>\n",
       "      <td>194.000000</td>\n",
       "    </tr>\n",
       "    <tr>\n",
       "      <th>max</th>\n",
       "      <td>173560.000000</td>\n",
       "      <td>8.300000</td>\n",
       "      <td>12.000000</td>\n",
       "      <td>500.000000</td>\n",
       "      <td>60.000000</td>\n",
       "      <td>66.000000</td>\n",
       "      <td>7190.000000</td>\n",
       "      <td>144.000000</td>\n",
       "      <td>238.000000</td>\n",
       "    </tr>\n",
       "  </tbody>\n",
       "</table>\n",
       "</div>"
      ],
      "text/plain": [
       "             Invoice  EngineSize   Cylinders  Horsepower    MPG_City  \\\n",
       "count     428.000000  428.000000  426.000000  428.000000  428.000000   \n",
       "mean    30014.700935    3.196729    5.807512  215.885514   20.060748   \n",
       "std     17642.117750    1.108595    1.558443   71.836032    5.238218   \n",
       "min      9875.000000    1.300000    3.000000   73.000000   10.000000   \n",
       "25%     18866.000000    2.375000    4.000000  165.000000   17.000000   \n",
       "50%     25294.500000    3.000000    6.000000  210.000000   19.000000   \n",
       "75%     35710.250000    3.900000    6.000000  255.000000   21.250000   \n",
       "max    173560.000000    8.300000   12.000000  500.000000   60.000000   \n",
       "\n",
       "       MPG_Highway       Weight   Wheelbase      Length  \n",
       "count   428.000000   428.000000  428.000000  428.000000  \n",
       "mean     26.843458  3577.953271  108.154206  186.362150  \n",
       "std       5.741201   758.983215    8.311813   14.357991  \n",
       "min      12.000000  1850.000000   89.000000  143.000000  \n",
       "25%      24.000000  3104.000000  103.000000  178.000000  \n",
       "50%      26.000000  3474.500000  107.000000  187.000000  \n",
       "75%      29.000000  3977.750000  112.000000  194.000000  \n",
       "max      66.000000  7190.000000  144.000000  238.000000  "
      ]
     },
     "execution_count": 31,
     "metadata": {},
     "output_type": "execute_result"
    }
   ],
   "source": [
    "df.describe()"
   ]
  },
  {
   "cell_type": "code",
   "execution_count": 35,
   "metadata": {},
   "outputs": [
    {
     "name": "stdout",
     "output_type": "stream",
     "text": [
      "8.136511789521414\n"
     ]
    }
   ],
   "source": [
    "print((173560.000000-30014.700935)/17642.117750)"
   ]
  },
  {
   "cell_type": "code",
   "execution_count": 36,
   "metadata": {},
   "outputs": [
    {
     "data": {
      "text/plain": [
       "<AxesSubplot:>"
      ]
     },
     "execution_count": 36,
     "metadata": {},
     "output_type": "execute_result"
    },
    {
     "data": {
      "image/png": "[encoded data removed]",
      "text/plain": [
       "<Figure size 432x288 with 1 Axes>"
      ]
     },
     "metadata": {
      "needs_background": "light"
     },
     "output_type": "display_data"
    }
   ],
   "source": [
    "df[\"Invoice\"].hist(bins=50)"
   ]
  },
  {
   "cell_type": "code",
   "execution_count": 41,
   "metadata": {},
   "outputs": [
    {
     "data": {
      "application/vnd.plotly.v1+json": {
       "config": {
        "plotlyServerURL": "https://plot.ly"
       },
       "data": [
        {
         "alignmentgroup": "True",
         "bingroup": "x",
         "hovertemplate": "Invoice=%{x}<br>count=%{y}<extra></extra>",
         "legendgroup": "",
         "marker": {
          "color": "#636efa",
          "pattern": {
           "shape": ""
          }
         },
         "name": "",
         "nbinsx": 50,
         "offsetgroup": "",
         "orientation": "v",
         "showlegend": false,
         "type": "histogram",
         "x": [
          33337,
          21761,
          24647,
          30299,
          39014,
          41100,
          79978,
          23508,
          32506,
          28846,
          30366,
          31388,
          33129,
          35992,
          38325,
          40075,
          38840,
          44936,
          64740,
          43556,
          76417,
          32512,
          33891,
          36739,
          37060,
          44446,
          33873,
          47720,
          26155,
          28245,
          34800,
          27745,
          32525,
          33890,
          34115,
          36620,
          40530,
          41170,
          50270,
          63190,
          66830,
          44170,
          51815,
          31065,
          37575,
          30110,
          34357,
          24085,
          20351,
          24282,
          22835,
          26047,
          29566,
          32244,
          36927,
          48377,
          43523,
          28575,
          41650,
          46362,
          43841,
          70546,
          48541,
          37422,
          36287,
          27479,
          19108,
          10965,
          11802,
          13697,
          13884,
          15357,
          20095,
          17434,
          18639,
          20026,
          22931,
          25672,
          21551,
          22222,
          23954,
          24518,
          39068,
          45193,
          31689,
          17070,
          18480,
          35399,
          39306,
          20394,
          16919,
          20573,
          17805,
          20284,
          27797,
          22452,
          24909,
          24172,
          23451,
          30884,
          28613,
          25371,
          35063,
          32033,
          28725,
          29472,
          12849,
          14086,
          20502,
          17512,
          18821,
          23058,
          20508,
          29812,
          74451,
          16264,
          18670,
          18076,
          36494,
          30468,
          26983,
          20907,
          12482,
          12906,
          14496,
          14607,
          17878,
          18881,
          20857,
          22856,
          25105,
          27756,
          24498,
          16943,
          26875,
          34483,
          19490,
          29405,
          13717,
          16375,
          20457,
          28922,
          31361,
          40534,
          23215,
          14877,
          22604,
          25759,
          23043,
          18451,
          17911,
          24843,
          18419,
          17334,
          12175,
          12996,
          14531,
          17924,
          20080,
          16265,
          17849,
          21428,
          24304,
          22498,
          24744,
          29965,
          45815,
          20201,
          10107,
          11116,
          11209,
          12781,
          14207,
          14207,
          17574,
          18380,
          22055,
          23486,
          17101,
          26157,
          27536,
          29783,
          28320,
          38792,
          47575,
          31756,
          33121,
          29977,
          19261,
          27355,
          30995,
          40004,
          45556,
          57499,
          62846,
          54656,
          68306,
          63756,
          68306,
          74676,
          79226,
          25686,
          18973,
          23275,
          18630,
          14910,
          9875,
          10705,
          11630,
          12830,
          13790,
          16850,
          23764,
          19400,
          11410,
          65807,
          35777,
          23969,
          39838,
          56455,
          34576,
          28755,
          27404,
          28611,
          36196,
          42232,
          48583,
          55063,
          28647,
          46360,
          39443,
          29969,
          33929,
          36809,
          39869,
          38418,
          41217,
          46208,
          15437,
          18137,
          19742,
          14525,
          15922,
          17817,
          26600,
          20701,
          23285,
          23794,
          25179,
          14070,
          20482,
          71540,
          43268,
          24249,
          26435,
          30071,
          31187,
          33456,
          35046,
          36162,
          48522,
          88324,
          119600,
          41966,
          49104,
          44849,
          53382,
          69168,
          80939,
          84325,
          113388,
          117854,
          37548,
          52289,
          31466,
          47174,
          56474,
          27317,
          19848,
          23217,
          27148,
          21918,
          28318,
          31558,
          30846,
          20748,
          28330,
          30763,
          17569,
          13751,
          15718,
          17957,
          16196,
          27250,
          23883,
          23456,
          25218,
          27466,
          16295,
          30815,
          25972,
          19512,
          12205,
          13747,
          18030,
          16444,
          21580,
          25182,
          26966,
          22958,
          30019,
          25203,
          31845,
          18253,
          24926,
          27300,
          17642,
          21485,
          26120,
          19810,
          14375,
          20595,
          20545,
          16369,
          22284,
          32997,
          21644,
          28454,
          30710,
          15973,
          49865,
          69229,
          72206,
          67128,
          173560,
          37886,
          45766,
          29269,
          31562,
          33011,
          37721,
          38520,
          40883,
          38376,
          19238,
          10319,
          13393,
          14811,
          13904,
          15299,
          19801,
          21779,
          12340,
          13480,
          18399,
          18713,
          23336,
          24687,
          26660,
          28603,
          23022,
          29130,
          22304,
          19646,
          21773,
          22307,
          16949,
          12719,
          14317,
          12116,
          15378,
          17053,
          16291,
          18926,
          31827,
          24801,
          24915,
          47986,
          18553,
          13065,
          13650,
          13889,
          10144,
          10896,
          10642,
          17558,
          20325,
          17722,
          19819,
          23693,
          23125,
          23908,
          27271,
          21198,
          25690,
          20363,
          22787,
          11879,
          14978,
          23520,
          15156,
          32243,
          17478,
          18109,
          19638,
          19638,
          21686,
          21689,
          21898,
          30583,
          36052,
          59912,
          69130,
          17427,
          22801,
          36956,
          38851,
          23701,
          29916,
          32902,
          35382,
          35542,
          35688,
          38203,
          40083,
          42573,
          24641,
          33112
         ],
         "xaxis": "x",
         "yaxis": "y"
        }
       ],
       "layout": {
        "barmode": "relative",
        "legend": {
         "tracegroupgap": 0
        },
        "margin": {
         "t": 60
        },
        "template": {
         "data": {
          "bar": [
           {
            "error_x": {
             "color": "#2a3f5f"
            },
            "error_y": {
             "color": "#2a3f5f"
            },
            "marker": {
             "line": {
              "color": "#E5ECF6",
              "width": 0.5
             },
             "pattern": {
              "fillmode": "overlay",
              "size": 10,
              "solidity": 0.2
             }
            },
            "type": "bar"
           }
          ],
          "barpolar": [
           {
            "marker": {
             "line": {
              "color": "#E5ECF6",
              "width": 0.5
             },
             "pattern": {
              "fillmode": "overlay",
              "size": 10,
              "solidity": 0.2
             }
            },
            "type": "barpolar"
           }
          ],
          "carpet": [
           {
            "aaxis": {
             "endlinecolor": "#2a3f5f",
             "gridcolor": "white",
             "linecolor": "white",
             "minorgridcolor": "white",
             "startlinecolor": "#2a3f5f"
            },
            "baxis": {
             "endlinecolor": "#2a3f5f",
             "gridcolor": "white",
             "linecolor": "white",
             "minorgridcolor": "white",
             "startlinecolor": "#2a3f5f"
            },
            "type": "carpet"
           }
          ],
          "choropleth": [
           {
            "colorbar": {
             "outlinewidth": 0,
             "ticks": ""
            },
            "type": "choropleth"
           }
          ],
          "contour": [
           {
            "colorbar": {
             "outlinewidth": 0,
             "ticks": ""
            },
            "colorscale": [
             [
              0,
              "#0d0887"
             ],
             [
              0.1111111111111111,
              "#46039f"
             ],
             [
              0.2222222222222222,
              "#7201a8"
             ],
             [
              0.3333333333333333,
              "#9c179e"
             ],
             [
              0.4444444444444444,
              "#bd3786"
             ],
             [
              0.5555555555555556,
              "#d8576b"
             ],
             [
              0.6666666666666666,
              "#ed7953"
             ],
             [
              0.7777777777777778,
              "#fb9f3a"
             ],
             [
              0.8888888888888888,
              "#fdca26"
             ],
             [
              1,
              "#f0f921"
             ]
            ],
            "type": "contour"
           }
          ],
          "contourcarpet": [
           {
            "colorbar": {
             "outlinewidth": 0,
             "ticks": ""
            },
            "type": "contourcarpet"
           }
          ],
          "heatmap": [
           {
            "colorbar": {
             "outlinewidth": 0,
             "ticks": ""
            },
            "colorscale": [
             [
              0,
              "#0d0887"
             ],
             [
              0.1111111111111111,
              "#46039f"
             ],
             [
              0.2222222222222222,
              "#7201a8"
             ],
             [
              0.3333333333333333,
              "#9c179e"
             ],
             [
              0.4444444444444444,
              "#bd3786"
             ],
             [
              0.5555555555555556,
              "#d8576b"
             ],
             [
              0.6666666666666666,
              "#ed7953"
             ],
             [
              0.7777777777777778,
              "#fb9f3a"
             ],
             [
              0.8888888888888888,
              "#fdca26"
             ],
             [
              1,
              "#f0f921"
             ]
            ],
            "type": "heatmap"
           }
          ],
          "heatmapgl": [
           {
            "colorbar": {
             "outlinewidth": 0,
             "ticks": ""
            },
            "colorscale": [
             [
              0,
              "#0d0887"
             ],
             [
              0.1111111111111111,
              "#46039f"
             ],
             [
              0.2222222222222222,
              "#7201a8"
             ],
             [
              0.3333333333333333,
              "#9c179e"
             ],
             [
              0.4444444444444444,
              "#bd3786"
             ],
             [
              0.5555555555555556,
              "#d8576b"
             ],
             [
              0.6666666666666666,
              "#ed7953"
             ],
             [
              0.7777777777777778,
              "#fb9f3a"
             ],
             [
              0.8888888888888888,
              "#fdca26"
             ],
             [
              1,
              "#f0f921"
             ]
            ],
            "type": "heatmapgl"
           }
          ],
          "histogram": [
           {
            "marker": {
             "pattern": {
              "fillmode": "overlay",
              "size": 10,
              "solidity": 0.2
             }
            },
            "type": "histogram"
           }
          ],
          "histogram2d": [
           {
            "colorbar": {
             "outlinewidth": 0,
             "ticks": ""
            },
            "colorscale": [
             [
              0,
              "#0d0887"
             ],
             [
              0.1111111111111111,
              "#46039f"
             ],
             [
              0.2222222222222222,
              "#7201a8"
             ],
             [
              0.3333333333333333,
              "#9c179e"
             ],
             [
              0.4444444444444444,
              "#bd3786"
             ],
             [
              0.5555555555555556,
              "#d8576b"
             ],
             [
              0.6666666666666666,
              "#ed7953"
             ],
             [
              0.7777777777777778,
              "#fb9f3a"
             ],
             [
              0.8888888888888888,
              "#fdca26"
             ],
             [
              1,
              "#f0f921"
             ]
            ],
            "type": "histogram2d"
           }
          ],
          "histogram2dcontour": [
           {
            "colorbar": {
             "outlinewidth": 0,
             "ticks": ""
            },
            "colorscale": [
             [
              0,
              "#0d0887"
             ],
             [
              0.1111111111111111,
              "#46039f"
             ],
             [
              0.2222222222222222,
              "#7201a8"
             ],
             [
              0.3333333333333333,
              "#9c179e"
             ],
             [
              0.4444444444444444,
              "#bd3786"
             ],
             [
              0.5555555555555556,
              "#d8576b"
             ],
             [
              0.6666666666666666,
              "#ed7953"
             ],
             [
              0.7777777777777778,
              "#fb9f3a"
             ],
             [
              0.8888888888888888,
              "#fdca26"
             ],
             [
              1,
              "#f0f921"
             ]
            ],
            "type": "histogram2dcontour"
           }
          ],
          "mesh3d": [
           {
            "colorbar": {
             "outlinewidth": 0,
             "ticks": ""
            },
            "type": "mesh3d"
           }
          ],
          "parcoords": [
           {
            "line": {
             "colorbar": {
              "outlinewidth": 0,
              "ticks": ""
             }
            },
            "type": "parcoords"
           }
          ],
          "pie": [
           {
            "automargin": true,
            "type": "pie"
           }
          ],
          "scatter": [
           {
            "fillpattern": {
             "fillmode": "overlay",
             "size": 10,
             "solidity": 0.2
            },
            "type": "scatter"
           }
          ],
          "scatter3d": [
           {
            "line": {
             "colorbar": {
              "outlinewidth": 0,
              "ticks": ""
             }
            },
            "marker": {
             "colorbar": {
              "outlinewidth": 0,
              "ticks": ""
             }
            },
            "type": "scatter3d"
           }
          ],
          "scattercarpet": [
           {
            "marker": {
             "colorbar": {
              "outlinewidth": 0,
              "ticks": ""
             }
            },
            "type": "scattercarpet"
           }
          ],
          "scattergeo": [
           {
            "marker": {
             "colorbar": {
              "outlinewidth": 0,
              "ticks": ""
             }
            },
            "type": "scattergeo"
           }
          ],
          "scattergl": [
           {
            "marker": {
             "colorbar": {
              "outlinewidth": 0,
              "ticks": ""
             }
            },
            "type": "scattergl"
           }
          ],
          "scattermapbox": [
           {
            "marker": {
             "colorbar": {
              "outlinewidth": 0,
              "ticks": ""
             }
            },
            "type": "scattermapbox"
           }
          ],
          "scatterpolar": [
           {
            "marker": {
             "colorbar": {
              "outlinewidth": 0,
              "ticks": ""
             }
            },
            "type": "scatterpolar"
           }
          ],
          "scatterpolargl": [
           {
            "marker": {
             "colorbar": {
              "outlinewidth": 0,
              "ticks": ""
             }
            },
            "type": "scatterpolargl"
           }
          ],
          "scatterternary": [
           {
            "marker": {
             "colorbar": {
              "outlinewidth": 0,
              "ticks": ""
             }
            },
            "type": "scatterternary"
           }
          ],
          "surface": [
           {
            "colorbar": {
             "outlinewidth": 0,
             "ticks": ""
            },
            "colorscale": [
             [
              0,
              "#0d0887"
             ],
             [
              0.1111111111111111,
              "#46039f"
             ],
             [
              0.2222222222222222,
              "#7201a8"
             ],
             [
              0.3333333333333333,
              "#9c179e"
             ],
             [
              0.4444444444444444,
              "#bd3786"
             ],
             [
              0.5555555555555556,
              "#d8576b"
             ],
             [
              0.6666666666666666,
              "#ed7953"
             ],
             [
              0.7777777777777778,
              "#fb9f3a"
             ],
             [
              0.8888888888888888,
              "#fdca26"
             ],
             [
              1,
              "#f0f921"
             ]
            ],
            "type": "surface"
           }
          ],
          "table": [
           {
            "cells": {
             "fill": {
              "color": "#EBF0F8"
             },
             "line": {
              "color": "white"
             }
            },
            "header": {
             "fill": {
              "color": "#C8D4E3"
             },
             "line": {
              "color": "white"
             }
            },
            "type": "table"
           }
          ]
         },
         "layout": {
          "annotationdefaults": {
           "arrowcolor": "#2a3f5f",
           "arrowhead": 0,
           "arrowwidth": 1
          },
          "autotypenumbers": "strict",
          "coloraxis": {
           "colorbar": {
            "outlinewidth": 0,
            "ticks": ""
           }
          },
          "colorscale": {
           "diverging": [
            [
             0,
             "#8e0152"
            ],
            [
             0.1,
             "#c51b7d"
            ],
            [
             0.2,
             "#de77ae"
            ],
            [
             0.3,
             "#f1b6da"
            ],
            [
             0.4,
             "#fde0ef"
            ],
            [
             0.5,
             "#f7f7f7"
            ],
            [
             0.6,
             "#e6f5d0"
            ],
            [
             0.7,
             "#b8e186"
            ],
            [
             0.8,
             "#7fbc41"
            ],
            [
             0.9,
             "#4d9221"
            ],
            [
             1,
             "#276419"
            ]
           ],
           "sequential": [
            [
             0,
             "#0d0887"
            ],
            [
             0.1111111111111111,
             "#46039f"
            ],
            [
             0.2222222222222222,
             "#7201a8"
            ],
            [
             0.3333333333333333,
             "#9c179e"
            ],
            [
             0.4444444444444444,
             "#bd3786"
            ],
            [
             0.5555555555555556,
             "#d8576b"
            ],
            [
             0.6666666666666666,
             "#ed7953"
            ],
            [
             0.7777777777777778,
             "#fb9f3a"
            ],
            [
             0.8888888888888888,
             "#fdca26"
            ],
            [
             1,
             "#f0f921"
            ]
           ],
           "sequentialminus": [
            [
             0,
             "#0d0887"
            ],
            [
             0.1111111111111111,
             "#46039f"
            ],
            [
             0.2222222222222222,
             "#7201a8"
            ],
            [
             0.3333333333333333,
             "#9c179e"
            ],
            [
             0.4444444444444444,
             "#bd3786"
            ],
            [
             0.5555555555555556,
             "#d8576b"
            ],
            [
             0.6666666666666666,
             "#ed7953"
            ],
            [
             0.7777777777777778,
             "#fb9f3a"
            ],
            [
             0.8888888888888888,
             "#fdca26"
            ],
            [
             1,
             "#f0f921"
            ]
           ]
          },
          "colorway": [
           "#636efa",
           "#EF553B",
           "#00cc96",
           "#ab63fa",
           "#FFA15A",
           "#19d3f3",
           "#FF6692",
           "#B6E880",
           "#FF97FF",
           "#FECB52"
          ],
          "font": {
           "color": "#2a3f5f"
          },
          "geo": {
           "bgcolor": "white",
           "lakecolor": "white",
           "landcolor": "#E5ECF6",
           "showlakes": true,
           "showland": true,
           "subunitcolor": "white"
          },
          "hoverlabel": {
           "align": "left"
          },
          "hovermode": "closest",
          "mapbox": {
           "style": "light"
          },
          "paper_bgcolor": "white",
          "plot_bgcolor": "#E5ECF6",
          "polar": {
           "angularaxis": {
            "gridcolor": "white",
            "linecolor": "white",
            "ticks": ""
           },
           "bgcolor": "#E5ECF6",
           "radialaxis": {
            "gridcolor": "white",
            "linecolor": "white",
            "ticks": ""
           }
          },
          "scene": {
           "xaxis": {
            "backgroundcolor": "#E5ECF6",
            "gridcolor": "white",
            "gridwidth": 2,
            "linecolor": "white",
            "showbackground": true,
            "ticks": "",
            "zerolinecolor": "white"
           },
           "yaxis": {
            "backgroundcolor": "#E5ECF6",
            "gridcolor": "white",
            "gridwidth": 2,
            "linecolor": "white",
            "showbackground": true,
            "ticks": "",
            "zerolinecolor": "white"
           },
           "zaxis": {
            "backgroundcolor": "#E5ECF6",
            "gridcolor": "white",
            "gridwidth": 2,
            "linecolor": "white",
            "showbackground": true,
            "ticks": "",
            "zerolinecolor": "white"
           }
          },
          "shapedefaults": {
           "line": {
            "color": "#2a3f5f"
           }
          },
          "ternary": {
           "aaxis": {
            "gridcolor": "white",
            "linecolor": "white",
            "ticks": ""
           },
           "baxis": {
            "gridcolor": "white",
            "linecolor": "white",
            "ticks": ""
           },
           "bgcolor": "#E5ECF6",
           "caxis": {
            "gridcolor": "white",
            "linecolor": "white",
            "ticks": ""
           }
          },
          "title": {
           "x": 0.05
          },
          "xaxis": {
           "automargin": true,
           "gridcolor": "white",
           "linecolor": "white",
           "ticks": "",
           "title": {
            "standoff": 15
           },
           "zerolinecolor": "white",
           "zerolinewidth": 2
          },
          "yaxis": {
           "automargin": true,
           "gridcolor": "white",
           "linecolor": "white",
           "ticks": "",
           "title": {
            "standoff": 15
           },
           "zerolinecolor": "white",
           "zerolinewidth": 2
          }
         }
        },
        "xaxis": {
         "anchor": "y",
         "domain": [
          0,
          1
         ],
         "title": {
          "text": "Invoice"
         }
        },
        "yaxis": {
         "anchor": "x",
         "domain": [
          0,
          1
         ],
         "title": {
          "text": "count"
         }
        }
       }
      },
      "text/html": [
       "<div>                            <div id=\"6b1a86ca-673c-40ff-a030-5aac6d2785ed\" class=\"plotly-graph-div\" style=\"height:525px; width:100%;\"></div>            <script type=\"text/javascript\">                require([\"plotly\"], function(Plotly) {                    window.PLOTLYENV=window.PLOTLYENV || {};                                    if (document.getElementById(\"6b1a86ca-673c-40ff-a030-5aac6d2785ed\")) {                    Plotly.newPlot(                        \"6b1a86ca-673c-40ff-a030-5aac6d2785ed\",                        [{\"alignmentgroup\":\"True\",\"bingroup\":\"x\",\"hovertemplate\":\"Invoice=%{x}<br>count=%{y}<extra></extra>\",\"legendgroup\":\"\",\"marker\":{\"color\":\"#636efa\",\"pattern\":{\"shape\":\"\"}},\"name\":\"\",\"nbinsx\":50,\"offsetgroup\":\"\",\"orientation\":\"v\",\"showlegend\":false,\"x\":[33337.0,21761.0,24647.0,30299.0,39014.0,41100.0,79978.0,23508.0,32506.0,28846.0,30366.0,31388.0,33129.0,35992.0,38325.0,40075.0,38840.0,44936.0,64740.0,43556.0,76417.0,32512.0,33891.0,36739.0,37060.0,44446.0,33873.0,47720.0,26155.0,28245.0,34800.0,27745.0,32525.0,33890.0,34115.0,36620.0,40530.0,41170.0,50270.0,63190.0,66830.0,44170.0,51815.0,31065.0,37575.0,30110.0,34357.0,24085.0,20351.0,24282.0,22835.0,26047.0,29566.0,32244.0,36927.0,48377.0,43523.0,28575.0,41650.0,46362.0,43841.0,70546.0,48541.0,37422.0,36287.0,27479.0,19108.0,10965.0,11802.0,13697.0,13884.0,15357.0,20095.0,17434.0,18639.0,20026.0,22931.0,25672.0,21551.0,22222.0,23954.0,24518.0,39068.0,45193.0,31689.0,17070.0,18480.0,35399.0,39306.0,20394.0,16919.0,20573.0,17805.0,20284.0,27797.0,22452.0,24909.0,24172.0,23451.0,30884.0,28613.0,25371.0,35063.0,32033.0,28725.0,29472.0,12849.0,14086.0,20502.0,17512.0,18821.0,23058.0,20508.0,29812.0,74451.0,16264.0,18670.0,18076.0,36494.0,30468.0,26983.0,20907.0,12482.0,12906.0,14496.0,14607.0,17878.0,18881.0,20857.0,22856.0,25105.0,27756.0,24498.0,16943.0,26875.0,34483.0,19490.0,29405.0,13717.0,16375.0,20457.0,28922.0,31361.0,40534.0,23215.0,14877.0,22604.0,25759.0,23043.0,18451.0,17911.0,24843.0,18419.0,17334.0,12175.0,12996.0,14531.0,17924.0,20080.0,16265.0,17849.0,21428.0,24304.0,22498.0,24744.0,29965.0,45815.0,20201.0,10107.0,11116.0,11209.0,12781.0,14207.0,14207.0,17574.0,18380.0,22055.0,23486.0,17101.0,26157.0,27536.0,29783.0,28320.0,38792.0,47575.0,31756.0,33121.0,29977.0,19261.0,27355.0,30995.0,40004.0,45556.0,57499.0,62846.0,54656.0,68306.0,63756.0,68306.0,74676.0,79226.0,25686.0,18973.0,23275.0,18630.0,14910.0,9875.0,10705.0,11630.0,12830.0,13790.0,16850.0,23764.0,19400.0,11410.0,65807.0,35777.0,23969.0,39838.0,56455.0,34576.0,28755.0,27404.0,28611.0,36196.0,42232.0,48583.0,55063.0,28647.0,46360.0,39443.0,29969.0,33929.0,36809.0,39869.0,38418.0,41217.0,46208.0,15437.0,18137.0,19742.0,14525.0,15922.0,17817.0,26600.0,20701.0,23285.0,23794.0,25179.0,14070.0,20482.0,71540.0,43268.0,24249.0,26435.0,30071.0,31187.0,33456.0,35046.0,36162.0,48522.0,88324.0,119600.0,41966.0,49104.0,44849.0,53382.0,69168.0,80939.0,84325.0,113388.0,117854.0,37548.0,52289.0,31466.0,47174.0,56474.0,27317.0,19848.0,23217.0,27148.0,21918.0,28318.0,31558.0,30846.0,20748.0,28330.0,30763.0,17569.0,13751.0,15718.0,17957.0,16196.0,27250.0,23883.0,23456.0,25218.0,27466.0,16295.0,30815.0,25972.0,19512.0,12205.0,13747.0,18030.0,16444.0,21580.0,25182.0,26966.0,22958.0,30019.0,25203.0,31845.0,18253.0,24926.0,27300.0,17642.0,21485.0,26120.0,19810.0,14375.0,20595.0,20545.0,16369.0,22284.0,32997.0,21644.0,28454.0,30710.0,15973.0,49865.0,69229.0,72206.0,67128.0,173560.0,37886.0,45766.0,29269.0,31562.0,33011.0,37721.0,38520.0,40883.0,38376.0,19238.0,10319.0,13393.0,14811.0,13904.0,15299.0,19801.0,21779.0,12340.0,13480.0,18399.0,18713.0,23336.0,24687.0,26660.0,28603.0,23022.0,29130.0,22304.0,19646.0,21773.0,22307.0,16949.0,12719.0,14317.0,12116.0,15378.0,17053.0,16291.0,18926.0,31827.0,24801.0,24915.0,47986.0,18553.0,13065.0,13650.0,13889.0,10144.0,10896.0,10642.0,17558.0,20325.0,17722.0,19819.0,23693.0,23125.0,23908.0,27271.0,21198.0,25690.0,20363.0,22787.0,11879.0,14978.0,23520.0,15156.0,32243.0,17478.0,18109.0,19638.0,19638.0,21686.0,21689.0,21898.0,30583.0,36052.0,59912.0,69130.0,17427.0,22801.0,36956.0,38851.0,23701.0,29916.0,32902.0,35382.0,35542.0,35688.0,38203.0,40083.0,42573.0,24641.0,33112.0],\"xaxis\":\"x\",\"yaxis\":\"y\",\"type\":\"histogram\"}],                        {\"template\":{\"data\":{\"histogram2dcontour\":[{\"type\":\"histogram2dcontour\",\"colorbar\":{\"outlinewidth\":0,\"ticks\":\"\"},\"colorscale\":[[0.0,\"#0d0887\"],[0.1111111111111111,\"#46039f\"],[0.2222222222222222,\"#7201a8\"],[0.3333333333333333,\"#9c179e\"],[0.4444444444444444,\"#bd3786\"],[0.5555555555555556,\"#d8576b\"],[0.6666666666666666,\"#ed7953\"],[0.7777777777777778,\"#fb9f3a\"],[0.8888888888888888,\"#fdca26\"],[1.0,\"#f0f921\"]]}],\"choropleth\":[{\"type\":\"choropleth\",\"colorbar\":{\"outlinewidth\":0,\"ticks\":\"\"}}],\"histogram2d\":[{\"type\":\"histogram2d\",\"colorbar\":{\"outlinewidth\":0,\"ticks\":\"\"},\"colorscale\":[[0.0,\"#0d0887\"],[0.1111111111111111,\"#46039f\"],[0.2222222222222222,\"#7201a8\"],[0.3333333333333333,\"#9c179e\"],[0.4444444444444444,\"#bd3786\"],[0.5555555555555556,\"#d8576b\"],[0.6666666666666666,\"#ed7953\"],[0.7777777777777778,\"#fb9f3a\"],[0.8888888888888888,\"#fdca26\"],[1.0,\"#f0f921\"]]}],\"heatmap\":[{\"type\":\"heatmap\",\"colorbar\":{\"outlinewidth\":0,\"ticks\":\"\"},\"colorscale\":[[0.0,\"#0d0887\"],[0.1111111111111111,\"#46039f\"],[0.2222222222222222,\"#7201a8\"],[0.3333333333333333,\"#9c179e\"],[0.4444444444444444,\"#bd3786\"],[0.5555555555555556,\"#d8576b\"],[0.6666666666666666,\"#ed7953\"],[0.7777777777777778,\"#fb9f3a\"],[0.8888888888888888,\"#fdca26\"],[1.0,\"#f0f921\"]]}],\"heatmapgl\":[{\"type\":\"heatmapgl\",\"colorbar\":{\"outlinewidth\":0,\"ticks\":\"\"},\"colorscale\":[[0.0,\"#0d0887\"],[0.1111111111111111,\"#46039f\"],[0.2222222222222222,\"#7201a8\"],[0.3333333333333333,\"#9c179e\"],[0.4444444444444444,\"#bd3786\"],[0.5555555555555556,\"#d8576b\"],[0.6666666666666666,\"#ed7953\"],[0.7777777777777778,\"#fb9f3a\"],[0.8888888888888888,\"#fdca26\"],[1.0,\"#f0f921\"]]}],\"contourcarpet\":[{\"type\":\"contourcarpet\",\"colorbar\":{\"outlinewidth\":0,\"ticks\":\"\"}}],\"contour\":[{\"type\":\"contour\",\"colorbar\":{\"outlinewidth\":0,\"ticks\":\"\"},\"colorscale\":[[0.0,\"#0d0887\"],[0.1111111111111111,\"#46039f\"],[0.2222222222222222,\"#7201a8\"],[0.3333333333333333,\"#9c179e\"],[0.4444444444444444,\"#bd3786\"],[0.5555555555555556,\"#d8576b\"],[0.6666666666666666,\"#ed7953\"],[0.7777777777777778,\"#fb9f3a\"],[0.8888888888888888,\"#fdca26\"],[1.0,\"#f0f921\"]]}],\"surface\":[{\"type\":\"surface\",\"colorbar\":{\"outlinewidth\":0,\"ticks\":\"\"},\"colorscale\":[[0.0,\"#0d0887\"],[0.1111111111111111,\"#46039f\"],[0.2222222222222222,\"#7201a8\"],[0.3333333333333333,\"#9c179e\"],[0.4444444444444444,\"#bd3786\"],[0.5555555555555556,\"#d8576b\"],[0.6666666666666666,\"#ed7953\"],[0.7777777777777778,\"#fb9f3a\"],[0.8888888888888888,\"#fdca26\"],[1.0,\"#f0f921\"]]}],\"mesh3d\":[{\"type\":\"mesh3d\",\"colorbar\":{\"outlinewidth\":0,\"ticks\":\"\"}}],\"scatter\":[{\"fillpattern\":{\"fillmode\":\"overlay\",\"size\":10,\"solidity\":0.2},\"type\":\"scatter\"}],\"parcoords\":[{\"type\":\"parcoords\",\"line\":{\"colorbar\":{\"outlinewidth\":0,\"ticks\":\"\"}}}],\"scatterpolargl\":[{\"type\":\"scatterpolargl\",\"marker\":{\"colorbar\":{\"outlinewidth\":0,\"ticks\":\"\"}}}],\"bar\":[{\"error_x\":{\"color\":\"#2a3f5f\"},\"error_y\":{\"color\":\"#2a3f5f\"},\"marker\":{\"line\":{\"color\":\"#E5ECF6\",\"width\":0.5},\"pattern\":{\"fillmode\":\"overlay\",\"size\":10,\"solidity\":0.2}},\"type\":\"bar\"}],\"scattergeo\":[{\"type\":\"scattergeo\",\"marker\":{\"colorbar\":{\"outlinewidth\":0,\"ticks\":\"\"}}}],\"scatterpolar\":[{\"type\":\"scatterpolar\",\"marker\":{\"colorbar\":{\"outlinewidth\":0,\"ticks\":\"\"}}}],\"histogram\":[{\"marker\":{\"pattern\":{\"fillmode\":\"overlay\",\"size\":10,\"solidity\":0.2}},\"type\":\"histogram\"}],\"scattergl\":[{\"type\":\"scattergl\",\"marker\":{\"colorbar\":{\"outlinewidth\":0,\"ticks\":\"\"}}}],\"scatter3d\":[{\"type\":\"scatter3d\",\"line\":{\"colorbar\":{\"outlinewidth\":0,\"ticks\":\"\"}},\"marker\":{\"colorbar\":{\"outlinewidth\":0,\"ticks\":\"\"}}}],\"scattermapbox\":[{\"type\":\"scattermapbox\",\"marker\":{\"colorbar\":{\"outlinewidth\":0,\"ticks\":\"\"}}}],\"scatterternary\":[{\"type\":\"scatterternary\",\"marker\":{\"colorbar\":{\"outlinewidth\":0,\"ticks\":\"\"}}}],\"scattercarpet\":[{\"type\":\"scattercarpet\",\"marker\":{\"colorbar\":{\"outlinewidth\":0,\"ticks\":\"\"}}}],\"carpet\":[{\"aaxis\":{\"endlinecolor\":\"#2a3f5f\",\"gridcolor\":\"white\",\"linecolor\":\"white\",\"minorgridcolor\":\"white\",\"startlinecolor\":\"#2a3f5f\"},\"baxis\":{\"endlinecolor\":\"#2a3f5f\",\"gridcolor\":\"white\",\"linecolor\":\"white\",\"minorgridcolor\":\"white\",\"startlinecolor\":\"#2a3f5f\"},\"type\":\"carpet\"}],\"table\":[{\"cells\":{\"fill\":{\"color\":\"#EBF0F8\"},\"line\":{\"color\":\"white\"}},\"header\":{\"fill\":{\"color\":\"#C8D4E3\"},\"line\":{\"color\":\"white\"}},\"type\":\"table\"}],\"barpolar\":[{\"marker\":{\"line\":{\"color\":\"#E5ECF6\",\"width\":0.5},\"pattern\":{\"fillmode\":\"overlay\",\"size\":10,\"solidity\":0.2}},\"type\":\"barpolar\"}],\"pie\":[{\"automargin\":true,\"type\":\"pie\"}]},\"layout\":{\"autotypenumbers\":\"strict\",\"colorway\":[\"#636efa\",\"#EF553B\",\"#00cc96\",\"#ab63fa\",\"#FFA15A\",\"#19d3f3\",\"#FF6692\",\"#B6E880\",\"#FF97FF\",\"#FECB52\"],\"font\":{\"color\":\"#2a3f5f\"},\"hovermode\":\"closest\",\"hoverlabel\":{\"align\":\"left\"},\"paper_bgcolor\":\"white\",\"plot_bgcolor\":\"#E5ECF6\",\"polar\":{\"bgcolor\":\"#E5ECF6\",\"angularaxis\":{\"gridcolor\":\"white\",\"linecolor\":\"white\",\"ticks\":\"\"},\"radialaxis\":{\"gridcolor\":\"white\",\"linecolor\":\"white\",\"ticks\":\"\"}},\"ternary\":{\"bgcolor\":\"#E5ECF6\",\"aaxis\":{\"gridcolor\":\"white\",\"linecolor\":\"white\",\"ticks\":\"\"},\"baxis\":{\"gridcolor\":\"white\",\"linecolor\":\"white\",\"ticks\":\"\"},\"caxis\":{\"gridcolor\":\"white\",\"linecolor\":\"white\",\"ticks\":\"\"}},\"coloraxis\":{\"colorbar\":{\"outlinewidth\":0,\"ticks\":\"\"}},\"colorscale\":{\"sequential\":[[0.0,\"#0d0887\"],[0.1111111111111111,\"#46039f\"],[0.2222222222222222,\"#7201a8\"],[0.3333333333333333,\"#9c179e\"],[0.4444444444444444,\"#bd3786\"],[0.5555555555555556,\"#d8576b\"],[0.6666666666666666,\"#ed7953\"],[0.7777777777777778,\"#fb9f3a\"],[0.8888888888888888,\"#fdca26\"],[1.0,\"#f0f921\"]],\"sequentialminus\":[[0.0,\"#0d0887\"],[0.1111111111111111,\"#46039f\"],[0.2222222222222222,\"#7201a8\"],[0.3333333333333333,\"#9c179e\"],[0.4444444444444444,\"#bd3786\"],[0.5555555555555556,\"#d8576b\"],[0.6666666666666666,\"#ed7953\"],[0.7777777777777778,\"#fb9f3a\"],[0.8888888888888888,\"#fdca26\"],[1.0,\"#f0f921\"]],\"diverging\":[[0,\"#8e0152\"],[0.1,\"#c51b7d\"],[0.2,\"#de77ae\"],[0.3,\"#f1b6da\"],[0.4,\"#fde0ef\"],[0.5,\"#f7f7f7\"],[0.6,\"#e6f5d0\"],[0.7,\"#b8e186\"],[0.8,\"#7fbc41\"],[0.9,\"#4d9221\"],[1,\"#276419\"]]},\"xaxis\":{\"gridcolor\":\"white\",\"linecolor\":\"white\",\"ticks\":\"\",\"title\":{\"standoff\":15},\"zerolinecolor\":\"white\",\"automargin\":true,\"zerolinewidth\":2},\"yaxis\":{\"gridcolor\":\"white\",\"linecolor\":\"white\",\"ticks\":\"\",\"title\":{\"standoff\":15},\"zerolinecolor\":\"white\",\"automargin\":true,\"zerolinewidth\":2},\"scene\":{\"xaxis\":{\"backgroundcolor\":\"#E5ECF6\",\"gridcolor\":\"white\",\"linecolor\":\"white\",\"showbackground\":true,\"ticks\":\"\",\"zerolinecolor\":\"white\",\"gridwidth\":2},\"yaxis\":{\"backgroundcolor\":\"#E5ECF6\",\"gridcolor\":\"white\",\"linecolor\":\"white\",\"showbackground\":true,\"ticks\":\"\",\"zerolinecolor\":\"white\",\"gridwidth\":2},\"zaxis\":{\"backgroundcolor\":\"#E5ECF6\",\"gridcolor\":\"white\",\"linecolor\":\"white\",\"showbackground\":true,\"ticks\":\"\",\"zerolinecolor\":\"white\",\"gridwidth\":2}},\"shapedefaults\":{\"line\":{\"color\":\"#2a3f5f\"}},\"annotationdefaults\":{\"arrowcolor\":\"#2a3f5f\",\"arrowhead\":0,\"arrowwidth\":1},\"geo\":{\"bgcolor\":\"white\",\"landcolor\":\"#E5ECF6\",\"subunitcolor\":\"white\",\"showland\":true,\"showlakes\":true,\"lakecolor\":\"white\"},\"title\":{\"x\":0.05},\"mapbox\":{\"style\":\"light\"}}},\"xaxis\":{\"anchor\":\"y\",\"domain\":[0.0,1.0],\"title\":{\"text\":\"Invoice\"}},\"yaxis\":{\"anchor\":\"x\",\"domain\":[0.0,1.0],\"title\":{\"text\":\"count\"}},\"legend\":{\"tracegroupgap\":0},\"margin\":{\"t\":60},\"barmode\":\"relative\"},                        {\"responsive\": true}                    ).then(function(){\n",
       "                            \n",
       "var gd = document.getElementById('6b1a86ca-673c-40ff-a030-5aac6d2785ed');\n",
       "var x = new MutationObserver(function (mutations, observer) {{\n",
       "        var display = window.getComputedStyle(gd).display;\n",
       "        if (!display || display === 'none') {{\n",
       "            console.log([gd, 'removed!']);\n",
       "            Plotly.purge(gd);\n",
       "            observer.disconnect();\n",
       "        }}\n",
       "}});\n",
       "\n",
       "// Listen for the removal of the full notebook cells\n",
       "var notebookContainer = gd.closest('#notebook-container');\n",
       "if (notebookContainer) {{\n",
       "    x.observe(notebookContainer, {childList: true});\n",
       "}}\n",
       "\n",
       "// Listen for the clearing of the current output cell\n",
       "var outputEl = gd.closest('.output');\n",
       "if (outputEl) {{\n",
       "    x.observe(outputEl, {childList: true});\n",
       "}}\n",
       "\n",
       "                        })                };                });            </script>        </div>"
      ]
     },
     "metadata": {},
     "output_type": "display_data"
    }
   ],
   "source": [
    "fig = px.histogram(df[[\"Invoice\"]], x=\"Invoice\", nbins=50)\n",
    "fig.show()"
   ]
  },
  {
   "cell_type": "code",
   "execution_count": 97,
   "metadata": {},
   "outputs": [
    {
     "name": "stdout",
     "output_type": "stream",
     "text": [
      "It is not nomal\n"
     ]
    }
   ],
   "source": [
    "k2, p = stats.normaltest(df[[\"Invoice\"]].query(\"Invoice <= 50000\")[\"Invoice\"].values)\n",
    "alpha = 1e-3\n",
    "if p < alpha:\n",
    "    print(\"It is not nomal\")\n",
    "else:\n",
    "    print(\"It is normal\")"
   ]
  },
  {
   "cell_type": "code",
   "execution_count": 44,
   "metadata": {},
   "outputs": [
    {
     "data": {
      "application/vnd.plotly.v1+json": {
       "config": {
        "plotlyServerURL": "https://plot.ly"
       },
       "data": [
        {
         "alignmentgroup": "True",
         "bingroup": "x",
         "hovertemplate": "Invoice=%{x}<br>count=%{y}<extra></extra>",
         "legendgroup": "",
         "marker": {
          "color": "#636efa",
          "pattern": {
           "shape": ""
          }
         },
         "name": "",
         "nbinsx": 50,
         "offsetgroup": "",
         "orientation": "v",
         "showlegend": false,
         "type": "histogram",
         "x": [
          15.024836661442489,
          14.409457234937873,
          14.589124433920736,
          14.886982558764235,
          15.251704301119364,
          15.326850773456407,
          14.520864182988744,
          14.988418416807852,
          14.816083657510168,
          14.890169259729879,
          14.937925484863031,
          15.015807035826374,
          15.135388651579046,
          15.225998171433503,
          15.290414899929273,
          15.245255580306555,
          15.455584087578611,
          15.982369745096536,
          15.410583848637843,
          14.988684686772165,
          15.04861458567665,
          15.1650247377713,
          15.177575260914628,
          15.439765966437301,
          15.047848145934402,
          15.542306422582591,
          14.67479914956536,
          14.785707880222747,
          15.086799685623452,
          14.759940182538495,
          14.98926143649252,
          15.048572016371356,
          15.058118595848288,
          15.160344170684699,
          15.306702554934203,
          15.329305828208632,
          15.61741006858273,
          15.947408645358442,
          16.028208253736523,
          15.430779211927515,
          15.661082185819422,
          14.92300243382903,
          15.19748548369109,
          14.87795508761204,
          15.068316447630075,
          14.555847303474339,
          14.312812066404362,
          14.56759963439058,
          14.478959169265716,
          14.668829597183377,
          14.851651453223718,
          14.976743106734322,
          15.172388440334847,
          15.562033685880133,
          15.409490383195463,
          14.802465877989203,
          15.346028875140272,
          15.50065518333656,
          15.419993085662375,
          15.56691620950904,
          15.191599044300682,
          15.147165167586639,
          14.746041882930665,
          14.221889161471266,
          13.420618191560957,
          13.526743742999686,
          13.741572319518479,
          13.761135649828645,
          13.906608791712538,
          14.294548956946107,
          14.089615994228105,
          14.186036839662824,
          14.289586665080801,
          14.485011650455208,
          14.647908074281807,
          14.3954671937162,
          14.439701045971955,
          14.547978966547017,
          14.581553678816189,
          15.25369978137418,
          15.463811708664277,
          14.951694513305444,
          14.059175437915101,
          14.17367713630342,
          15.111420985184889,
          15.262461934006263,
          14.315857147262829,
          14.046356679823187,
          14.328464565708936,
          14.119994815250426,
          14.308054559066635,
          14.762641567582072,
          14.45455634396194,
          14.60437948366534,
          14.561049226699671,
          14.517361823154948,
          14.914571997648986,
          14.804383148032649,
          14.630892764012733,
          15.097661818315506,
          14.967271297313822,
          14.810019272420838,
          14.847057346091336,
          13.649368462612198,
          13.781974367389338,
          14.323477033150425,
          14.096056239180946,
          14.20005566312671,
          14.492979761783959,
          14.323899182397296,
          14.86360554432145,
          13.989394499844732,
          14.188434307113564,
          14.141787841671004,
          15.15537166869856,
          14.895007180368662,
          14.7197631371949,
          14.35169844025112,
          13.607561496354206,
          13.655754310144218,
          13.823367240046235,
          13.834372285990284,
          14.125897731760327,
          14.204647556157852,
          14.348244039977777,
          14.480285320936371,
          14.615687104555226,
          14.760512051357347,
          14.580376352946306,
          14.04840172658824,
          14.713977134251547,
          15.073597673026542,
          14.250446470145253,
          14.843773870049294,
          13.743677368466967,
          13.999207286199537,
          14.32030697026016,
          14.819879699830006,
          14.93668394257525,
          15.306844930838876,
          14.502769660454025,
          13.860796010734626,
          14.464290473850767,
          14.652788966672622,
          14.492040935017641,
          14.171411388569261,
          14.128558267111522,
          14.600551781118549,
          14.168907116646265,
          14.08131698928577,
          13.571634151857067,
          13.665780028329483,
          13.826846369884125,
          14.129605011152504,
          14.293471648838134,
          13.989483201928493,
          14.123555628288193,
          14.38720958071964,
          14.568906154502084,
          14.457509135732698,
          14.594791118089265,
          14.870990753457793,
          15.483532398890206,
          14.302139091305321,
          13.303067213842914,
          13.440350119200563,
          13.45236995480311,
          13.641713098353947,
          13.794314321740464,
          13.794314321740464,
          14.101154978600523,
          14.165849146176397,
          14.42881813997958,
          14.519513402326607,
          14.06179307032486,
          14.674909464219096,
          14.749031382040204,
          14.862201461445768,
          14.78953364497036,
          15.24347153839633,
          15.537916036048747,
          14.954741580960002,
          15.015458611361975,
          14.871568389863716,
          14.233394987070856,
          14.739516935269942,
          14.91974788353287,
          15.287856641840545,
          15.475353457730131,
          15.811249245039745,
          15.93953330297315,
          15.73809225962049,
          16.059724689983632,
          15.960273498194226,
          16.059724689983632,
          14.648694620918075,
          14.211660194457375,
          14.506493547333518,
          14.185340053829,
          13.863992637170805,
          13.26956503283919,
          13.385997175272871,
          13.50556347636058,
          13.647233549977045,
          13.751334836401343,
          14.040460970956584,
          14.536490073199161,
          14.243769031961852,
          13.478011171176044,
          16.00595343354265,
          15.126744798057814,
          14.548882099753204,
          15.281857600687657,
          15.78481374010061,
          15.077483356859508,
          14.81152521727667,
          14.742098869778307,
          14.804282302580289,
          15.143542654233215,
          15.366048950670628,
          15.568163958685235,
          15.748795594045527,
          14.806096443078234,
          15.500592945893834,
          15.267481665558462,
          14.871183324625147,
          15.050231289224005,
          15.167770935719732,
          15.2829797994537,
          15.2294947953466,
          15.330951880966412,
          15.49585502688717,
          13.91410478852515,
          14.1466482222377,
          14.268980531649836,
          13.826250543179254,
          13.958733947142937,
          14.120966818009705,
          14.699138625275914,
          14.337412841003243,
          14.50711326170769,
          14.538310202597684,
          14.619933366192983,
          13.780334708123895,
          14.32206897619609,
          15.40101281538281,
          14.565637633043524,
          14.690161706268304,
          14.876085224549907,
          14.928657160434527,
          15.029977346589579,
          15.096962170162607,
          15.142186850175603,
          15.566351396838362,
          15.356933338480289,
          15.583552930466485,
          15.452788197221864,
          15.704065737783719,
          16.077817120895904,
          15.196448443962078,
          15.674219859203774,
          14.941506172518718,
          15.525704315280162,
          15.785299199212716,
          14.737511432622078,
          14.276706019892432,
          14.502893945002764,
          14.728558297786716,
          14.419828539083175,
          14.789431756129547,
          14.94571815646257,
          14.912795797471484,
          14.340684654363438,
          14.790042981265461,
          14.90890858096619,
          14.100744457287425,
          13.74724891764724,
          13.940130036481444,
          14.132258724804458,
          13.983349927676457,
          14.733968609439014,
          14.543696447864093,
          14.517669388133811,
          14.622166241873131,
          14.745359198941893,
          13.992141731625926,
          14.911345170655972,
          14.664669494027176,
          14.252074042796185,
          13.575184674668517,
          13.746829194016122,
          14.138111776319704,
          14.005273656563938,
          14.39740724437538,
          14.620105248607066,
          14.718853914910635,
          14.486709345789558,
          14.873588297911438,
          14.621307852461904,
          14.958779251513896,
          14.155845979401207,
          14.605363764457813,
          14.736613330694578,
          14.106726502039173,
          14.391042156661301,
          14.672867276433793,
          14.27394125977685,
          13.811274335606463,
          14.33000650575562,
          14.32649971005502,
          13.998678568245579,
          14.443720600656578,
          15.010047243964003,
          14.401679525982452,
          14.796343857196344,
          14.906420891863236,
          13.963347680316964,
          15.605739929718256,
          16.079088888393656,
          16.034627039197346,
          15.209377207841781,
          15.48198858382487,
          14.83708583524876,
          14.945901007545311,
          15.010659222235585,
          15.203080302538002,
          15.233320082730822,
          15.319213444864149,
          15.227916724201489,
          14.231671202562785,
          13.333015547506022,
          13.709191536652757,
          13.854381430462253,
          13.7632123668144,
          13.901149735592224,
          14.273285671400314,
          14.410650092641843,
          13.591054774036781,
          13.71853287606922,
          14.167339736361848,
          14.191753244283822,
          14.510269670898177,
          14.59146390829059,
          14.702389159976336,
          14.80387885026434,
          14.49072555032395,
          14.830218081027711,
          14.445014845868423,
          14.26194798375852,
          14.410252582984418,
          14.445208882546785,
          14.048912535648535,
          13.63469762629172,
          13.805441599906725,
          13.564625862795372,
          13.908580264012734,
          14.057737943103728,
          13.991787543926145,
          14.208081909981123,
          14.957963555087593,
          14.598110672175917,
          14.604726953570895,
          15.550325937953083,
          14.179364867483423,
          13.673419504207383,
          13.736613330694578,
          13.761655109396022,
          13.308339030139408,
          13.411510988012072,
          13.377481688182957,
          14.099840899000721,
          14.310967731849752,
          14.113253806651276,
          14.274596550376724,
          14.532173263273256,
          14.4971657451784,
          14.545205827425605,
          14.73507998294122,
          14.371640534611808,
          14.648919269788179,
          14.31366250315791,
          14.475923380062486,
          13.536125771600268,
          13.870557374326415,
          14.521600439723727,
          13.88760142450871,
          14.976698362986248,
          14.093252486861505,
          14.144419260742344,
          14.261360387765919,
          14.261360387765919,
          14.404476350847172,
          14.40467591673211,
          14.418511490387644,
          14.900442312501822,
          15.137791675355247,
          15.870557374326415,
          16.07702430519454,
          14.089036615241733,
          14.476809478650157,
          15.173520992026965,
          15.245664112712003,
          14.532660310597251,
          14.868629668212657,
          15.00588766267056,
          15.110727979543071,
          15.117237245747152,
          15.123151432773575,
          15.221398314019389,
          15.29070287019713,
          15.377651135927588,
          14.58877318532927,
          15.015066533230291
         ],
         "xaxis": "x",
         "yaxis": "y"
        }
       ],
       "layout": {
        "barmode": "relative",
        "legend": {
         "tracegroupgap": 0
        },
        "margin": {
         "t": 60
        },
        "template": {
         "data": {
          "bar": [
           {
            "error_x": {
             "color": "#2a3f5f"
            },
            "error_y": {
             "color": "#2a3f5f"
            },
            "marker": {
             "line": {
              "color": "#E5ECF6",
              "width": 0.5
             },
             "pattern": {
              "fillmode": "overlay",
              "size": 10,
              "solidity": 0.2
             }
            },
            "type": "bar"
           }
          ],
          "barpolar": [
           {
            "marker": {
             "line": {
              "color": "#E5ECF6",
              "width": 0.5
             },
             "pattern": {
              "fillmode": "overlay",
              "size": 10,
              "solidity": 0.2
             }
            },
            "type": "barpolar"
           }
          ],
          "carpet": [
           {
            "aaxis": {
             "endlinecolor": "#2a3f5f",
             "gridcolor": "white",
             "linecolor": "white",
             "minorgridcolor": "white",
             "startlinecolor": "#2a3f5f"
            },
            "baxis": {
             "endlinecolor": "#2a3f5f",
             "gridcolor": "white",
             "linecolor": "white",
             "minorgridcolor": "white",
             "startlinecolor": "#2a3f5f"
            },
            "type": "carpet"
           }
          ],
          "choropleth": [
           {
            "colorbar": {
             "outlinewidth": 0,
             "ticks": ""
            },
            "type": "choropleth"
           }
          ],
          "contour": [
           {
            "colorbar": {
             "outlinewidth": 0,
             "ticks": ""
            },
            "colorscale": [
             [
              0,
              "#0d0887"
             ],
             [
              0.1111111111111111,
              "#46039f"
             ],
             [
              0.2222222222222222,
              "#7201a8"
             ],
             [
              0.3333333333333333,
              "#9c179e"
             ],
             [
              0.4444444444444444,
              "#bd3786"
             ],
             [
              0.5555555555555556,
              "#d8576b"
             ],
             [
              0.6666666666666666,
              "#ed7953"
             ],
             [
              0.7777777777777778,
              "#fb9f3a"
             ],
             [
              0.8888888888888888,
              "#fdca26"
             ],
             [
              1,
              "#f0f921"
             ]
            ],
            "type": "contour"
           }
          ],
          "contourcarpet": [
           {
            "colorbar": {
             "outlinewidth": 0,
             "ticks": ""
            },
            "type": "contourcarpet"
           }
          ],
          "heatmap": [
           {
            "colorbar": {
             "outlinewidth": 0,
             "ticks": ""
            },
            "colorscale": [
             [
              0,
              "#0d0887"
             ],
             [
              0.1111111111111111,
              "#46039f"
             ],
             [
              0.2222222222222222,
              "#7201a8"
             ],
             [
              0.3333333333333333,
              "#9c179e"
             ],
             [
              0.4444444444444444,
              "#bd3786"
             ],
             [
              0.5555555555555556,
              "#d8576b"
             ],
             [
              0.6666666666666666,
              "#ed7953"
             ],
             [
              0.7777777777777778,
              "#fb9f3a"
             ],
             [
              0.8888888888888888,
              "#fdca26"
             ],
             [
              1,
              "#f0f921"
             ]
            ],
            "type": "heatmap"
           }
          ],
          "heatmapgl": [
           {
            "colorbar": {
             "outlinewidth": 0,
             "ticks": ""
            },
            "colorscale": [
             [
              0,
              "#0d0887"
             ],
             [
              0.1111111111111111,
              "#46039f"
             ],
             [
              0.2222222222222222,
              "#7201a8"
             ],
             [
              0.3333333333333333,
              "#9c179e"
             ],
             [
              0.4444444444444444,
              "#bd3786"
             ],
             [
              0.5555555555555556,
              "#d8576b"
             ],
             [
              0.6666666666666666,
              "#ed7953"
             ],
             [
              0.7777777777777778,
              "#fb9f3a"
             ],
             [
              0.8888888888888888,
              "#fdca26"
             ],
             [
              1,
              "#f0f921"
             ]
            ],
            "type": "heatmapgl"
           }
          ],
          "histogram": [
           {
            "marker": {
             "pattern": {
              "fillmode": "overlay",
              "size": 10,
              "solidity": 0.2
             }
            },
            "type": "histogram"
           }
          ],
          "histogram2d": [
           {
            "colorbar": {
             "outlinewidth": 0,
             "ticks": ""
            },
            "colorscale": [
             [
              0,
              "#0d0887"
             ],
             [
              0.1111111111111111,
              "#46039f"
             ],
             [
              0.2222222222222222,
              "#7201a8"
             ],
             [
              0.3333333333333333,
              "#9c179e"
             ],
             [
              0.4444444444444444,
              "#bd3786"
             ],
             [
              0.5555555555555556,
              "#d8576b"
             ],
             [
              0.6666666666666666,
              "#ed7953"
             ],
             [
              0.7777777777777778,
              "#fb9f3a"
             ],
             [
              0.8888888888888888,
              "#fdca26"
             ],
             [
              1,
              "#f0f921"
             ]
            ],
            "type": "histogram2d"
           }
          ],
          "histogram2dcontour": [
           {
            "colorbar": {
             "outlinewidth": 0,
             "ticks": ""
            },
            "colorscale": [
             [
              0,
              "#0d0887"
             ],
             [
              0.1111111111111111,
              "#46039f"
             ],
             [
              0.2222222222222222,
              "#7201a8"
             ],
             [
              0.3333333333333333,
              "#9c179e"
             ],
             [
              0.4444444444444444,
              "#bd3786"
             ],
             [
              0.5555555555555556,
              "#d8576b"
             ],
             [
              0.6666666666666666,
              "#ed7953"
             ],
             [
              0.7777777777777778,
              "#fb9f3a"
             ],
             [
              0.8888888888888888,
              "#fdca26"
             ],
             [
              1,
              "#f0f921"
             ]
            ],
            "type": "histogram2dcontour"
           }
          ],
          "mesh3d": [
           {
            "colorbar": {
             "outlinewidth": 0,
             "ticks": ""
            },
            "type": "mesh3d"
           }
          ],
          "parcoords": [
           {
            "line": {
             "colorbar": {
              "outlinewidth": 0,
              "ticks": ""
             }
            },
            "type": "parcoords"
           }
          ],
          "pie": [
           {
            "automargin": true,
            "type": "pie"
           }
          ],
          "scatter": [
           {
            "fillpattern": {
             "fillmode": "overlay",
             "size": 10,
             "solidity": 0.2
            },
            "type": "scatter"
           }
          ],
          "scatter3d": [
           {
            "line": {
             "colorbar": {
              "outlinewidth": 0,
              "ticks": ""
             }
            },
            "marker": {
             "colorbar": {
              "outlinewidth": 0,
              "ticks": ""
             }
            },
            "type": "scatter3d"
           }
          ],
          "scattercarpet": [
           {
            "marker": {
             "colorbar": {
              "outlinewidth": 0,
              "ticks": ""
             }
            },
            "type": "scattercarpet"
           }
          ],
          "scattergeo": [
           {
            "marker": {
             "colorbar": {
              "outlinewidth": 0,
              "ticks": ""
             }
            },
            "type": "scattergeo"
           }
          ],
          "scattergl": [
           {
            "marker": {
             "colorbar": {
              "outlinewidth": 0,
              "ticks": ""
             }
            },
            "type": "scattergl"
           }
          ],
          "scattermapbox": [
           {
            "marker": {
             "colorbar": {
              "outlinewidth": 0,
              "ticks": ""
             }
            },
            "type": "scattermapbox"
           }
          ],
          "scatterpolar": [
           {
            "marker": {
             "colorbar": {
              "outlinewidth": 0,
              "ticks": ""
             }
            },
            "type": "scatterpolar"
           }
          ],
          "scatterpolargl": [
           {
            "marker": {
             "colorbar": {
              "outlinewidth": 0,
              "ticks": ""
             }
            },
            "type": "scatterpolargl"
           }
          ],
          "scatterternary": [
           {
            "marker": {
             "colorbar": {
              "outlinewidth": 0,
              "ticks": ""
             }
            },
            "type": "scatterternary"
           }
          ],
          "surface": [
           {
            "colorbar": {
             "outlinewidth": 0,
             "ticks": ""
            },
            "colorscale": [
             [
              0,
              "#0d0887"
             ],
             [
              0.1111111111111111,
              "#46039f"
             ],
             [
              0.2222222222222222,
              "#7201a8"
             ],
             [
              0.3333333333333333,
              "#9c179e"
             ],
             [
              0.4444444444444444,
              "#bd3786"
             ],
             [
              0.5555555555555556,
              "#d8576b"
             ],
             [
              0.6666666666666666,
              "#ed7953"
             ],
             [
              0.7777777777777778,
              "#fb9f3a"
             ],
             [
              0.8888888888888888,
              "#fdca26"
             ],
             [
              1,
              "#f0f921"
             ]
            ],
            "type": "surface"
           }
          ],
          "table": [
           {
            "cells": {
             "fill": {
              "color": "#EBF0F8"
             },
             "line": {
              "color": "white"
             }
            },
            "header": {
             "fill": {
              "color": "#C8D4E3"
             },
             "line": {
              "color": "white"
             }
            },
            "type": "table"
           }
          ]
         },
         "layout": {
          "annotationdefaults": {
           "arrowcolor": "#2a3f5f",
           "arrowhead": 0,
           "arrowwidth": 1
          },
          "autotypenumbers": "strict",
          "coloraxis": {
           "colorbar": {
            "outlinewidth": 0,
            "ticks": ""
           }
          },
          "colorscale": {
           "diverging": [
            [
             0,
             "#8e0152"
            ],
            [
             0.1,
             "#c51b7d"
            ],
            [
             0.2,
             "#de77ae"
            ],
            [
             0.3,
             "#f1b6da"
            ],
            [
             0.4,
             "#fde0ef"
            ],
            [
             0.5,
             "#f7f7f7"
            ],
            [
             0.6,
             "#e6f5d0"
            ],
            [
             0.7,
             "#b8e186"
            ],
            [
             0.8,
             "#7fbc41"
            ],
            [
             0.9,
             "#4d9221"
            ],
            [
             1,
             "#276419"
            ]
           ],
           "sequential": [
            [
             0,
             "#0d0887"
            ],
            [
             0.1111111111111111,
             "#46039f"
            ],
            [
             0.2222222222222222,
             "#7201a8"
            ],
            [
             0.3333333333333333,
             "#9c179e"
            ],
            [
             0.4444444444444444,
             "#bd3786"
            ],
            [
             0.5555555555555556,
             "#d8576b"
            ],
            [
             0.6666666666666666,
             "#ed7953"
            ],
            [
             0.7777777777777778,
             "#fb9f3a"
            ],
            [
             0.8888888888888888,
             "#fdca26"
            ],
            [
             1,
             "#f0f921"
            ]
           ],
           "sequentialminus": [
            [
             0,
             "#0d0887"
            ],
            [
             0.1111111111111111,
             "#46039f"
            ],
            [
             0.2222222222222222,
             "#7201a8"
            ],
            [
             0.3333333333333333,
             "#9c179e"
            ],
            [
             0.4444444444444444,
             "#bd3786"
            ],
            [
             0.5555555555555556,
             "#d8576b"
            ],
            [
             0.6666666666666666,
             "#ed7953"
            ],
            [
             0.7777777777777778,
             "#fb9f3a"
            ],
            [
             0.8888888888888888,
             "#fdca26"
            ],
            [
             1,
             "#f0f921"
            ]
           ]
          },
          "colorway": [
           "#636efa",
           "#EF553B",
           "#00cc96",
           "#ab63fa",
           "#FFA15A",
           "#19d3f3",
           "#FF6692",
           "#B6E880",
           "#FF97FF",
           "#FECB52"
          ],
          "font": {
           "color": "#2a3f5f"
          },
          "geo": {
           "bgcolor": "white",
           "lakecolor": "white",
           "landcolor": "#E5ECF6",
           "showlakes": true,
           "showland": true,
           "subunitcolor": "white"
          },
          "hoverlabel": {
           "align": "left"
          },
          "hovermode": "closest",
          "mapbox": {
           "style": "light"
          },
          "paper_bgcolor": "white",
          "plot_bgcolor": "#E5ECF6",
          "polar": {
           "angularaxis": {
            "gridcolor": "white",
            "linecolor": "white",
            "ticks": ""
           },
           "bgcolor": "#E5ECF6",
           "radialaxis": {
            "gridcolor": "white",
            "linecolor": "white",
            "ticks": ""
           }
          },
          "scene": {
           "xaxis": {
            "backgroundcolor": "#E5ECF6",
            "gridcolor": "white",
            "gridwidth": 2,
            "linecolor": "white",
            "showbackground": true,
            "ticks": "",
            "zerolinecolor": "white"
           },
           "yaxis": {
            "backgroundcolor": "#E5ECF6",
            "gridcolor": "white",
            "gridwidth": 2,
            "linecolor": "white",
            "showbackground": true,
            "ticks": "",
            "zerolinecolor": "white"
           },
           "zaxis": {
            "backgroundcolor": "#E5ECF6",
            "gridcolor": "white",
            "gridwidth": 2,
            "linecolor": "white",
            "showbackground": true,
            "ticks": "",
            "zerolinecolor": "white"
           }
          },
          "shapedefaults": {
           "line": {
            "color": "#2a3f5f"
           }
          },
          "ternary": {
           "aaxis": {
            "gridcolor": "white",
            "linecolor": "white",
            "ticks": ""
           },
           "baxis": {
            "gridcolor": "white",
            "linecolor": "white",
            "ticks": ""
           },
           "bgcolor": "#E5ECF6",
           "caxis": {
            "gridcolor": "white",
            "linecolor": "white",
            "ticks": ""
           }
          },
          "title": {
           "x": 0.05
          },
          "xaxis": {
           "automargin": true,
           "gridcolor": "white",
           "linecolor": "white",
           "ticks": "",
           "title": {
            "standoff": 15
           },
           "zerolinecolor": "white",
           "zerolinewidth": 2
          },
          "yaxis": {
           "automargin": true,
           "gridcolor": "white",
           "linecolor": "white",
           "ticks": "",
           "title": {
            "standoff": 15
           },
           "zerolinecolor": "white",
           "zerolinewidth": 2
          }
         }
        },
        "xaxis": {
         "anchor": "y",
         "domain": [
          0,
          1
         ],
         "title": {
          "text": "Invoice"
         }
        },
        "yaxis": {
         "anchor": "x",
         "domain": [
          0,
          1
         ],
         "title": {
          "text": "count"
         }
        }
       }
      },
      "text/html": [
       "<div>                            <div id=\"3b1a99ca-2a67-4725-908f-dcdba2822a1f\" class=\"plotly-graph-div\" style=\"height:525px; width:100%;\"></div>            <script type=\"text/javascript\">                require([\"plotly\"], function(Plotly) {                    window.PLOTLYENV=window.PLOTLYENV || {};                                    if (document.getElementById(\"3b1a99ca-2a67-4725-908f-dcdba2822a1f\")) {                    Plotly.newPlot(                        \"3b1a99ca-2a67-4725-908f-dcdba2822a1f\",                        [{\"alignmentgroup\":\"True\",\"bingroup\":\"x\",\"hovertemplate\":\"Invoice=%{x}<br>count=%{y}<extra></extra>\",\"legendgroup\":\"\",\"marker\":{\"color\":\"#636efa\",\"pattern\":{\"shape\":\"\"}},\"name\":\"\",\"nbinsx\":50,\"offsetgroup\":\"\",\"orientation\":\"v\",\"showlegend\":false,\"x\":[15.024836661442489,14.409457234937873,14.589124433920736,14.886982558764235,15.251704301119364,15.326850773456407,14.520864182988744,14.988418416807852,14.816083657510168,14.890169259729879,14.937925484863031,15.015807035826374,15.135388651579046,15.225998171433503,15.290414899929273,15.245255580306555,15.455584087578611,15.982369745096536,15.410583848637843,14.988684686772165,15.04861458567665,15.1650247377713,15.177575260914628,15.439765966437301,15.047848145934402,15.542306422582591,14.67479914956536,14.785707880222747,15.086799685623452,14.759940182538495,14.98926143649252,15.048572016371356,15.058118595848288,15.160344170684699,15.306702554934203,15.329305828208632,15.61741006858273,15.947408645358442,16.028208253736523,15.430779211927515,15.661082185819422,14.92300243382903,15.19748548369109,14.87795508761204,15.068316447630075,14.555847303474339,14.312812066404362,14.56759963439058,14.478959169265716,14.668829597183377,14.851651453223718,14.976743106734322,15.172388440334847,15.562033685880133,15.409490383195463,14.802465877989203,15.346028875140272,15.50065518333656,15.419993085662375,15.56691620950904,15.191599044300682,15.147165167586639,14.746041882930665,14.221889161471266,13.420618191560957,13.526743742999686,13.741572319518479,13.761135649828645,13.906608791712538,14.294548956946107,14.089615994228105,14.186036839662824,14.289586665080801,14.485011650455208,14.647908074281807,14.3954671937162,14.439701045971955,14.547978966547017,14.581553678816189,15.25369978137418,15.463811708664277,14.951694513305444,14.059175437915101,14.17367713630342,15.111420985184889,15.262461934006263,14.315857147262829,14.046356679823187,14.328464565708936,14.119994815250426,14.308054559066635,14.762641567582072,14.45455634396194,14.60437948366534,14.561049226699671,14.517361823154948,14.914571997648986,14.804383148032649,14.630892764012733,15.097661818315506,14.967271297313822,14.810019272420838,14.847057346091336,13.649368462612198,13.781974367389338,14.323477033150425,14.096056239180946,14.20005566312671,14.492979761783959,14.323899182397296,14.86360554432145,13.989394499844732,14.188434307113564,14.141787841671004,15.15537166869856,14.895007180368662,14.7197631371949,14.35169844025112,13.607561496354206,13.655754310144218,13.823367240046235,13.834372285990284,14.125897731760327,14.204647556157852,14.348244039977777,14.480285320936371,14.615687104555226,14.760512051357347,14.580376352946306,14.04840172658824,14.713977134251547,15.073597673026542,14.250446470145253,14.843773870049294,13.743677368466967,13.999207286199537,14.32030697026016,14.819879699830006,14.93668394257525,15.306844930838876,14.502769660454025,13.860796010734626,14.464290473850767,14.652788966672622,14.492040935017641,14.171411388569261,14.128558267111522,14.600551781118549,14.168907116646265,14.08131698928577,13.571634151857067,13.665780028329483,13.826846369884125,14.129605011152504,14.293471648838134,13.989483201928493,14.123555628288193,14.38720958071964,14.568906154502084,14.457509135732698,14.594791118089265,14.870990753457793,15.483532398890206,14.302139091305321,13.303067213842914,13.440350119200563,13.45236995480311,13.641713098353947,13.794314321740464,13.794314321740464,14.101154978600523,14.165849146176397,14.42881813997958,14.519513402326607,14.06179307032486,14.674909464219096,14.749031382040204,14.862201461445768,14.78953364497036,15.24347153839633,15.537916036048747,14.954741580960002,15.015458611361975,14.871568389863716,14.233394987070856,14.739516935269942,14.91974788353287,15.287856641840545,15.475353457730131,15.811249245039745,15.93953330297315,15.73809225962049,16.059724689983632,15.960273498194226,16.059724689983632,14.648694620918075,14.211660194457375,14.506493547333518,14.185340053829,13.863992637170805,13.26956503283919,13.385997175272871,13.50556347636058,13.647233549977045,13.751334836401343,14.040460970956584,14.536490073199161,14.243769031961852,13.478011171176044,16.00595343354265,15.126744798057814,14.548882099753204,15.281857600687657,15.78481374010061,15.077483356859508,14.81152521727667,14.742098869778307,14.804282302580289,15.143542654233215,15.366048950670628,15.568163958685235,15.748795594045527,14.806096443078234,15.500592945893834,15.267481665558462,14.871183324625147,15.050231289224005,15.167770935719732,15.2829797994537,15.2294947953466,15.330951880966412,15.49585502688717,13.91410478852515,14.1466482222377,14.268980531649836,13.826250543179254,13.958733947142937,14.120966818009705,14.699138625275914,14.337412841003243,14.50711326170769,14.538310202597684,14.619933366192983,13.780334708123895,14.32206897619609,15.40101281538281,14.565637633043524,14.690161706268304,14.876085224549907,14.928657160434527,15.029977346589579,15.096962170162607,15.142186850175603,15.566351396838362,15.356933338480289,15.583552930466485,15.452788197221864,15.704065737783719,16.077817120895904,15.196448443962078,15.674219859203774,14.941506172518718,15.525704315280162,15.785299199212716,14.737511432622078,14.276706019892432,14.502893945002764,14.728558297786716,14.419828539083175,14.789431756129547,14.94571815646257,14.912795797471484,14.340684654363438,14.790042981265461,14.90890858096619,14.100744457287425,13.74724891764724,13.940130036481444,14.132258724804458,13.983349927676457,14.733968609439014,14.543696447864093,14.517669388133811,14.622166241873131,14.745359198941893,13.992141731625926,14.911345170655972,14.664669494027176,14.252074042796185,13.575184674668517,13.746829194016122,14.138111776319704,14.005273656563938,14.39740724437538,14.620105248607066,14.718853914910635,14.486709345789558,14.873588297911438,14.621307852461904,14.958779251513896,14.155845979401207,14.605363764457813,14.736613330694578,14.106726502039173,14.391042156661301,14.672867276433793,14.27394125977685,13.811274335606463,14.33000650575562,14.32649971005502,13.998678568245579,14.443720600656578,15.010047243964003,14.401679525982452,14.796343857196344,14.906420891863236,13.963347680316964,15.605739929718256,16.079088888393656,16.034627039197346,15.209377207841781,15.48198858382487,14.83708583524876,14.945901007545311,15.010659222235585,15.203080302538002,15.233320082730822,15.319213444864149,15.227916724201489,14.231671202562785,13.333015547506022,13.709191536652757,13.854381430462253,13.7632123668144,13.901149735592224,14.273285671400314,14.410650092641843,13.591054774036781,13.71853287606922,14.167339736361848,14.191753244283822,14.510269670898177,14.59146390829059,14.702389159976336,14.80387885026434,14.49072555032395,14.830218081027711,14.445014845868423,14.26194798375852,14.410252582984418,14.445208882546785,14.048912535648535,13.63469762629172,13.805441599906725,13.564625862795372,13.908580264012734,14.057737943103728,13.991787543926145,14.208081909981123,14.957963555087593,14.598110672175917,14.604726953570895,15.550325937953083,14.179364867483423,13.673419504207383,13.736613330694578,13.761655109396022,13.308339030139408,13.411510988012072,13.377481688182957,14.099840899000721,14.310967731849752,14.113253806651276,14.274596550376724,14.532173263273256,14.4971657451784,14.545205827425605,14.73507998294122,14.371640534611808,14.648919269788179,14.31366250315791,14.475923380062486,13.536125771600268,13.870557374326415,14.521600439723727,13.88760142450871,14.976698362986248,14.093252486861505,14.144419260742344,14.261360387765919,14.261360387765919,14.404476350847172,14.40467591673211,14.418511490387644,14.900442312501822,15.137791675355247,15.870557374326415,16.07702430519454,14.089036615241733,14.476809478650157,15.173520992026965,15.245664112712003,14.532660310597251,14.868629668212657,15.00588766267056,15.110727979543071,15.117237245747152,15.123151432773575,15.221398314019389,15.29070287019713,15.377651135927588,14.58877318532927,15.015066533230291],\"xaxis\":\"x\",\"yaxis\":\"y\",\"type\":\"histogram\"}],                        {\"template\":{\"data\":{\"histogram2dcontour\":[{\"type\":\"histogram2dcontour\",\"colorbar\":{\"outlinewidth\":0,\"ticks\":\"\"},\"colorscale\":[[0.0,\"#0d0887\"],[0.1111111111111111,\"#46039f\"],[0.2222222222222222,\"#7201a8\"],[0.3333333333333333,\"#9c179e\"],[0.4444444444444444,\"#bd3786\"],[0.5555555555555556,\"#d8576b\"],[0.6666666666666666,\"#ed7953\"],[0.7777777777777778,\"#fb9f3a\"],[0.8888888888888888,\"#fdca26\"],[1.0,\"#f0f921\"]]}],\"choropleth\":[{\"type\":\"choropleth\",\"colorbar\":{\"outlinewidth\":0,\"ticks\":\"\"}}],\"histogram2d\":[{\"type\":\"histogram2d\",\"colorbar\":{\"outlinewidth\":0,\"ticks\":\"\"},\"colorscale\":[[0.0,\"#0d0887\"],[0.1111111111111111,\"#46039f\"],[0.2222222222222222,\"#7201a8\"],[0.3333333333333333,\"#9c179e\"],[0.4444444444444444,\"#bd3786\"],[0.5555555555555556,\"#d8576b\"],[0.6666666666666666,\"#ed7953\"],[0.7777777777777778,\"#fb9f3a\"],[0.8888888888888888,\"#fdca26\"],[1.0,\"#f0f921\"]]}],\"heatmap\":[{\"type\":\"heatmap\",\"colorbar\":{\"outlinewidth\":0,\"ticks\":\"\"},\"colorscale\":[[0.0,\"#0d0887\"],[0.1111111111111111,\"#46039f\"],[0.2222222222222222,\"#7201a8\"],[0.3333333333333333,\"#9c179e\"],[0.4444444444444444,\"#bd3786\"],[0.5555555555555556,\"#d8576b\"],[0.6666666666666666,\"#ed7953\"],[0.7777777777777778,\"#fb9f3a\"],[0.8888888888888888,\"#fdca26\"],[1.0,\"#f0f921\"]]}],\"heatmapgl\":[{\"type\":\"heatmapgl\",\"colorbar\":{\"outlinewidth\":0,\"ticks\":\"\"},\"colorscale\":[[0.0,\"#0d0887\"],[0.1111111111111111,\"#46039f\"],[0.2222222222222222,\"#7201a8\"],[0.3333333333333333,\"#9c179e\"],[0.4444444444444444,\"#bd3786\"],[0.5555555555555556,\"#d8576b\"],[0.6666666666666666,\"#ed7953\"],[0.7777777777777778,\"#fb9f3a\"],[0.8888888888888888,\"#fdca26\"],[1.0,\"#f0f921\"]]}],\"contourcarpet\":[{\"type\":\"contourcarpet\",\"colorbar\":{\"outlinewidth\":0,\"ticks\":\"\"}}],\"contour\":[{\"type\":\"contour\",\"colorbar\":{\"outlinewidth\":0,\"ticks\":\"\"},\"colorscale\":[[0.0,\"#0d0887\"],[0.1111111111111111,\"#46039f\"],[0.2222222222222222,\"#7201a8\"],[0.3333333333333333,\"#9c179e\"],[0.4444444444444444,\"#bd3786\"],[0.5555555555555556,\"#d8576b\"],[0.6666666666666666,\"#ed7953\"],[0.7777777777777778,\"#fb9f3a\"],[0.8888888888888888,\"#fdca26\"],[1.0,\"#f0f921\"]]}],\"surface\":[{\"type\":\"surface\",\"colorbar\":{\"outlinewidth\":0,\"ticks\":\"\"},\"colorscale\":[[0.0,\"#0d0887\"],[0.1111111111111111,\"#46039f\"],[0.2222222222222222,\"#7201a8\"],[0.3333333333333333,\"#9c179e\"],[0.4444444444444444,\"#bd3786\"],[0.5555555555555556,\"#d8576b\"],[0.6666666666666666,\"#ed7953\"],[0.7777777777777778,\"#fb9f3a\"],[0.8888888888888888,\"#fdca26\"],[1.0,\"#f0f921\"]]}],\"mesh3d\":[{\"type\":\"mesh3d\",\"colorbar\":{\"outlinewidth\":0,\"ticks\":\"\"}}],\"scatter\":[{\"fillpattern\":{\"fillmode\":\"overlay\",\"size\":10,\"solidity\":0.2},\"type\":\"scatter\"}],\"parcoords\":[{\"type\":\"parcoords\",\"line\":{\"colorbar\":{\"outlinewidth\":0,\"ticks\":\"\"}}}],\"scatterpolargl\":[{\"type\":\"scatterpolargl\",\"marker\":{\"colorbar\":{\"outlinewidth\":0,\"ticks\":\"\"}}}],\"bar\":[{\"error_x\":{\"color\":\"#2a3f5f\"},\"error_y\":{\"color\":\"#2a3f5f\"},\"marker\":{\"line\":{\"color\":\"#E5ECF6\",\"width\":0.5},\"pattern\":{\"fillmode\":\"overlay\",\"size\":10,\"solidity\":0.2}},\"type\":\"bar\"}],\"scattergeo\":[{\"type\":\"scattergeo\",\"marker\":{\"colorbar\":{\"outlinewidth\":0,\"ticks\":\"\"}}}],\"scatterpolar\":[{\"type\":\"scatterpolar\",\"marker\":{\"colorbar\":{\"outlinewidth\":0,\"ticks\":\"\"}}}],\"histogram\":[{\"marker\":{\"pattern\":{\"fillmode\":\"overlay\",\"size\":10,\"solidity\":0.2}},\"type\":\"histogram\"}],\"scattergl\":[{\"type\":\"scattergl\",\"marker\":{\"colorbar\":{\"outlinewidth\":0,\"ticks\":\"\"}}}],\"scatter3d\":[{\"type\":\"scatter3d\",\"line\":{\"colorbar\":{\"outlinewidth\":0,\"ticks\":\"\"}},\"marker\":{\"colorbar\":{\"outlinewidth\":0,\"ticks\":\"\"}}}],\"scattermapbox\":[{\"type\":\"scattermapbox\",\"marker\":{\"colorbar\":{\"outlinewidth\":0,\"ticks\":\"\"}}}],\"scatterternary\":[{\"type\":\"scatterternary\",\"marker\":{\"colorbar\":{\"outlinewidth\":0,\"ticks\":\"\"}}}],\"scattercarpet\":[{\"type\":\"scattercarpet\",\"marker\":{\"colorbar\":{\"outlinewidth\":0,\"ticks\":\"\"}}}],\"carpet\":[{\"aaxis\":{\"endlinecolor\":\"#2a3f5f\",\"gridcolor\":\"white\",\"linecolor\":\"white\",\"minorgridcolor\":\"white\",\"startlinecolor\":\"#2a3f5f\"},\"baxis\":{\"endlinecolor\":\"#2a3f5f\",\"gridcolor\":\"white\",\"linecolor\":\"white\",\"minorgridcolor\":\"white\",\"startlinecolor\":\"#2a3f5f\"},\"type\":\"carpet\"}],\"table\":[{\"cells\":{\"fill\":{\"color\":\"#EBF0F8\"},\"line\":{\"color\":\"white\"}},\"header\":{\"fill\":{\"color\":\"#C8D4E3\"},\"line\":{\"color\":\"white\"}},\"type\":\"table\"}],\"barpolar\":[{\"marker\":{\"line\":{\"color\":\"#E5ECF6\",\"width\":0.5},\"pattern\":{\"fillmode\":\"overlay\",\"size\":10,\"solidity\":0.2}},\"type\":\"barpolar\"}],\"pie\":[{\"automargin\":true,\"type\":\"pie\"}]},\"layout\":{\"autotypenumbers\":\"strict\",\"colorway\":[\"#636efa\",\"#EF553B\",\"#00cc96\",\"#ab63fa\",\"#FFA15A\",\"#19d3f3\",\"#FF6692\",\"#B6E880\",\"#FF97FF\",\"#FECB52\"],\"font\":{\"color\":\"#2a3f5f\"},\"hovermode\":\"closest\",\"hoverlabel\":{\"align\":\"left\"},\"paper_bgcolor\":\"white\",\"plot_bgcolor\":\"#E5ECF6\",\"polar\":{\"bgcolor\":\"#E5ECF6\",\"angularaxis\":{\"gridcolor\":\"white\",\"linecolor\":\"white\",\"ticks\":\"\"},\"radialaxis\":{\"gridcolor\":\"white\",\"linecolor\":\"white\",\"ticks\":\"\"}},\"ternary\":{\"bgcolor\":\"#E5ECF6\",\"aaxis\":{\"gridcolor\":\"white\",\"linecolor\":\"white\",\"ticks\":\"\"},\"baxis\":{\"gridcolor\":\"white\",\"linecolor\":\"white\",\"ticks\":\"\"},\"caxis\":{\"gridcolor\":\"white\",\"linecolor\":\"white\",\"ticks\":\"\"}},\"coloraxis\":{\"colorbar\":{\"outlinewidth\":0,\"ticks\":\"\"}},\"colorscale\":{\"sequential\":[[0.0,\"#0d0887\"],[0.1111111111111111,\"#46039f\"],[0.2222222222222222,\"#7201a8\"],[0.3333333333333333,\"#9c179e\"],[0.4444444444444444,\"#bd3786\"],[0.5555555555555556,\"#d8576b\"],[0.6666666666666666,\"#ed7953\"],[0.7777777777777778,\"#fb9f3a\"],[0.8888888888888888,\"#fdca26\"],[1.0,\"#f0f921\"]],\"sequentialminus\":[[0.0,\"#0d0887\"],[0.1111111111111111,\"#46039f\"],[0.2222222222222222,\"#7201a8\"],[0.3333333333333333,\"#9c179e\"],[0.4444444444444444,\"#bd3786\"],[0.5555555555555556,\"#d8576b\"],[0.6666666666666666,\"#ed7953\"],[0.7777777777777778,\"#fb9f3a\"],[0.8888888888888888,\"#fdca26\"],[1.0,\"#f0f921\"]],\"diverging\":[[0,\"#8e0152\"],[0.1,\"#c51b7d\"],[0.2,\"#de77ae\"],[0.3,\"#f1b6da\"],[0.4,\"#fde0ef\"],[0.5,\"#f7f7f7\"],[0.6,\"#e6f5d0\"],[0.7,\"#b8e186\"],[0.8,\"#7fbc41\"],[0.9,\"#4d9221\"],[1,\"#276419\"]]},\"xaxis\":{\"gridcolor\":\"white\",\"linecolor\":\"white\",\"ticks\":\"\",\"title\":{\"standoff\":15},\"zerolinecolor\":\"white\",\"automargin\":true,\"zerolinewidth\":2},\"yaxis\":{\"gridcolor\":\"white\",\"linecolor\":\"white\",\"ticks\":\"\",\"title\":{\"standoff\":15},\"zerolinecolor\":\"white\",\"automargin\":true,\"zerolinewidth\":2},\"scene\":{\"xaxis\":{\"backgroundcolor\":\"#E5ECF6\",\"gridcolor\":\"white\",\"linecolor\":\"white\",\"showbackground\":true,\"ticks\":\"\",\"zerolinecolor\":\"white\",\"gridwidth\":2},\"yaxis\":{\"backgroundcolor\":\"#E5ECF6\",\"gridcolor\":\"white\",\"linecolor\":\"white\",\"showbackground\":true,\"ticks\":\"\",\"zerolinecolor\":\"white\",\"gridwidth\":2},\"zaxis\":{\"backgroundcolor\":\"#E5ECF6\",\"gridcolor\":\"white\",\"linecolor\":\"white\",\"showbackground\":true,\"ticks\":\"\",\"zerolinecolor\":\"white\",\"gridwidth\":2}},\"shapedefaults\":{\"line\":{\"color\":\"#2a3f5f\"}},\"annotationdefaults\":{\"arrowcolor\":\"#2a3f5f\",\"arrowhead\":0,\"arrowwidth\":1},\"geo\":{\"bgcolor\":\"white\",\"landcolor\":\"#E5ECF6\",\"subunitcolor\":\"white\",\"showland\":true,\"showlakes\":true,\"lakecolor\":\"white\"},\"title\":{\"x\":0.05},\"mapbox\":{\"style\":\"light\"}}},\"xaxis\":{\"anchor\":\"y\",\"domain\":[0.0,1.0],\"title\":{\"text\":\"Invoice\"}},\"yaxis\":{\"anchor\":\"x\",\"domain\":[0.0,1.0],\"title\":{\"text\":\"count\"}},\"legend\":{\"tracegroupgap\":0},\"margin\":{\"t\":60},\"barmode\":\"relative\"},                        {\"responsive\": true}                    ).then(function(){\n",
       "                            \n",
       "var gd = document.getElementById('3b1a99ca-2a67-4725-908f-dcdba2822a1f');\n",
       "var x = new MutationObserver(function (mutations, observer) {{\n",
       "        var display = window.getComputedStyle(gd).display;\n",
       "        if (!display || display === 'none') {{\n",
       "            console.log([gd, 'removed!']);\n",
       "            Plotly.purge(gd);\n",
       "            observer.disconnect();\n",
       "        }}\n",
       "}});\n",
       "\n",
       "// Listen for the removal of the full notebook cells\n",
       "var notebookContainer = gd.closest('#notebook-container');\n",
       "if (notebookContainer) {{\n",
       "    x.observe(notebookContainer, {childList: true});\n",
       "}}\n",
       "\n",
       "// Listen for the clearing of the current output cell\n",
       "var outputEl = gd.closest('.output');\n",
       "if (outputEl) {{\n",
       "    x.observe(outputEl, {childList: true});\n",
       "}}\n",
       "\n",
       "                        })                };                });            </script>        </div>"
      ]
     },
     "metadata": {},
     "output_type": "display_data"
    }
   ],
   "source": [
    "fig = px.histogram(np.log2(df[['Invoice']].query(\"Invoice <= 70000\")), x=\"Invoice\", nbins=50)\n",
    "fig.show()"
   ]
  },
  {
   "cell_type": "code",
   "execution_count": 45,
   "metadata": {},
   "outputs": [
    {
     "name": "stdout",
     "output_type": "stream",
     "text": [
      "It is normal\n"
     ]
    }
   ],
   "source": [
    "k2, p = stats.normaltest(np.log2(df[['Invoice']].query(\"Invoice <= 70000\")).values)\n",
    "alpha = 1e-3\n",
    "if p < alpha:\n",
    "    print(\"It is not nomal\")\n",
    "else:\n",
    "    print(\"It is normal\")"
   ]
  },
  {
   "cell_type": "code",
   "execution_count": 78,
   "metadata": {},
   "outputs": [
    {
     "data": {
      "application/vnd.plotly.v1+json": {
       "config": {
        "plotlyServerURL": "https://plot.ly"
       },
       "data": [
        {
         "dimensions": [
          {
           "axis": {
            "matches": true
           },
           "label": "MPG_Highway",
           "values": [
            23,
            31,
            29,
            28,
            24,
            24,
            24,
            31,
            30,
            28,
            26,
            25,
            27,
            25,
            27,
            25,
            25,
            24,
            24,
            20,
            22,
            28,
            28,
            29,
            25,
            21,
            23,
            22,
            29,
            29,
            27,
            27,
            30,
            30,
            29,
            28,
            28,
            30,
            26,
            26,
            26,
            24,
            23,
            28,
            29,
            26,
            21,
            26,
            30,
            29,
            30,
            28,
            29,
            29,
            28,
            18,
            21,
            25,
            26,
            26,
            26,
            25,
            17,
            18,
            18,
            21,
            22,
            34,
            34,
            37,
            37,
            37,
            32,
            34,
            30,
            32,
            30,
            28,
            32,
            28,
            17,
            26,
            25,
            25,
            18,
            23,
            21,
            17,
            19,
            30,
            29,
            29,
            30,
            28,
            27,
            29,
            27,
            27,
            30,
            27,
            28,
            26,
            25,
            25,
            23,
            21,
            36,
            36,
            29,
            28,
            28,
            27,
            26,
            25,
            20,
            22,
            22,
            21,
            13,
            19,
            20,
            23,
            33,
            36,
            33,
            33,
            28,
            27,
            26,
            25,
            25,
            25,
            23,
            29,
            25,
            24,
            19,
            18,
            29,
            33,
            26,
            19,
            19,
            17,
            20,
            25,
            20,
            18,
            19,
            51,
            66,
            22,
            25,
            24,
            38,
            44,
            38,
            34,
            34,
            37,
            30,
            30,
            30,
            25,
            25,
            25,
            12,
            26,
            33,
            33,
            33,
            34,
            34,
            34,
            27,
            27,
            26,
            26,
            26,
            26,
            26,
            26,
            26,
            23,
            23,
            22,
            19,
            20,
            21,
            26,
            25,
            26,
            28,
            24,
            28,
            28,
            24,
            26,
            26,
            23,
            23,
            21,
            24,
            19,
            19,
            30,
            33,
            32,
            32,
            32,
            32,
            27,
            25,
            22,
            33,
            16,
            16,
            21,
            19,
            17,
            24,
            29,
            25,
            24,
            25,
            23,
            25,
            23,
            24,
            18,
            18,
            26,
            26,
            24,
            24,
            25,
            25,
            25,
            37,
            34,
            25,
            34,
            31,
            32,
            25,
            28,
            28,
            25,
            24,
            29,
            19,
            14,
            17,
            30,
            26,
            25,
            25,
            26,
            26,
            27,
            21,
            24,
            19,
            26,
            22,
            27,
            20,
            26,
            24,
            23,
            21,
            19,
            29,
            22,
            25,
            27,
            24,
            21,
            27,
            25,
            25,
            26,
            25,
            23,
            23,
            26,
            21,
            19,
            27,
            31,
            31,
            30,
            31,
            25,
            26,
            28,
            28,
            26,
            31,
            19,
            21,
            20,
            35,
            35,
            26,
            28,
            26,
            28,
            28,
            26,
            25,
            26,
            26,
            20,
            18,
            25,
            32,
            29,
            26,
            26,
            33,
            29,
            30,
            33,
            30,
            20,
            26,
            24,
            20,
            36,
            18,
            26,
            24,
            26,
            24,
            29,
            26,
            28,
            28,
            29,
            29,
            29,
            30,
            29,
            26,
            35,
            35,
            35,
            35,
            35,
            28,
            34,
            38,
            35,
            28,
            28,
            28,
            27,
            26,
            26,
            27,
            24,
            28,
            28,
            28,
            22,
            22,
            31,
            31,
            31,
            30,
            27,
            29,
            51,
            17,
            21,
            24,
            17,
            27,
            40,
            40,
            40,
            43,
            39,
            43,
            33,
            29,
            33,
            29,
            29,
            29,
            29,
            29,
            27,
            27,
            33,
            32,
            27,
            18,
            17,
            36,
            20,
            31,
            31,
            46,
            31,
            30,
            30,
            31,
            26,
            25,
            22,
            19,
            30,
            31,
            25,
            20,
            29,
            27,
            28,
            25,
            28,
            27,
            28,
            26,
            26,
            29,
            27
           ]
          },
          {
           "axis": {
            "matches": true
           },
           "label": "Horsepower",
           "values": [
            265,
            200,
            200,
            270,
            225,
            225,
            290,
            170,
            170,
            220,
            220,
            220,
            220,
            220,
            220,
            220,
            250,
            300,
            330,
            340,
            450,
            180,
            225,
            250,
            220,
            340,
            225,
            325,
            184,
            184,
            184,
            184,
            225,
            225,
            225,
            184,
            225,
            225,
            325,
            325,
            325,
            333,
            333,
            184,
            225,
            184,
            275,
            185,
            175,
            205,
            200,
            240,
            205,
            205,
            240,
            295,
            320,
            255,
            275,
            300,
            275,
            320,
            345,
            295,
            295,
            275,
            165,
            103,
            103,
            140,
            140,
            140,
            180,
            145,
            200,
            180,
            200,
            240,
            200,
            200,
            190,
            185,
            350,
            350,
            295,
            175,
            200,
            300,
            300,
            200,
            150,
            150,
            150,
            200,
            250,
            200,
            232,
            220,
            150,
            255,
            200,
            180,
            215,
            215,
            250,
            230,
            132,
            132,
            200,
            150,
            150,
            232,
            150,
            215,
            500,
            210,
            210,
            215,
            310,
            232,
            210,
            201,
            130,
            110,
            130,
            130,
            170,
            155,
            201,
            224,
            224,
            239,
            193,
            193,
            260,
            280,
            231,
            300,
            143,
            130,
            155,
            275,
            285,
            325,
            190,
            175,
            285,
            300,
            190,
            93,
            73,
            240,
            160,
            160,
            115,
            117,
            115,
            160,
            160,
            127,
            160,
            240,
            240,
            240,
            240,
            240,
            316,
            173,
            103,
            103,
            103,
            138,
            138,
            138,
            170,
            170,
            194,
            194,
            172,
            260,
            280,
            260,
            255,
            340,
            340,
            280,
            315,
            275,
            193,
            192,
            227,
            235,
            294,
            390,
            294,
            294,
            390,
            294,
            294,
            390,
            390,
            195,
            150,
            190,
            192,
            138,
            104,
            104,
            124,
            124,
            124,
            170,
            195,
            195,
            104,
            282,
            217,
            174,
            235,
            235,
            230,
            225,
            215,
            215,
            220,
            300,
            290,
            300,
            215,
            300,
            302,
            232,
            232,
            280,
            280,
            239,
            239,
            239,
            115,
            163,
            130,
            148,
            160,
            160,
            200,
            142,
            142,
            197,
            238,
            143,
            207,
            292,
            288,
            189,
            215,
            168,
            168,
            215,
            215,
            215,
            349,
            302,
            493,
            215,
            302,
            221,
            302,
            275,
            302,
            302,
            493,
            493,
            192,
            349,
            168,
            221,
            302,
            210,
            155,
            224,
            224,
            201,
            224,
            302,
            201,
            155,
            215,
            215,
            160,
            120,
            120,
            160,
            120,
            205,
            230,
            210,
            210,
            271,
            160,
            305,
            240,
            180,
            126,
            126,
            175,
            165,
            245,
            265,
            265,
            240,
            240,
            287,
            287,
            180,
            305,
            245,
            140,
            170,
            185,
            185,
            140,
            175,
            200,
            140,
            200,
            275,
            185,
            185,
            340,
            130,
            340,
            315,
            315,
            315,
            477,
            228,
            258,
            210,
            210,
            220,
            250,
            210,
            210,
            250,
            143,
            140,
            140,
            140,
            140,
            140,
            182,
            140,
            108,
            108,
            165,
            165,
            165,
            165,
            212,
            212,
            227,
            300,
            165,
            165,
            165,
            185,
            165,
            155,
            155,
            119,
            119,
            155,
            155,
            110,
            240,
            245,
            230,
            325,
            161,
            130,
            130,
            130,
            108,
            108,
            108,
            157,
            210,
            157,
            225,
            210,
            210,
            225,
            210,
            230,
            230,
            180,
            138,
            142,
            190,
            190,
            130,
            220,
            115,
            180,
            100,
            150,
            200,
            115,
            170,
            190,
            270,
            335,
            420,
            115,
            170,
            270,
            268,
            170,
            208,
            247,
            300,
            208,
            194,
            197,
            242,
            268,
            170,
            208
           ]
          },
          {
           "axis": {
            "matches": true
           },
           "label": "EngineSize",
           "values": [
            3.5,
            2,
            2.4,
            3.2,
            3.5,
            3.5,
            3.2,
            1.8,
            1.8,
            3,
            3,
            3,
            3,
            3,
            3,
            3,
            2.7,
            4.2,
            4.2,
            4.2,
            4.2,
            1.8,
            1.8,
            3.2,
            3,
            4.2,
            3,
            4.4,
            2.5,
            2.5,
            2.5,
            2.5,
            3,
            3,
            3,
            2.5,
            3,
            3,
            4.4,
            4.4,
            4.4,
            3.2,
            3.2,
            2.5,
            3,
            2.5,
            4.2,
            3.4,
            3.1,
            3.8,
            3.8,
            3.8,
            3.8,
            3.8,
            3.8,
            5.3,
            4.6,
            3.6,
            4.6,
            4.6,
            4.6,
            4.6,
            6,
            5.3,
            5.3,
            4.2,
            2.5,
            1.6,
            1.6,
            2.2,
            2.2,
            2.2,
            3.4,
            2.2,
            3.5,
            3.4,
            3.8,
            3.8,
            3.5,
            3.8,
            4.3,
            3.4,
            5.7,
            5.7,
            5.3,
            2.8,
            4.3,
            6,
            5.3,
            3.5,
            2.4,
            2.4,
            2.4,
            2.7,
            3.5,
            2.7,
            3.5,
            2.4,
            2.4,
            3.5,
            2.7,
            3.3,
            3.8,
            3.2,
            3.5,
            4.7,
            2,
            2,
            2.7,
            2.4,
            2.4,
            3.5,
            2.4,
            3.8,
            8.3,
            3.7,
            3.7,
            3.7,
            6.8,
            4.6,
            4,
            3,
            2,
            2,
            2,
            2,
            2,
            3,
            3,
            4.6,
            4.6,
            4.6,
            3.9,
            3.8,
            4.6,
            3.9,
            4.6,
            5.4,
            2.3,
            2,
            3,
            4.2,
            4.8,
            6,
            4.3,
            2.8,
            4.8,
            6,
            4.3,
            1.4,
            2,
            3.5,
            2.4,
            2.4,
            1.7,
            1.7,
            1.7,
            2.4,
            2.4,
            1.7,
            2,
            3,
            3,
            3.5,
            3.5,
            2.2,
            6,
            2.7,
            1.6,
            1.6,
            1.6,
            2,
            2,
            2,
            2.7,
            2.7,
            3.5,
            3.5,
            2.7,
            3.5,
            3.5,
            3.5,
            3.5,
            4.5,
            4.5,
            3.5,
            4.5,
            4.2,
            3.2,
            2.5,
            3,
            3,
            4.2,
            4.2,
            4.2,
            4.2,
            4.2,
            4.2,
            4.2,
            4.2,
            4.2,
            4,
            2.4,
            4,
            3.5,
            2.4,
            1.6,
            1.6,
            1.8,
            1.8,
            1.8,
            2.7,
            3.5,
            3.5,
            1.6,
            4.4,
            4.6,
            2.5,
            4.7,
            4.7,
            3.3,
            3.3,
            3,
            3,
            3,
            4.3,
            4.3,
            4.3,
            3,
            5.4,
            4.6,
            3,
            3,
            3.9,
            3.9,
            4.6,
            4.6,
            4.6,
            1.6,
            1.6,
            2,
            2,
            2.3,
            2.3,
            3,
            1.8,
            1.8,
            1.3,
            1.3,
            2.3,
            4,
            5,
            5,
            1.8,
            3.2,
            2.6,
            2.6,
            3.2,
            3.2,
            3.2,
            3.2,
            5,
            5.5,
            3.2,
            5,
            3.2,
            5,
            4.3,
            5,
            5,
            5.5,
            5.5,
            2.3,
            3.2,
            2.6,
            3.2,
            5,
            4,
            3,
            4.6,
            4.6,
            3,
            4.6,
            4.6,
            4.2,
            3,
            3.8,
            3.8,
            2.4,
            2,
            2,
            2.4,
            2,
            3.5,
            3.8,
            3,
            3,
            2,
            2.4,
            5.6,
            3.5,
            3.3,
            1.8,
            1.8,
            2.5,
            2.5,
            3.5,
            3.5,
            3.5,
            3.5,
            3.5,
            3.5,
            3.5,
            3.3,
            5.6,
            3.5,
            2.2,
            3.4,
            3.4,
            3.4,
            2.2,
            3.4,
            3.8,
            2.2,
            3.8,
            4.6,
            3.4,
            3.4,
            5.7,
            1.8,
            4.5,
            3.6,
            3.6,
            3.6,
            3.6,
            2.7,
            3.2,
            2,
            2,
            2.3,
            2.3,
            2,
            2,
            2.3,
            2.2,
            2.2,
            2.2,
            2.2,
            2.2,
            2.2,
            3,
            2.2,
            1.5,
            1.5,
            2.5,
            2.5,
            2.5,
            2.5,
            3,
            3,
            2,
            2.5,
            2.5,
            2.5,
            2.5,
            2.7,
            2.5,
            2.3,
            2.3,
            2,
            2,
            2.5,
            2.3,
            1.5,
            4.7,
            4,
            3.3,
            4.7,
            2.4,
            1.8,
            1.8,
            1.8,
            1.5,
            1.5,
            1.5,
            2.4,
            3,
            2.4,
            3.3,
            3,
            3,
            3.3,
            3,
            3.3,
            3.3,
            1.8,
            1.8,
            2.4,
            3.4,
            3.4,
            1.8,
            3.2,
            2,
            1.8,
            1.9,
            1.8,
            2.8,
            2,
            1.8,
            2.8,
            4,
            4.2,
            6,
            2,
            1.8,
            4,
            2.9,
            1.9,
            2.5,
            2.3,
            2.5,
            2.9,
            2.5,
            2.4,
            2.3,
            2.9,
            1.9,
            2.5
           ]
          },
          {
           "axis": {
            "matches": true
           },
           "label": "Wheelbase",
           "values": [
            106,
            101,
            105,
            108,
            115,
            115,
            100,
            104,
            105,
            104,
            104,
            104,
            109,
            109,
            105,
            105,
            109,
            109,
            121,
            104,
            109,
            95,
            96,
            96,
            109,
            104,
            110,
            111,
            107,
            107,
            107,
            107,
            107,
            107,
            107,
            114,
            107,
            114,
            114,
            118,
            123,
            108,
            108,
            98,
            98,
            107,
            113,
            112,
            109,
            112,
            109,
            109,
            112,
            114,
            114,
            116,
            116,
            113,
            115,
            115,
            112,
            106,
            130,
            130,
            116,
            113,
            98,
            98,
            98,
            104,
            104,
            104,
            111,
            106,
            106,
            111,
            111,
            111,
            106,
            111,
            111,
            112,
            105,
            105,
            130,
            111,
            119,
            144,
            116,
            112,
            103,
            103,
            108,
            108,
            113,
            113,
            113,
            103,
            106,
            113,
            106,
            119,
            119,
            95,
            116,
            119,
            105,
            105,
            113,
            108,
            108,
            113,
            113,
            119,
            99,
            112,
            131,
            121,
            137,
            119,
            114,
            103,
            103,
            103,
            103,
            103,
            103,
            109,
            109,
            115,
            115,
            115,
            121,
            101,
            101,
            107,
            126,
            133,
            111,
            103,
            109,
            129,
            116,
            130,
            111,
            111,
            144,
            133,
            123,
            103,
            95,
            106,
            103,
            101,
            103,
            103,
            103,
            105,
            105,
            103,
            101,
            108,
            105,
            118,
            118,
            95,
            123,
            103,
            96,
            96,
            96,
            103,
            103,
            103,
            106,
            106,
            108,
            108,
            100,
            112,
            112,
            112,
            108,
            110,
            113,
            112,
            112,
            129,
            106,
            107,
            107,
            115,
            115,
            115,
            119,
            119,
            119,
            102,
            102,
            102,
            102,
            106,
            104,
            93,
            107,
            106,
            95,
            95,
            101,
            101,
            101,
            106,
            110,
            115,
            95,
            113,
            100,
            101,
            110,
            112,
            107,
            107,
            105,
            105,
            110,
            110,
            115,
            103,
            105,
            119,
            114,
            115,
            115,
            115,
            115,
            118,
            118,
            124,
            97,
            97,
            103,
            104,
            104,
            105,
            112,
            89,
            89,
            106,
            106,
            112,
            126,
            112,
            111,
            107,
            107,
            107,
            107,
            107,
            107,
            107,
            107,
            114,
            114,
            107,
            107,
            112,
            112,
            122,
            122,
            101,
            101,
            101,
            95,
            95,
            107,
            112,
            112,
            114,
            109,
            115,
            115,
            109,
            115,
            115,
            121,
            109,
            109,
            110,
            103,
            102,
            102,
            108,
            102,
            107,
            108,
            101,
            101,
            103,
            102,
            123,
            106,
            104,
            100,
            100,
            110,
            100,
            110,
            111,
            111,
            124,
            124,
            104,
            104,
            116,
            140,
            111,
            107,
            107,
            120,
            108,
            104,
            107,
            111,
            104,
            111,
            112,
            112,
            121,
            110,
            102,
            112,
            93,
            93,
            93,
            93,
            95,
            95,
            105,
            105,
            106,
            106,
            105,
            105,
            106,
            107,
            103,
            103,
            103,
            103,
            103,
            107,
            107,
            93,
            98,
            99,
            104,
            104,
            104,
            104,
            104,
            99,
            100,
            104,
            99,
            104,
            110,
            98,
            98,
            98,
            102,
            102,
            106,
            98,
            106,
            118,
            110,
            107,
            112,
            98,
            102,
            102,
            102,
            93,
            93,
            93,
            107,
            107,
            107,
            107,
            107,
            107,
            107,
            107,
            119,
            119,
            102,
            97,
            103,
            128,
            128,
            102,
            112,
            99,
            99,
            99,
            99,
            99,
            99,
            106,
            106,
            106,
            118,
            118,
            99,
            106,
            106,
            113,
            101,
            107,
            107,
            107,
            110,
            110,
            105,
            105,
            110,
            101,
            109
           ]
          }
         ],
         "hovertemplate": "%{xaxis.title.text}=%{x}<br>%{yaxis.title.text}=%{y}<extra></extra>",
         "legendgroup": "",
         "marker": {
          "color": "#636efa",
          "symbol": "circle"
         },
         "name": "",
         "showlegend": false,
         "type": "splom"
        }
       ],
       "layout": {
        "dragmode": "select",
        "legend": {
         "tracegroupgap": 0
        },
        "margin": {
         "t": 60
        },
        "template": {
         "data": {
          "bar": [
           {
            "error_x": {
             "color": "#2a3f5f"
            },
            "error_y": {
             "color": "#2a3f5f"
            },
            "marker": {
             "line": {
              "color": "#E5ECF6",
              "width": 0.5
             },
             "pattern": {
              "fillmode": "overlay",
              "size": 10,
              "solidity": 0.2
             }
            },
            "type": "bar"
           }
          ],
          "barpolar": [
           {
            "marker": {
             "line": {
              "color": "#E5ECF6",
              "width": 0.5
             },
             "pattern": {
              "fillmode": "overlay",
              "size": 10,
              "solidity": 0.2
             }
            },
            "type": "barpolar"
           }
          ],
          "carpet": [
           {
            "aaxis": {
             "endlinecolor": "#2a3f5f",
             "gridcolor": "white",
             "linecolor": "white",
             "minorgridcolor": "white",
             "startlinecolor": "#2a3f5f"
            },
            "baxis": {
             "endlinecolor": "#2a3f5f",
             "gridcolor": "white",
             "linecolor": "white",
             "minorgridcolor": "white",
             "startlinecolor": "#2a3f5f"
            },
            "type": "carpet"
           }
          ],
          "choropleth": [
           {
            "colorbar": {
             "outlinewidth": 0,
             "ticks": ""
            },
            "type": "choropleth"
           }
          ],
          "contour": [
           {
            "colorbar": {
             "outlinewidth": 0,
             "ticks": ""
            },
            "colorscale": [
             [
              0,
              "#0d0887"
             ],
             [
              0.1111111111111111,
              "#46039f"
             ],
             [
              0.2222222222222222,
              "#7201a8"
             ],
             [
              0.3333333333333333,
              "#9c179e"
             ],
             [
              0.4444444444444444,
              "#bd3786"
             ],
             [
              0.5555555555555556,
              "#d8576b"
             ],
             [
              0.6666666666666666,
              "#ed7953"
             ],
             [
              0.7777777777777778,
              "#fb9f3a"
             ],
             [
              0.8888888888888888,
              "#fdca26"
             ],
             [
              1,
              "#f0f921"
             ]
            ],
            "type": "contour"
           }
          ],
          "contourcarpet": [
           {
            "colorbar": {
             "outlinewidth": 0,
             "ticks": ""
            },
            "type": "contourcarpet"
           }
          ],
          "heatmap": [
           {
            "colorbar": {
             "outlinewidth": 0,
             "ticks": ""
            },
            "colorscale": [
             [
              0,
              "#0d0887"
             ],
             [
              0.1111111111111111,
              "#46039f"
             ],
             [
              0.2222222222222222,
              "#7201a8"
             ],
             [
              0.3333333333333333,
              "#9c179e"
             ],
             [
              0.4444444444444444,
              "#bd3786"
             ],
             [
              0.5555555555555556,
              "#d8576b"
             ],
             [
              0.6666666666666666,
              "#ed7953"
             ],
             [
              0.7777777777777778,
              "#fb9f3a"
             ],
             [
              0.8888888888888888,
              "#fdca26"
             ],
             [
              1,
              "#f0f921"
             ]
            ],
            "type": "heatmap"
           }
          ],
          "heatmapgl": [
           {
            "colorbar": {
             "outlinewidth": 0,
             "ticks": ""
            },
            "colorscale": [
             [
              0,
              "#0d0887"
             ],
             [
              0.1111111111111111,
              "#46039f"
             ],
             [
              0.2222222222222222,
              "#7201a8"
             ],
             [
              0.3333333333333333,
              "#9c179e"
             ],
             [
              0.4444444444444444,
              "#bd3786"
             ],
             [
              0.5555555555555556,
              "#d8576b"
             ],
             [
              0.6666666666666666,
              "#ed7953"
             ],
             [
              0.7777777777777778,
              "#fb9f3a"
             ],
             [
              0.8888888888888888,
              "#fdca26"
             ],
             [
              1,
              "#f0f921"
             ]
            ],
            "type": "heatmapgl"
           }
          ],
          "histogram": [
           {
            "marker": {
             "pattern": {
              "fillmode": "overlay",
              "size": 10,
              "solidity": 0.2
             }
            },
            "type": "histogram"
           }
          ],
          "histogram2d": [
           {
            "colorbar": {
             "outlinewidth": 0,
             "ticks": ""
            },
            "colorscale": [
             [
              0,
              "#0d0887"
             ],
             [
              0.1111111111111111,
              "#46039f"
             ],
             [
              0.2222222222222222,
              "#7201a8"
             ],
             [
              0.3333333333333333,
              "#9c179e"
             ],
             [
              0.4444444444444444,
              "#bd3786"
             ],
             [
              0.5555555555555556,
              "#d8576b"
             ],
             [
              0.6666666666666666,
              "#ed7953"
             ],
             [
              0.7777777777777778,
              "#fb9f3a"
             ],
             [
              0.8888888888888888,
              "#fdca26"
             ],
             [
              1,
              "#f0f921"
             ]
            ],
            "type": "histogram2d"
           }
          ],
          "histogram2dcontour": [
           {
            "colorbar": {
             "outlinewidth": 0,
             "ticks": ""
            },
            "colorscale": [
             [
              0,
              "#0d0887"
             ],
             [
              0.1111111111111111,
              "#46039f"
             ],
             [
              0.2222222222222222,
              "#7201a8"
             ],
             [
              0.3333333333333333,
              "#9c179e"
             ],
             [
              0.4444444444444444,
              "#bd3786"
             ],
             [
              0.5555555555555556,
              "#d8576b"
             ],
             [
              0.6666666666666666,
              "#ed7953"
             ],
             [
              0.7777777777777778,
              "#fb9f3a"
             ],
             [
              0.8888888888888888,
              "#fdca26"
             ],
             [
              1,
              "#f0f921"
             ]
            ],
            "type": "histogram2dcontour"
           }
          ],
          "mesh3d": [
           {
            "colorbar": {
             "outlinewidth": 0,
             "ticks": ""
            },
            "type": "mesh3d"
           }
          ],
          "parcoords": [
           {
            "line": {
             "colorbar": {
              "outlinewidth": 0,
              "ticks": ""
             }
            },
            "type": "parcoords"
           }
          ],
          "pie": [
           {
            "automargin": true,
            "type": "pie"
           }
          ],
          "scatter": [
           {
            "fillpattern": {
             "fillmode": "overlay",
             "size": 10,
             "solidity": 0.2
            },
            "type": "scatter"
           }
          ],
          "scatter3d": [
           {
            "line": {
             "colorbar": {
              "outlinewidth": 0,
              "ticks": ""
             }
            },
            "marker": {
             "colorbar": {
              "outlinewidth": 0,
              "ticks": ""
             }
            },
            "type": "scatter3d"
           }
          ],
          "scattercarpet": [
           {
            "marker": {
             "colorbar": {
              "outlinewidth": 0,
              "ticks": ""
             }
            },
            "type": "scattercarpet"
           }
          ],
          "scattergeo": [
           {
            "marker": {
             "colorbar": {
              "outlinewidth": 0,
              "ticks": ""
             }
            },
            "type": "scattergeo"
           }
          ],
          "scattergl": [
           {
            "marker": {
             "colorbar": {
              "outlinewidth": 0,
              "ticks": ""
             }
            },
            "type": "scattergl"
           }
          ],
          "scattermapbox": [
           {
            "marker": {
             "colorbar": {
              "outlinewidth": 0,
              "ticks": ""
             }
            },
            "type": "scattermapbox"
           }
          ],
          "scatterpolar": [
           {
            "marker": {
             "colorbar": {
              "outlinewidth": 0,
              "ticks": ""
             }
            },
            "type": "scatterpolar"
           }
          ],
          "scatterpolargl": [
           {
            "marker": {
             "colorbar": {
              "outlinewidth": 0,
              "ticks": ""
             }
            },
            "type": "scatterpolargl"
           }
          ],
          "scatterternary": [
           {
            "marker": {
             "colorbar": {
              "outlinewidth": 0,
              "ticks": ""
             }
            },
            "type": "scatterternary"
           }
          ],
          "surface": [
           {
            "colorbar": {
             "outlinewidth": 0,
             "ticks": ""
            },
            "colorscale": [
             [
              0,
              "#0d0887"
             ],
             [
              0.1111111111111111,
              "#46039f"
             ],
             [
              0.2222222222222222,
              "#7201a8"
             ],
             [
              0.3333333333333333,
              "#9c179e"
             ],
             [
              0.4444444444444444,
              "#bd3786"
             ],
             [
              0.5555555555555556,
              "#d8576b"
             ],
             [
              0.6666666666666666,
              "#ed7953"
             ],
             [
              0.7777777777777778,
              "#fb9f3a"
             ],
             [
              0.8888888888888888,
              "#fdca26"
             ],
             [
              1,
              "#f0f921"
             ]
            ],
            "type": "surface"
           }
          ],
          "table": [
           {
            "cells": {
             "fill": {
              "color": "#EBF0F8"
             },
             "line": {
              "color": "white"
             }
            },
            "header": {
             "fill": {
              "color": "#C8D4E3"
             },
             "line": {
              "color": "white"
             }
            },
            "type": "table"
           }
          ]
         },
         "layout": {
          "annotationdefaults": {
           "arrowcolor": "#2a3f5f",
           "arrowhead": 0,
           "arrowwidth": 1
          },
          "autotypenumbers": "strict",
          "coloraxis": {
           "colorbar": {
            "outlinewidth": 0,
            "ticks": ""
           }
          },
          "colorscale": {
           "diverging": [
            [
             0,
             "#8e0152"
            ],
            [
             0.1,
             "#c51b7d"
            ],
            [
             0.2,
             "#de77ae"
            ],
            [
             0.3,
             "#f1b6da"
            ],
            [
             0.4,
             "#fde0ef"
            ],
            [
             0.5,
             "#f7f7f7"
            ],
            [
             0.6,
             "#e6f5d0"
            ],
            [
             0.7,
             "#b8e186"
            ],
            [
             0.8,
             "#7fbc41"
            ],
            [
             0.9,
             "#4d9221"
            ],
            [
             1,
             "#276419"
            ]
           ],
           "sequential": [
            [
             0,
             "#0d0887"
            ],
            [
             0.1111111111111111,
             "#46039f"
            ],
            [
             0.2222222222222222,
             "#7201a8"
            ],
            [
             0.3333333333333333,
             "#9c179e"
            ],
            [
             0.4444444444444444,
             "#bd3786"
            ],
            [
             0.5555555555555556,
             "#d8576b"
            ],
            [
             0.6666666666666666,
             "#ed7953"
            ],
            [
             0.7777777777777778,
             "#fb9f3a"
            ],
            [
             0.8888888888888888,
             "#fdca26"
            ],
            [
             1,
             "#f0f921"
            ]
           ],
           "sequentialminus": [
            [
             0,
             "#0d0887"
            ],
            [
             0.1111111111111111,
             "#46039f"
            ],
            [
             0.2222222222222222,
             "#7201a8"
            ],
            [
             0.3333333333333333,
             "#9c179e"
            ],
            [
             0.4444444444444444,
             "#bd3786"
            ],
            [
             0.5555555555555556,
             "#d8576b"
            ],
            [
             0.6666666666666666,
             "#ed7953"
            ],
            [
             0.7777777777777778,
             "#fb9f3a"
            ],
            [
             0.8888888888888888,
             "#fdca26"
            ],
            [
             1,
             "#f0f921"
            ]
           ]
          },
          "colorway": [
           "#636efa",
           "#EF553B",
           "#00cc96",
           "#ab63fa",
           "#FFA15A",
           "#19d3f3",
           "#FF6692",
           "#B6E880",
           "#FF97FF",
           "#FECB52"
          ],
          "font": {
           "color": "#2a3f5f"
          },
          "geo": {
           "bgcolor": "white",
           "lakecolor": "white",
           "landcolor": "#E5ECF6",
           "showlakes": true,
           "showland": true,
           "subunitcolor": "white"
          },
          "hoverlabel": {
           "align": "left"
          },
          "hovermode": "closest",
          "mapbox": {
           "style": "light"
          },
          "paper_bgcolor": "white",
          "plot_bgcolor": "#E5ECF6",
          "polar": {
           "angularaxis": {
            "gridcolor": "white",
            "linecolor": "white",
            "ticks": ""
           },
           "bgcolor": "#E5ECF6",
           "radialaxis": {
            "gridcolor": "white",
            "linecolor": "white",
            "ticks": ""
           }
          },
          "scene": {
           "xaxis": {
            "backgroundcolor": "#E5ECF6",
            "gridcolor": "white",
            "gridwidth": 2,
            "linecolor": "white",
            "showbackground": true,
            "ticks": "",
            "zerolinecolor": "white"
           },
           "yaxis": {
            "backgroundcolor": "#E5ECF6",
            "gridcolor": "white",
            "gridwidth": 2,
            "linecolor": "white",
            "showbackground": true,
            "ticks": "",
            "zerolinecolor": "white"
           },
           "zaxis": {
            "backgroundcolor": "#E5ECF6",
            "gridcolor": "white",
            "gridwidth": 2,
            "linecolor": "white",
            "showbackground": true,
            "ticks": "",
            "zerolinecolor": "white"
           }
          },
          "shapedefaults": {
           "line": {
            "color": "#2a3f5f"
           }
          },
          "ternary": {
           "aaxis": {
            "gridcolor": "white",
            "linecolor": "white",
            "ticks": ""
           },
           "baxis": {
            "gridcolor": "white",
            "linecolor": "white",
            "ticks": ""
           },
           "bgcolor": "#E5ECF6",
           "caxis": {
            "gridcolor": "white",
            "linecolor": "white",
            "ticks": ""
           }
          },
          "title": {
           "x": 0.05
          },
          "xaxis": {
           "automargin": true,
           "gridcolor": "white",
           "linecolor": "white",
           "ticks": "",
           "title": {
            "standoff": 15
           },
           "zerolinecolor": "white",
           "zerolinewidth": 2
          },
          "yaxis": {
           "automargin": true,
           "gridcolor": "white",
           "linecolor": "white",
           "ticks": "",
           "title": {
            "standoff": 15
           },
           "zerolinecolor": "white",
           "zerolinewidth": 2
          }
         }
        }
       }
      },
      "text/html": [
       "<div>                            <div id=\"c0a95691-2c84-4f68-8986-15c160ea10ae\" class=\"plotly-graph-div\" style=\"height:525px; width:100%;\"></div>            <script type=\"text/javascript\">                require([\"plotly\"], function(Plotly) {                    window.PLOTLYENV=window.PLOTLYENV || {};                                    if (document.getElementById(\"c0a95691-2c84-4f68-8986-15c160ea10ae\")) {                    Plotly.newPlot(                        \"c0a95691-2c84-4f68-8986-15c160ea10ae\",                        [{\"dimensions\":[{\"axis\":{\"matches\":true},\"label\":\"MPG_Highway\",\"values\":[23,31,29,28,24,24,24,31,30,28,26,25,27,25,27,25,25,24,24,20,22,28,28,29,25,21,23,22,29,29,27,27,30,30,29,28,28,30,26,26,26,24,23,28,29,26,21,26,30,29,30,28,29,29,28,18,21,25,26,26,26,25,17,18,18,21,22,34,34,37,37,37,32,34,30,32,30,28,32,28,17,26,25,25,18,23,21,17,19,30,29,29,30,28,27,29,27,27,30,27,28,26,25,25,23,21,36,36,29,28,28,27,26,25,20,22,22,21,13,19,20,23,33,36,33,33,28,27,26,25,25,25,23,29,25,24,19,18,29,33,26,19,19,17,20,25,20,18,19,51,66,22,25,24,38,44,38,34,34,37,30,30,30,25,25,25,12,26,33,33,33,34,34,34,27,27,26,26,26,26,26,26,26,23,23,22,19,20,21,26,25,26,28,24,28,28,24,26,26,23,23,21,24,19,19,30,33,32,32,32,32,27,25,22,33,16,16,21,19,17,24,29,25,24,25,23,25,23,24,18,18,26,26,24,24,25,25,25,37,34,25,34,31,32,25,28,28,25,24,29,19,14,17,30,26,25,25,26,26,27,21,24,19,26,22,27,20,26,24,23,21,19,29,22,25,27,24,21,27,25,25,26,25,23,23,26,21,19,27,31,31,30,31,25,26,28,28,26,31,19,21,20,35,35,26,28,26,28,28,26,25,26,26,20,18,25,32,29,26,26,33,29,30,33,30,20,26,24,20,36,18,26,24,26,24,29,26,28,28,29,29,29,30,29,26,35,35,35,35,35,28,34,38,35,28,28,28,27,26,26,27,24,28,28,28,22,22,31,31,31,30,27,29,51,17,21,24,17,27,40,40,40,43,39,43,33,29,33,29,29,29,29,29,27,27,33,32,27,18,17,36,20,31,31,46,31,30,30,31,26,25,22,19,30,31,25,20,29,27,28,25,28,27,28,26,26,29,27]},{\"axis\":{\"matches\":true},\"label\":\"Horsepower\",\"values\":[265,200,200,270,225,225,290,170,170,220,220,220,220,220,220,220,250,300,330,340,450,180,225,250,220,340,225,325,184,184,184,184,225,225,225,184,225,225,325,325,325,333,333,184,225,184,275,185,175,205,200,240,205,205,240,295,320,255,275,300,275,320,345,295,295,275,165,103,103,140,140,140,180,145,200,180,200,240,200,200,190,185,350,350,295,175,200,300,300,200,150,150,150,200,250,200,232,220,150,255,200,180,215,215,250,230,132,132,200,150,150,232,150,215,500,210,210,215,310,232,210,201,130,110,130,130,170,155,201,224,224,239,193,193,260,280,231,300,143,130,155,275,285,325,190,175,285,300,190,93,73,240,160,160,115,117,115,160,160,127,160,240,240,240,240,240,316,173,103,103,103,138,138,138,170,170,194,194,172,260,280,260,255,340,340,280,315,275,193,192,227,235,294,390,294,294,390,294,294,390,390,195,150,190,192,138,104,104,124,124,124,170,195,195,104,282,217,174,235,235,230,225,215,215,220,300,290,300,215,300,302,232,232,280,280,239,239,239,115,163,130,148,160,160,200,142,142,197,238,143,207,292,288,189,215,168,168,215,215,215,349,302,493,215,302,221,302,275,302,302,493,493,192,349,168,221,302,210,155,224,224,201,224,302,201,155,215,215,160,120,120,160,120,205,230,210,210,271,160,305,240,180,126,126,175,165,245,265,265,240,240,287,287,180,305,245,140,170,185,185,140,175,200,140,200,275,185,185,340,130,340,315,315,315,477,228,258,210,210,220,250,210,210,250,143,140,140,140,140,140,182,140,108,108,165,165,165,165,212,212,227,300,165,165,165,185,165,155,155,119,119,155,155,110,240,245,230,325,161,130,130,130,108,108,108,157,210,157,225,210,210,225,210,230,230,180,138,142,190,190,130,220,115,180,100,150,200,115,170,190,270,335,420,115,170,270,268,170,208,247,300,208,194,197,242,268,170,208]},{\"axis\":{\"matches\":true},\"label\":\"EngineSize\",\"values\":[3.5,2.0,2.4,3.2,3.5,3.5,3.2,1.8,1.8,3.0,3.0,3.0,3.0,3.0,3.0,3.0,2.7,4.2,4.2,4.2,4.2,1.8,1.8,3.2,3.0,4.2,3.0,4.4,2.5,2.5,2.5,2.5,3.0,3.0,3.0,2.5,3.0,3.0,4.4,4.4,4.4,3.2,3.2,2.5,3.0,2.5,4.2,3.4,3.1,3.8,3.8,3.8,3.8,3.8,3.8,5.3,4.6,3.6,4.6,4.6,4.6,4.6,6.0,5.3,5.3,4.2,2.5,1.6,1.6,2.2,2.2,2.2,3.4,2.2,3.5,3.4,3.8,3.8,3.5,3.8,4.3,3.4,5.7,5.7,5.3,2.8,4.3,6.0,5.3,3.5,2.4,2.4,2.4,2.7,3.5,2.7,3.5,2.4,2.4,3.5,2.7,3.3,3.8,3.2,3.5,4.7,2.0,2.0,2.7,2.4,2.4,3.5,2.4,3.8,8.3,3.7,3.7,3.7,6.8,4.6,4.0,3.0,2.0,2.0,2.0,2.0,2.0,3.0,3.0,4.6,4.6,4.6,3.9,3.8,4.6,3.9,4.6,5.4,2.3,2.0,3.0,4.2,4.8,6.0,4.3,2.8,4.8,6.0,4.3,1.4,2.0,3.5,2.4,2.4,1.7,1.7,1.7,2.4,2.4,1.7,2.0,3.0,3.0,3.5,3.5,2.2,6.0,2.7,1.6,1.6,1.6,2.0,2.0,2.0,2.7,2.7,3.5,3.5,2.7,3.5,3.5,3.5,3.5,4.5,4.5,3.5,4.5,4.2,3.2,2.5,3.0,3.0,4.2,4.2,4.2,4.2,4.2,4.2,4.2,4.2,4.2,4.0,2.4,4.0,3.5,2.4,1.6,1.6,1.8,1.8,1.8,2.7,3.5,3.5,1.6,4.4,4.6,2.5,4.7,4.7,3.3,3.3,3.0,3.0,3.0,4.3,4.3,4.3,3.0,5.4,4.6,3.0,3.0,3.9,3.9,4.6,4.6,4.6,1.6,1.6,2.0,2.0,2.3,2.3,3.0,1.8,1.8,1.3,1.3,2.3,4.0,5.0,5.0,1.8,3.2,2.6,2.6,3.2,3.2,3.2,3.2,5.0,5.5,3.2,5.0,3.2,5.0,4.3,5.0,5.0,5.5,5.5,2.3,3.2,2.6,3.2,5.0,4.0,3.0,4.6,4.6,3.0,4.6,4.6,4.2,3.0,3.8,3.8,2.4,2.0,2.0,2.4,2.0,3.5,3.8,3.0,3.0,2.0,2.4,5.6,3.5,3.3,1.8,1.8,2.5,2.5,3.5,3.5,3.5,3.5,3.5,3.5,3.5,3.3,5.6,3.5,2.2,3.4,3.4,3.4,2.2,3.4,3.8,2.2,3.8,4.6,3.4,3.4,5.7,1.8,4.5,3.6,3.6,3.6,3.6,2.7,3.2,2.0,2.0,2.3,2.3,2.0,2.0,2.3,2.2,2.2,2.2,2.2,2.2,2.2,3.0,2.2,1.5,1.5,2.5,2.5,2.5,2.5,3.0,3.0,2.0,2.5,2.5,2.5,2.5,2.7,2.5,2.3,2.3,2.0,2.0,2.5,2.3,1.5,4.7,4.0,3.3,4.7,2.4,1.8,1.8,1.8,1.5,1.5,1.5,2.4,3.0,2.4,3.3,3.0,3.0,3.3,3.0,3.3,3.3,1.8,1.8,2.4,3.4,3.4,1.8,3.2,2.0,1.8,1.9,1.8,2.8,2.0,1.8,2.8,4.0,4.2,6.0,2.0,1.8,4.0,2.9,1.9,2.5,2.3,2.5,2.9,2.5,2.4,2.3,2.9,1.9,2.5]},{\"axis\":{\"matches\":true},\"label\":\"Wheelbase\",\"values\":[106,101,105,108,115,115,100,104,105,104,104,104,109,109,105,105,109,109,121,104,109,95,96,96,109,104,110,111,107,107,107,107,107,107,107,114,107,114,114,118,123,108,108,98,98,107,113,112,109,112,109,109,112,114,114,116,116,113,115,115,112,106,130,130,116,113,98,98,98,104,104,104,111,106,106,111,111,111,106,111,111,112,105,105,130,111,119,144,116,112,103,103,108,108,113,113,113,103,106,113,106,119,119,95,116,119,105,105,113,108,108,113,113,119,99,112,131,121,137,119,114,103,103,103,103,103,103,109,109,115,115,115,121,101,101,107,126,133,111,103,109,129,116,130,111,111,144,133,123,103,95,106,103,101,103,103,103,105,105,103,101,108,105,118,118,95,123,103,96,96,96,103,103,103,106,106,108,108,100,112,112,112,108,110,113,112,112,129,106,107,107,115,115,115,119,119,119,102,102,102,102,106,104,93,107,106,95,95,101,101,101,106,110,115,95,113,100,101,110,112,107,107,105,105,110,110,115,103,105,119,114,115,115,115,115,118,118,124,97,97,103,104,104,105,112,89,89,106,106,112,126,112,111,107,107,107,107,107,107,107,107,114,114,107,107,112,112,122,122,101,101,101,95,95,107,112,112,114,109,115,115,109,115,115,121,109,109,110,103,102,102,108,102,107,108,101,101,103,102,123,106,104,100,100,110,100,110,111,111,124,124,104,104,116,140,111,107,107,120,108,104,107,111,104,111,112,112,121,110,102,112,93,93,93,93,95,95,105,105,106,106,105,105,106,107,103,103,103,103,103,107,107,93,98,99,104,104,104,104,104,99,100,104,99,104,110,98,98,98,102,102,106,98,106,118,110,107,112,98,102,102,102,93,93,93,107,107,107,107,107,107,107,107,119,119,102,97,103,128,128,102,112,99,99,99,99,99,99,106,106,106,118,118,99,106,106,113,101,107,107,107,110,110,105,105,110,101,109]}],\"hovertemplate\":\"%{xaxis.title.text}=%{x}<br>%{yaxis.title.text}=%{y}<extra></extra>\",\"legendgroup\":\"\",\"marker\":{\"color\":\"#636efa\",\"symbol\":\"circle\"},\"name\":\"\",\"showlegend\":false,\"type\":\"splom\"}],                        {\"template\":{\"data\":{\"histogram2dcontour\":[{\"type\":\"histogram2dcontour\",\"colorbar\":{\"outlinewidth\":0,\"ticks\":\"\"},\"colorscale\":[[0.0,\"#0d0887\"],[0.1111111111111111,\"#46039f\"],[0.2222222222222222,\"#7201a8\"],[0.3333333333333333,\"#9c179e\"],[0.4444444444444444,\"#bd3786\"],[0.5555555555555556,\"#d8576b\"],[0.6666666666666666,\"#ed7953\"],[0.7777777777777778,\"#fb9f3a\"],[0.8888888888888888,\"#fdca26\"],[1.0,\"#f0f921\"]]}],\"choropleth\":[{\"type\":\"choropleth\",\"colorbar\":{\"outlinewidth\":0,\"ticks\":\"\"}}],\"histogram2d\":[{\"type\":\"histogram2d\",\"colorbar\":{\"outlinewidth\":0,\"ticks\":\"\"},\"colorscale\":[[0.0,\"#0d0887\"],[0.1111111111111111,\"#46039f\"],[0.2222222222222222,\"#7201a8\"],[0.3333333333333333,\"#9c179e\"],[0.4444444444444444,\"#bd3786\"],[0.5555555555555556,\"#d8576b\"],[0.6666666666666666,\"#ed7953\"],[0.7777777777777778,\"#fb9f3a\"],[0.8888888888888888,\"#fdca26\"],[1.0,\"#f0f921\"]]}],\"heatmap\":[{\"type\":\"heatmap\",\"colorbar\":{\"outlinewidth\":0,\"ticks\":\"\"},\"colorscale\":[[0.0,\"#0d0887\"],[0.1111111111111111,\"#46039f\"],[0.2222222222222222,\"#7201a8\"],[0.3333333333333333,\"#9c179e\"],[0.4444444444444444,\"#bd3786\"],[0.5555555555555556,\"#d8576b\"],[0.6666666666666666,\"#ed7953\"],[0.7777777777777778,\"#fb9f3a\"],[0.8888888888888888,\"#fdca26\"],[1.0,\"#f0f921\"]]}],\"heatmapgl\":[{\"type\":\"heatmapgl\",\"colorbar\":{\"outlinewidth\":0,\"ticks\":\"\"},\"colorscale\":[[0.0,\"#0d0887\"],[0.1111111111111111,\"#46039f\"],[0.2222222222222222,\"#7201a8\"],[0.3333333333333333,\"#9c179e\"],[0.4444444444444444,\"#bd3786\"],[0.5555555555555556,\"#d8576b\"],[0.6666666666666666,\"#ed7953\"],[0.7777777777777778,\"#fb9f3a\"],[0.8888888888888888,\"#fdca26\"],[1.0,\"#f0f921\"]]}],\"contourcarpet\":[{\"type\":\"contourcarpet\",\"colorbar\":{\"outlinewidth\":0,\"ticks\":\"\"}}],\"contour\":[{\"type\":\"contour\",\"colorbar\":{\"outlinewidth\":0,\"ticks\":\"\"},\"colorscale\":[[0.0,\"#0d0887\"],[0.1111111111111111,\"#46039f\"],[0.2222222222222222,\"#7201a8\"],[0.3333333333333333,\"#9c179e\"],[0.4444444444444444,\"#bd3786\"],[0.5555555555555556,\"#d8576b\"],[0.6666666666666666,\"#ed7953\"],[0.7777777777777778,\"#fb9f3a\"],[0.8888888888888888,\"#fdca26\"],[1.0,\"#f0f921\"]]}],\"surface\":[{\"type\":\"surface\",\"colorbar\":{\"outlinewidth\":0,\"ticks\":\"\"},\"colorscale\":[[0.0,\"#0d0887\"],[0.1111111111111111,\"#46039f\"],[0.2222222222222222,\"#7201a8\"],[0.3333333333333333,\"#9c179e\"],[0.4444444444444444,\"#bd3786\"],[0.5555555555555556,\"#d8576b\"],[0.6666666666666666,\"#ed7953\"],[0.7777777777777778,\"#fb9f3a\"],[0.8888888888888888,\"#fdca26\"],[1.0,\"#f0f921\"]]}],\"mesh3d\":[{\"type\":\"mesh3d\",\"colorbar\":{\"outlinewidth\":0,\"ticks\":\"\"}}],\"scatter\":[{\"fillpattern\":{\"fillmode\":\"overlay\",\"size\":10,\"solidity\":0.2},\"type\":\"scatter\"}],\"parcoords\":[{\"type\":\"parcoords\",\"line\":{\"colorbar\":{\"outlinewidth\":0,\"ticks\":\"\"}}}],\"scatterpolargl\":[{\"type\":\"scatterpolargl\",\"marker\":{\"colorbar\":{\"outlinewidth\":0,\"ticks\":\"\"}}}],\"bar\":[{\"error_x\":{\"color\":\"#2a3f5f\"},\"error_y\":{\"color\":\"#2a3f5f\"},\"marker\":{\"line\":{\"color\":\"#E5ECF6\",\"width\":0.5},\"pattern\":{\"fillmode\":\"overlay\",\"size\":10,\"solidity\":0.2}},\"type\":\"bar\"}],\"scattergeo\":[{\"type\":\"scattergeo\",\"marker\":{\"colorbar\":{\"outlinewidth\":0,\"ticks\":\"\"}}}],\"scatterpolar\":[{\"type\":\"scatterpolar\",\"marker\":{\"colorbar\":{\"outlinewidth\":0,\"ticks\":\"\"}}}],\"histogram\":[{\"marker\":{\"pattern\":{\"fillmode\":\"overlay\",\"size\":10,\"solidity\":0.2}},\"type\":\"histogram\"}],\"scattergl\":[{\"type\":\"scattergl\",\"marker\":{\"colorbar\":{\"outlinewidth\":0,\"ticks\":\"\"}}}],\"scatter3d\":[{\"type\":\"scatter3d\",\"line\":{\"colorbar\":{\"outlinewidth\":0,\"ticks\":\"\"}},\"marker\":{\"colorbar\":{\"outlinewidth\":0,\"ticks\":\"\"}}}],\"scattermapbox\":[{\"type\":\"scattermapbox\",\"marker\":{\"colorbar\":{\"outlinewidth\":0,\"ticks\":\"\"}}}],\"scatterternary\":[{\"type\":\"scatterternary\",\"marker\":{\"colorbar\":{\"outlinewidth\":0,\"ticks\":\"\"}}}],\"scattercarpet\":[{\"type\":\"scattercarpet\",\"marker\":{\"colorbar\":{\"outlinewidth\":0,\"ticks\":\"\"}}}],\"carpet\":[{\"aaxis\":{\"endlinecolor\":\"#2a3f5f\",\"gridcolor\":\"white\",\"linecolor\":\"white\",\"minorgridcolor\":\"white\",\"startlinecolor\":\"#2a3f5f\"},\"baxis\":{\"endlinecolor\":\"#2a3f5f\",\"gridcolor\":\"white\",\"linecolor\":\"white\",\"minorgridcolor\":\"white\",\"startlinecolor\":\"#2a3f5f\"},\"type\":\"carpet\"}],\"table\":[{\"cells\":{\"fill\":{\"color\":\"#EBF0F8\"},\"line\":{\"color\":\"white\"}},\"header\":{\"fill\":{\"color\":\"#C8D4E3\"},\"line\":{\"color\":\"white\"}},\"type\":\"table\"}],\"barpolar\":[{\"marker\":{\"line\":{\"color\":\"#E5ECF6\",\"width\":0.5},\"pattern\":{\"fillmode\":\"overlay\",\"size\":10,\"solidity\":0.2}},\"type\":\"barpolar\"}],\"pie\":[{\"automargin\":true,\"type\":\"pie\"}]},\"layout\":{\"autotypenumbers\":\"strict\",\"colorway\":[\"#636efa\",\"#EF553B\",\"#00cc96\",\"#ab63fa\",\"#FFA15A\",\"#19d3f3\",\"#FF6692\",\"#B6E880\",\"#FF97FF\",\"#FECB52\"],\"font\":{\"color\":\"#2a3f5f\"},\"hovermode\":\"closest\",\"hoverlabel\":{\"align\":\"left\"},\"paper_bgcolor\":\"white\",\"plot_bgcolor\":\"#E5ECF6\",\"polar\":{\"bgcolor\":\"#E5ECF6\",\"angularaxis\":{\"gridcolor\":\"white\",\"linecolor\":\"white\",\"ticks\":\"\"},\"radialaxis\":{\"gridcolor\":\"white\",\"linecolor\":\"white\",\"ticks\":\"\"}},\"ternary\":{\"bgcolor\":\"#E5ECF6\",\"aaxis\":{\"gridcolor\":\"white\",\"linecolor\":\"white\",\"ticks\":\"\"},\"baxis\":{\"gridcolor\":\"white\",\"linecolor\":\"white\",\"ticks\":\"\"},\"caxis\":{\"gridcolor\":\"white\",\"linecolor\":\"white\",\"ticks\":\"\"}},\"coloraxis\":{\"colorbar\":{\"outlinewidth\":0,\"ticks\":\"\"}},\"colorscale\":{\"sequential\":[[0.0,\"#0d0887\"],[0.1111111111111111,\"#46039f\"],[0.2222222222222222,\"#7201a8\"],[0.3333333333333333,\"#9c179e\"],[0.4444444444444444,\"#bd3786\"],[0.5555555555555556,\"#d8576b\"],[0.6666666666666666,\"#ed7953\"],[0.7777777777777778,\"#fb9f3a\"],[0.8888888888888888,\"#fdca26\"],[1.0,\"#f0f921\"]],\"sequentialminus\":[[0.0,\"#0d0887\"],[0.1111111111111111,\"#46039f\"],[0.2222222222222222,\"#7201a8\"],[0.3333333333333333,\"#9c179e\"],[0.4444444444444444,\"#bd3786\"],[0.5555555555555556,\"#d8576b\"],[0.6666666666666666,\"#ed7953\"],[0.7777777777777778,\"#fb9f3a\"],[0.8888888888888888,\"#fdca26\"],[1.0,\"#f0f921\"]],\"diverging\":[[0,\"#8e0152\"],[0.1,\"#c51b7d\"],[0.2,\"#de77ae\"],[0.3,\"#f1b6da\"],[0.4,\"#fde0ef\"],[0.5,\"#f7f7f7\"],[0.6,\"#e6f5d0\"],[0.7,\"#b8e186\"],[0.8,\"#7fbc41\"],[0.9,\"#4d9221\"],[1,\"#276419\"]]},\"xaxis\":{\"gridcolor\":\"white\",\"linecolor\":\"white\",\"ticks\":\"\",\"title\":{\"standoff\":15},\"zerolinecolor\":\"white\",\"automargin\":true,\"zerolinewidth\":2},\"yaxis\":{\"gridcolor\":\"white\",\"linecolor\":\"white\",\"ticks\":\"\",\"title\":{\"standoff\":15},\"zerolinecolor\":\"white\",\"automargin\":true,\"zerolinewidth\":2},\"scene\":{\"xaxis\":{\"backgroundcolor\":\"#E5ECF6\",\"gridcolor\":\"white\",\"linecolor\":\"white\",\"showbackground\":true,\"ticks\":\"\",\"zerolinecolor\":\"white\",\"gridwidth\":2},\"yaxis\":{\"backgroundcolor\":\"#E5ECF6\",\"gridcolor\":\"white\",\"linecolor\":\"white\",\"showbackground\":true,\"ticks\":\"\",\"zerolinecolor\":\"white\",\"gridwidth\":2},\"zaxis\":{\"backgroundcolor\":\"#E5ECF6\",\"gridcolor\":\"white\",\"linecolor\":\"white\",\"showbackground\":true,\"ticks\":\"\",\"zerolinecolor\":\"white\",\"gridwidth\":2}},\"shapedefaults\":{\"line\":{\"color\":\"#2a3f5f\"}},\"annotationdefaults\":{\"arrowcolor\":\"#2a3f5f\",\"arrowhead\":0,\"arrowwidth\":1},\"geo\":{\"bgcolor\":\"white\",\"landcolor\":\"#E5ECF6\",\"subunitcolor\":\"white\",\"showland\":true,\"showlakes\":true,\"lakecolor\":\"white\"},\"title\":{\"x\":0.05},\"mapbox\":{\"style\":\"light\"}}},\"legend\":{\"tracegroupgap\":0},\"margin\":{\"t\":60},\"dragmode\":\"select\"},                        {\"responsive\": true}                    ).then(function(){\n",
       "                            \n",
       "var gd = document.getElementById('c0a95691-2c84-4f68-8986-15c160ea10ae');\n",
       "var x = new MutationObserver(function (mutations, observer) {{\n",
       "        var display = window.getComputedStyle(gd).display;\n",
       "        if (!display || display === 'none') {{\n",
       "            console.log([gd, 'removed!']);\n",
       "            Plotly.purge(gd);\n",
       "            observer.disconnect();\n",
       "        }}\n",
       "}});\n",
       "\n",
       "// Listen for the removal of the full notebook cells\n",
       "var notebookContainer = gd.closest('#notebook-container');\n",
       "if (notebookContainer) {{\n",
       "    x.observe(notebookContainer, {childList: true});\n",
       "}}\n",
       "\n",
       "// Listen for the clearing of the current output cell\n",
       "var outputEl = gd.closest('.output');\n",
       "if (outputEl) {{\n",
       "    x.observe(outputEl, {childList: true});\n",
       "}}\n",
       "\n",
       "                        })                };                });            </script>        </div>"
      ]
     },
     "metadata": {},
     "output_type": "display_data"
    }
   ],
   "source": [
    "fig = px.scatter_matrix(df[[\"MPG_Highway\",\"Horsepower\",\"EngineSize\",\"Wheelbase\"]])\n",
    "fig.show()"
   ]
  },
  {
   "cell_type": "code",
   "execution_count": 47,
   "metadata": {},
   "outputs": [
    {
     "data": {
      "application/vnd.plotly.v1+json": {
       "config": {
        "plotlyServerURL": "https://plot.ly"
       },
       "data": [
        {
         "alignmentgroup": "True",
         "hovertemplate": "Make=%{x}<br>MPG_Highway=%{y}<extra></extra>",
         "legendgroup": "",
         "marker": {
          "color": "#636efa"
         },
         "name": "",
         "notched": false,
         "offsetgroup": "",
         "orientation": "v",
         "showlegend": false,
         "type": "box",
         "x": [
          "Acura",
          "Acura",
          "Acura",
          "Acura",
          "Acura",
          "Acura",
          "Acura",
          "Audi",
          "Audi",
          "Audi",
          "Audi",
          "Audi",
          "Audi",
          "Audi",
          "Audi",
          "Audi",
          "Audi",
          "Audi",
          "Audi",
          "Audi",
          "Audi",
          "Audi",
          "Audi",
          "Audi",
          "Audi",
          "Audi",
          "BMW",
          "BMW",
          "BMW",
          "BMW",
          "BMW",
          "BMW",
          "BMW",
          "BMW",
          "BMW",
          "BMW",
          "BMW",
          "BMW",
          "BMW",
          "BMW",
          "BMW",
          "BMW",
          "BMW",
          "BMW",
          "BMW",
          "BMW",
          "Buick",
          "Buick",
          "Buick",
          "Buick",
          "Buick",
          "Buick",
          "Buick",
          "Buick",
          "Buick",
          "Cadillac",
          "Cadillac",
          "Cadillac",
          "Cadillac",
          "Cadillac",
          "Cadillac",
          "Cadillac",
          "Cadillac",
          "Chevrolet",
          "Chevrolet",
          "Chevrolet",
          "Chevrolet",
          "Chevrolet",
          "Chevrolet",
          "Chevrolet",
          "Chevrolet",
          "Chevrolet",
          "Chevrolet",
          "Chevrolet",
          "Chevrolet",
          "Chevrolet",
          "Chevrolet",
          "Chevrolet",
          "Chevrolet",
          "Chevrolet",
          "Chevrolet",
          "Chevrolet",
          "Chevrolet",
          "Chevrolet",
          "Chevrolet",
          "Chevrolet",
          "Chevrolet",
          "Chevrolet",
          "Chevrolet",
          "Chevrolet",
          "Chrysler",
          "Chrysler",
          "Chrysler",
          "Chrysler",
          "Chrysler",
          "Chrysler",
          "Chrysler",
          "Chrysler",
          "Chrysler",
          "Chrysler",
          "Chrysler",
          "Chrysler",
          "Chrysler",
          "Chrysler",
          "Chrysler",
          "Dodge",
          "Dodge",
          "Dodge",
          "Dodge",
          "Dodge",
          "Dodge",
          "Dodge",
          "Dodge",
          "Dodge",
          "Dodge",
          "Dodge",
          "Dodge",
          "Dodge",
          "Ford",
          "Ford",
          "Ford",
          "Ford",
          "Ford",
          "Ford",
          "Ford",
          "Ford",
          "Ford",
          "Ford",
          "Ford",
          "Ford",
          "Ford",
          "Ford",
          "Ford",
          "Ford",
          "Ford",
          "Ford",
          "Ford",
          "Ford",
          "Ford",
          "Ford",
          "Ford",
          "GMC",
          "GMC",
          "GMC",
          "GMC",
          "GMC",
          "GMC",
          "GMC",
          "GMC",
          "Honda",
          "Honda",
          "Honda",
          "Honda",
          "Honda",
          "Honda",
          "Honda",
          "Honda",
          "Honda",
          "Honda",
          "Honda",
          "Honda",
          "Honda",
          "Honda",
          "Honda",
          "Honda",
          "Honda",
          "Hummer",
          "Hyundai",
          "Hyundai",
          "Hyundai",
          "Hyundai",
          "Hyundai",
          "Hyundai",
          "Hyundai",
          "Hyundai",
          "Hyundai",
          "Hyundai",
          "Hyundai",
          "Hyundai",
          "Infiniti",
          "Infiniti",
          "Infiniti",
          "Infiniti",
          "Infiniti",
          "Infiniti",
          "Infiniti",
          "Infiniti",
          "Isuzu",
          "Isuzu",
          "Jaguar",
          "Jaguar",
          "Jaguar",
          "Jaguar",
          "Jaguar",
          "Jaguar",
          "Jaguar",
          "Jaguar",
          "Jaguar",
          "Jaguar",
          "Jaguar",
          "Jaguar",
          "Jeep",
          "Jeep",
          "Jeep",
          "Kia",
          "Kia",
          "Kia",
          "Kia",
          "Kia",
          "Kia",
          "Kia",
          "Kia",
          "Kia",
          "Kia",
          "Kia",
          "Land Rover",
          "Land Rover",
          "Land Rover",
          "Lexus",
          "Lexus",
          "Lexus",
          "Lexus",
          "Lexus",
          "Lexus",
          "Lexus",
          "Lexus",
          "Lexus",
          "Lexus",
          "Lexus",
          "Lincoln",
          "Lincoln",
          "Lincoln",
          "Lincoln",
          "Lincoln",
          "Lincoln",
          "Lincoln",
          "Lincoln",
          "Lincoln",
          "MINI",
          "MINI",
          "Mazda",
          "Mazda",
          "Mazda",
          "Mazda",
          "Mazda",
          "Mazda",
          "Mazda",
          "Mazda",
          "Mazda",
          "Mazda",
          "Mazda",
          "Mercedes-Benz",
          "Mercedes-Benz",
          "Mercedes-Benz",
          "Mercedes-Benz",
          "Mercedes-Benz",
          "Mercedes-Benz",
          "Mercedes-Benz",
          "Mercedes-Benz",
          "Mercedes-Benz",
          "Mercedes-Benz",
          "Mercedes-Benz",
          "Mercedes-Benz",
          "Mercedes-Benz",
          "Mercedes-Benz",
          "Mercedes-Benz",
          "Mercedes-Benz",
          "Mercedes-Benz",
          "Mercedes-Benz",
          "Mercedes-Benz",
          "Mercedes-Benz",
          "Mercedes-Benz",
          "Mercedes-Benz",
          "Mercedes-Benz",
          "Mercedes-Benz",
          "Mercedes-Benz",
          "Mercedes-Benz",
          "Mercury",
          "Mercury",
          "Mercury",
          "Mercury",
          "Mercury",
          "Mercury",
          "Mercury",
          "Mercury",
          "Mercury",
          "Mitsubishi",
          "Mitsubishi",
          "Mitsubishi",
          "Mitsubishi",
          "Mitsubishi",
          "Mitsubishi",
          "Mitsubishi",
          "Mitsubishi",
          "Mitsubishi",
          "Mitsubishi",
          "Mitsubishi",
          "Mitsubishi",
          "Mitsubishi",
          "Nissan",
          "Nissan",
          "Nissan",
          "Nissan",
          "Nissan",
          "Nissan",
          "Nissan",
          "Nissan",
          "Nissan",
          "Nissan",
          "Nissan",
          "Nissan",
          "Nissan",
          "Nissan",
          "Nissan",
          "Nissan",
          "Nissan",
          "Oldsmobile",
          "Oldsmobile",
          "Oldsmobile",
          "Pontiac",
          "Pontiac",
          "Pontiac",
          "Pontiac",
          "Pontiac",
          "Pontiac",
          "Pontiac",
          "Pontiac",
          "Pontiac",
          "Pontiac",
          "Pontiac",
          "Porsche",
          "Porsche",
          "Porsche",
          "Porsche",
          "Porsche",
          "Porsche",
          "Porsche",
          "Saab",
          "Saab",
          "Saab",
          "Saab",
          "Saab",
          "Saab",
          "Saab",
          "Saturn",
          "Saturn",
          "Saturn",
          "Saturn",
          "Saturn",
          "Saturn",
          "Saturn",
          "Saturn",
          "Scion",
          "Scion",
          "Subaru",
          "Subaru",
          "Subaru",
          "Subaru",
          "Subaru",
          "Subaru",
          "Subaru",
          "Subaru",
          "Subaru",
          "Subaru",
          "Subaru",
          "Suzuki",
          "Suzuki",
          "Suzuki",
          "Suzuki",
          "Suzuki",
          "Suzuki",
          "Suzuki",
          "Suzuki",
          "Toyota",
          "Toyota",
          "Toyota",
          "Toyota",
          "Toyota",
          "Toyota",
          "Toyota",
          "Toyota",
          "Toyota",
          "Toyota",
          "Toyota",
          "Toyota",
          "Toyota",
          "Toyota",
          "Toyota",
          "Toyota",
          "Toyota",
          "Toyota",
          "Toyota",
          "Toyota",
          "Toyota",
          "Toyota",
          "Toyota",
          "Toyota",
          "Toyota",
          "Toyota",
          "Toyota",
          "Toyota",
          "Volkswagen",
          "Volkswagen",
          "Volkswagen",
          "Volkswagen",
          "Volkswagen",
          "Volkswagen",
          "Volkswagen",
          "Volkswagen",
          "Volkswagen",
          "Volkswagen",
          "Volkswagen",
          "Volkswagen",
          "Volkswagen",
          "Volkswagen",
          "Volkswagen",
          "Volvo",
          "Volvo",
          "Volvo",
          "Volvo",
          "Volvo",
          "Volvo",
          "Volvo",
          "Volvo",
          "Volvo",
          "Volvo",
          "Volvo",
          "Volvo"
         ],
         "x0": " ",
         "xaxis": "x",
         "y": [
          23,
          31,
          29,
          28,
          24,
          24,
          24,
          31,
          30,
          28,
          26,
          25,
          27,
          25,
          27,
          25,
          25,
          24,
          24,
          20,
          22,
          28,
          28,
          29,
          25,
          21,
          23,
          22,
          29,
          29,
          27,
          27,
          30,
          30,
          29,
          28,
          28,
          30,
          26,
          26,
          26,
          24,
          23,
          28,
          29,
          26,
          21,
          26,
          30,
          29,
          30,
          28,
          29,
          29,
          28,
          18,
          21,
          25,
          26,
          26,
          26,
          25,
          17,
          18,
          18,
          21,
          22,
          34,
          34,
          37,
          37,
          37,
          32,
          34,
          30,
          32,
          30,
          28,
          32,
          28,
          17,
          26,
          25,
          25,
          18,
          23,
          21,
          17,
          19,
          30,
          29,
          29,
          30,
          28,
          27,
          29,
          27,
          27,
          30,
          27,
          28,
          26,
          25,
          25,
          23,
          21,
          36,
          36,
          29,
          28,
          28,
          27,
          26,
          25,
          20,
          22,
          22,
          21,
          13,
          19,
          20,
          23,
          33,
          36,
          33,
          33,
          28,
          27,
          26,
          25,
          25,
          25,
          23,
          29,
          25,
          24,
          19,
          18,
          29,
          33,
          26,
          19,
          19,
          17,
          20,
          25,
          20,
          18,
          19,
          51,
          66,
          22,
          25,
          24,
          38,
          44,
          38,
          34,
          34,
          37,
          30,
          30,
          30,
          25,
          25,
          25,
          12,
          26,
          33,
          33,
          33,
          34,
          34,
          34,
          27,
          27,
          26,
          26,
          26,
          26,
          26,
          26,
          26,
          23,
          23,
          22,
          19,
          20,
          21,
          26,
          25,
          26,
          28,
          24,
          28,
          28,
          24,
          26,
          26,
          23,
          23,
          21,
          24,
          19,
          19,
          30,
          33,
          32,
          32,
          32,
          32,
          27,
          25,
          22,
          33,
          16,
          16,
          21,
          19,
          17,
          24,
          29,
          25,
          24,
          25,
          23,
          25,
          23,
          24,
          18,
          18,
          26,
          26,
          24,
          24,
          25,
          25,
          25,
          37,
          34,
          25,
          34,
          31,
          32,
          25,
          28,
          28,
          25,
          24,
          29,
          19,
          14,
          17,
          30,
          26,
          25,
          25,
          26,
          26,
          27,
          21,
          24,
          19,
          26,
          22,
          27,
          20,
          26,
          24,
          23,
          21,
          19,
          29,
          22,
          25,
          27,
          24,
          21,
          27,
          25,
          25,
          26,
          25,
          23,
          23,
          26,
          21,
          19,
          27,
          31,
          31,
          30,
          31,
          25,
          26,
          28,
          28,
          26,
          31,
          19,
          21,
          20,
          35,
          35,
          26,
          28,
          26,
          28,
          28,
          26,
          25,
          26,
          26,
          20,
          18,
          25,
          32,
          29,
          26,
          26,
          33,
          29,
          30,
          33,
          30,
          20,
          26,
          24,
          20,
          36,
          18,
          26,
          24,
          26,
          24,
          29,
          26,
          28,
          28,
          29,
          29,
          29,
          30,
          29,
          26,
          35,
          35,
          35,
          35,
          35,
          28,
          34,
          38,
          35,
          28,
          28,
          28,
          27,
          26,
          26,
          27,
          24,
          28,
          28,
          28,
          22,
          22,
          31,
          31,
          31,
          30,
          27,
          29,
          51,
          17,
          21,
          24,
          17,
          27,
          40,
          40,
          40,
          43,
          39,
          43,
          33,
          29,
          33,
          29,
          29,
          29,
          29,
          29,
          27,
          27,
          33,
          32,
          27,
          18,
          17,
          36,
          20,
          31,
          31,
          46,
          31,
          30,
          30,
          31,
          26,
          25,
          22,
          19,
          30,
          31,
          25,
          20,
          29,
          27,
          28,
          25,
          28,
          27,
          28,
          26,
          26,
          29,
          27
         ],
         "y0": " ",
         "yaxis": "y"
        }
       ],
       "layout": {
        "boxmode": "group",
        "legend": {
         "tracegroupgap": 0
        },
        "margin": {
         "t": 60
        },
        "template": {
         "data": {
          "bar": [
           {
            "error_x": {
             "color": "#2a3f5f"
            },
            "error_y": {
             "color": "#2a3f5f"
            },
            "marker": {
             "line": {
              "color": "#E5ECF6",
              "width": 0.5
             },
             "pattern": {
              "fillmode": "overlay",
              "size": 10,
              "solidity": 0.2
             }
            },
            "type": "bar"
           }
          ],
          "barpolar": [
           {
            "marker": {
             "line": {
              "color": "#E5ECF6",
              "width": 0.5
             },
             "pattern": {
              "fillmode": "overlay",
              "size": 10,
              "solidity": 0.2
             }
            },
            "type": "barpolar"
           }
          ],
          "carpet": [
           {
            "aaxis": {
             "endlinecolor": "#2a3f5f",
             "gridcolor": "white",
             "linecolor": "white",
             "minorgridcolor": "white",
             "startlinecolor": "#2a3f5f"
            },
            "baxis": {
             "endlinecolor": "#2a3f5f",
             "gridcolor": "white",
             "linecolor": "white",
             "minorgridcolor": "white",
             "startlinecolor": "#2a3f5f"
            },
            "type": "carpet"
           }
          ],
          "choropleth": [
           {
            "colorbar": {
             "outlinewidth": 0,
             "ticks": ""
            },
            "type": "choropleth"
           }
          ],
          "contour": [
           {
            "colorbar": {
             "outlinewidth": 0,
             "ticks": ""
            },
            "colorscale": [
             [
              0,
              "#0d0887"
             ],
             [
              0.1111111111111111,
              "#46039f"
             ],
             [
              0.2222222222222222,
              "#7201a8"
             ],
             [
              0.3333333333333333,
              "#9c179e"
             ],
             [
              0.4444444444444444,
              "#bd3786"
             ],
             [
              0.5555555555555556,
              "#d8576b"
             ],
             [
              0.6666666666666666,
              "#ed7953"
             ],
             [
              0.7777777777777778,
              "#fb9f3a"
             ],
             [
              0.8888888888888888,
              "#fdca26"
             ],
             [
              1,
              "#f0f921"
             ]
            ],
            "type": "contour"
           }
          ],
          "contourcarpet": [
           {
            "colorbar": {
             "outlinewidth": 0,
             "ticks": ""
            },
            "type": "contourcarpet"
           }
          ],
          "heatmap": [
           {
            "colorbar": {
             "outlinewidth": 0,
             "ticks": ""
            },
            "colorscale": [
             [
              0,
              "#0d0887"
             ],
             [
              0.1111111111111111,
              "#46039f"
             ],
             [
              0.2222222222222222,
              "#7201a8"
             ],
             [
              0.3333333333333333,
              "#9c179e"
             ],
             [
              0.4444444444444444,
              "#bd3786"
             ],
             [
              0.5555555555555556,
              "#d8576b"
             ],
             [
              0.6666666666666666,
              "#ed7953"
             ],
             [
              0.7777777777777778,
              "#fb9f3a"
             ],
             [
              0.8888888888888888,
              "#fdca26"
             ],
             [
              1,
              "#f0f921"
             ]
            ],
            "type": "heatmap"
           }
          ],
          "heatmapgl": [
           {
            "colorbar": {
             "outlinewidth": 0,
             "ticks": ""
            },
            "colorscale": [
             [
              0,
              "#0d0887"
             ],
             [
              0.1111111111111111,
              "#46039f"
             ],
             [
              0.2222222222222222,
              "#7201a8"
             ],
             [
              0.3333333333333333,
              "#9c179e"
             ],
             [
              0.4444444444444444,
              "#bd3786"
             ],
             [
              0.5555555555555556,
              "#d8576b"
             ],
             [
              0.6666666666666666,
              "#ed7953"
             ],
             [
              0.7777777777777778,
              "#fb9f3a"
             ],
             [
              0.8888888888888888,
              "#fdca26"
             ],
             [
              1,
              "#f0f921"
             ]
            ],
            "type": "heatmapgl"
           }
          ],
          "histogram": [
           {
            "marker": {
             "pattern": {
              "fillmode": "overlay",
              "size": 10,
              "solidity": 0.2
             }
            },
            "type": "histogram"
           }
          ],
          "histogram2d": [
           {
            "colorbar": {
             "outlinewidth": 0,
             "ticks": ""
            },
            "colorscale": [
             [
              0,
              "#0d0887"
             ],
             [
              0.1111111111111111,
              "#46039f"
             ],
             [
              0.2222222222222222,
              "#7201a8"
             ],
             [
              0.3333333333333333,
              "#9c179e"
             ],
             [
              0.4444444444444444,
              "#bd3786"
             ],
             [
              0.5555555555555556,
              "#d8576b"
             ],
             [
              0.6666666666666666,
              "#ed7953"
             ],
             [
              0.7777777777777778,
              "#fb9f3a"
             ],
             [
              0.8888888888888888,
              "#fdca26"
             ],
             [
              1,
              "#f0f921"
             ]
            ],
            "type": "histogram2d"
           }
          ],
          "histogram2dcontour": [
           {
            "colorbar": {
             "outlinewidth": 0,
             "ticks": ""
            },
            "colorscale": [
             [
              0,
              "#0d0887"
             ],
             [
              0.1111111111111111,
              "#46039f"
             ],
             [
              0.2222222222222222,
              "#7201a8"
             ],
             [
              0.3333333333333333,
              "#9c179e"
             ],
             [
              0.4444444444444444,
              "#bd3786"
             ],
             [
              0.5555555555555556,
              "#d8576b"
             ],
             [
              0.6666666666666666,
              "#ed7953"
             ],
             [
              0.7777777777777778,
              "#fb9f3a"
             ],
             [
              0.8888888888888888,
              "#fdca26"
             ],
             [
              1,
              "#f0f921"
             ]
            ],
            "type": "histogram2dcontour"
           }
          ],
          "mesh3d": [
           {
            "colorbar": {
             "outlinewidth": 0,
             "ticks": ""
            },
            "type": "mesh3d"
           }
          ],
          "parcoords": [
           {
            "line": {
             "colorbar": {
              "outlinewidth": 0,
              "ticks": ""
             }
            },
            "type": "parcoords"
           }
          ],
          "pie": [
           {
            "automargin": true,
            "type": "pie"
           }
          ],
          "scatter": [
           {
            "fillpattern": {
             "fillmode": "overlay",
             "size": 10,
             "solidity": 0.2
            },
            "type": "scatter"
           }
          ],
          "scatter3d": [
           {
            "line": {
             "colorbar": {
              "outlinewidth": 0,
              "ticks": ""
             }
            },
            "marker": {
             "colorbar": {
              "outlinewidth": 0,
              "ticks": ""
             }
            },
            "type": "scatter3d"
           }
          ],
          "scattercarpet": [
           {
            "marker": {
             "colorbar": {
              "outlinewidth": 0,
              "ticks": ""
             }
            },
            "type": "scattercarpet"
           }
          ],
          "scattergeo": [
           {
            "marker": {
             "colorbar": {
              "outlinewidth": 0,
              "ticks": ""
             }
            },
            "type": "scattergeo"
           }
          ],
          "scattergl": [
           {
            "marker": {
             "colorbar": {
              "outlinewidth": 0,
              "ticks": ""
             }
            },
            "type": "scattergl"
           }
          ],
          "scattermapbox": [
           {
            "marker": {
             "colorbar": {
              "outlinewidth": 0,
              "ticks": ""
             }
            },
            "type": "scattermapbox"
           }
          ],
          "scatterpolar": [
           {
            "marker": {
             "colorbar": {
              "outlinewidth": 0,
              "ticks": ""
             }
            },
            "type": "scatterpolar"
           }
          ],
          "scatterpolargl": [
           {
            "marker": {
             "colorbar": {
              "outlinewidth": 0,
              "ticks": ""
             }
            },
            "type": "scatterpolargl"
           }
          ],
          "scatterternary": [
           {
            "marker": {
             "colorbar": {
              "outlinewidth": 0,
              "ticks": ""
             }
            },
            "type": "scatterternary"
           }
          ],
          "surface": [
           {
            "colorbar": {
             "outlinewidth": 0,
             "ticks": ""
            },
            "colorscale": [
             [
              0,
              "#0d0887"
             ],
             [
              0.1111111111111111,
              "#46039f"
             ],
             [
              0.2222222222222222,
              "#7201a8"
             ],
             [
              0.3333333333333333,
              "#9c179e"
             ],
             [
              0.4444444444444444,
              "#bd3786"
             ],
             [
              0.5555555555555556,
              "#d8576b"
             ],
             [
              0.6666666666666666,
              "#ed7953"
             ],
             [
              0.7777777777777778,
              "#fb9f3a"
             ],
             [
              0.8888888888888888,
              "#fdca26"
             ],
             [
              1,
              "#f0f921"
             ]
            ],
            "type": "surface"
           }
          ],
          "table": [
           {
            "cells": {
             "fill": {
              "color": "#EBF0F8"
             },
             "line": {
              "color": "white"
             }
            },
            "header": {
             "fill": {
              "color": "#C8D4E3"
             },
             "line": {
              "color": "white"
             }
            },
            "type": "table"
           }
          ]
         },
         "layout": {
          "annotationdefaults": {
           "arrowcolor": "#2a3f5f",
           "arrowhead": 0,
           "arrowwidth": 1
          },
          "autotypenumbers": "strict",
          "coloraxis": {
           "colorbar": {
            "outlinewidth": 0,
            "ticks": ""
           }
          },
          "colorscale": {
           "diverging": [
            [
             0,
             "#8e0152"
            ],
            [
             0.1,
             "#c51b7d"
            ],
            [
             0.2,
             "#de77ae"
            ],
            [
             0.3,
             "#f1b6da"
            ],
            [
             0.4,
             "#fde0ef"
            ],
            [
             0.5,
             "#f7f7f7"
            ],
            [
             0.6,
             "#e6f5d0"
            ],
            [
             0.7,
             "#b8e186"
            ],
            [
             0.8,
             "#7fbc41"
            ],
            [
             0.9,
             "#4d9221"
            ],
            [
             1,
             "#276419"
            ]
           ],
           "sequential": [
            [
             0,
             "#0d0887"
            ],
            [
             0.1111111111111111,
             "#46039f"
            ],
            [
             0.2222222222222222,
             "#7201a8"
            ],
            [
             0.3333333333333333,
             "#9c179e"
            ],
            [
             0.4444444444444444,
             "#bd3786"
            ],
            [
             0.5555555555555556,
             "#d8576b"
            ],
            [
             0.6666666666666666,
             "#ed7953"
            ],
            [
             0.7777777777777778,
             "#fb9f3a"
            ],
            [
             0.8888888888888888,
             "#fdca26"
            ],
            [
             1,
             "#f0f921"
            ]
           ],
           "sequentialminus": [
            [
             0,
             "#0d0887"
            ],
            [
             0.1111111111111111,
             "#46039f"
            ],
            [
             0.2222222222222222,
             "#7201a8"
            ],
            [
             0.3333333333333333,
             "#9c179e"
            ],
            [
             0.4444444444444444,
             "#bd3786"
            ],
            [
             0.5555555555555556,
             "#d8576b"
            ],
            [
             0.6666666666666666,
             "#ed7953"
            ],
            [
             0.7777777777777778,
             "#fb9f3a"
            ],
            [
             0.8888888888888888,
             "#fdca26"
            ],
            [
             1,
             "#f0f921"
            ]
           ]
          },
          "colorway": [
           "#636efa",
           "#EF553B",
           "#00cc96",
           "#ab63fa",
           "#FFA15A",
           "#19d3f3",
           "#FF6692",
           "#B6E880",
           "#FF97FF",
           "#FECB52"
          ],
          "font": {
           "color": "#2a3f5f"
          },
          "geo": {
           "bgcolor": "white",
           "lakecolor": "white",
           "landcolor": "#E5ECF6",
           "showlakes": true,
           "showland": true,
           "subunitcolor": "white"
          },
          "hoverlabel": {
           "align": "left"
          },
          "hovermode": "closest",
          "mapbox": {
           "style": "light"
          },
          "paper_bgcolor": "white",
          "plot_bgcolor": "#E5ECF6",
          "polar": {
           "angularaxis": {
            "gridcolor": "white",
            "linecolor": "white",
            "ticks": ""
           },
           "bgcolor": "#E5ECF6",
           "radialaxis": {
            "gridcolor": "white",
            "linecolor": "white",
            "ticks": ""
           }
          },
          "scene": {
           "xaxis": {
            "backgroundcolor": "#E5ECF6",
            "gridcolor": "white",
            "gridwidth": 2,
            "linecolor": "white",
            "showbackground": true,
            "ticks": "",
            "zerolinecolor": "white"
           },
           "yaxis": {
            "backgroundcolor": "#E5ECF6",
            "gridcolor": "white",
            "gridwidth": 2,
            "linecolor": "white",
            "showbackground": true,
            "ticks": "",
            "zerolinecolor": "white"
           },
           "zaxis": {
            "backgroundcolor": "#E5ECF6",
            "gridcolor": "white",
            "gridwidth": 2,
            "linecolor": "white",
            "showbackground": true,
            "ticks": "",
            "zerolinecolor": "white"
           }
          },
          "shapedefaults": {
           "line": {
            "color": "#2a3f5f"
           }
          },
          "ternary": {
           "aaxis": {
            "gridcolor": "white",
            "linecolor": "white",
            "ticks": ""
           },
           "baxis": {
            "gridcolor": "white",
            "linecolor": "white",
            "ticks": ""
           },
           "bgcolor": "#E5ECF6",
           "caxis": {
            "gridcolor": "white",
            "linecolor": "white",
            "ticks": ""
           }
          },
          "title": {
           "x": 0.05
          },
          "xaxis": {
           "automargin": true,
           "gridcolor": "white",
           "linecolor": "white",
           "ticks": "",
           "title": {
            "standoff": 15
           },
           "zerolinecolor": "white",
           "zerolinewidth": 2
          },
          "yaxis": {
           "automargin": true,
           "gridcolor": "white",
           "linecolor": "white",
           "ticks": "",
           "title": {
            "standoff": 15
           },
           "zerolinecolor": "white",
           "zerolinewidth": 2
          }
         }
        },
        "xaxis": {
         "anchor": "y",
         "domain": [
          0,
          1
         ],
         "title": {
          "text": "Make"
         }
        },
        "yaxis": {
         "anchor": "x",
         "domain": [
          0,
          1
         ],
         "title": {
          "text": "MPG_Highway"
         }
        }
       }
      },
      "text/html": [
       "<div>                            <div id=\"505cfab7-dc98-4992-bd08-40ac1c5b2368\" class=\"plotly-graph-div\" style=\"height:525px; width:100%;\"></div>            <script type=\"text/javascript\">                require([\"plotly\"], function(Plotly) {                    window.PLOTLYENV=window.PLOTLYENV || {};                                    if (document.getElementById(\"505cfab7-dc98-4992-bd08-40ac1c5b2368\")) {                    Plotly.newPlot(                        \"505cfab7-dc98-4992-bd08-40ac1c5b2368\",                        [{\"alignmentgroup\":\"True\",\"hovertemplate\":\"Make=%{x}<br>MPG_Highway=%{y}<extra></extra>\",\"legendgroup\":\"\",\"marker\":{\"color\":\"#636efa\"},\"name\":\"\",\"notched\":false,\"offsetgroup\":\"\",\"orientation\":\"v\",\"showlegend\":false,\"x\":[\"Acura\",\"Acura\",\"Acura\",\"Acura\",\"Acura\",\"Acura\",\"Acura\",\"Audi\",\"Audi\",\"Audi\",\"Audi\",\"Audi\",\"Audi\",\"Audi\",\"Audi\",\"Audi\",\"Audi\",\"Audi\",\"Audi\",\"Audi\",\"Audi\",\"Audi\",\"Audi\",\"Audi\",\"Audi\",\"Audi\",\"BMW\",\"BMW\",\"BMW\",\"BMW\",\"BMW\",\"BMW\",\"BMW\",\"BMW\",\"BMW\",\"BMW\",\"BMW\",\"BMW\",\"BMW\",\"BMW\",\"BMW\",\"BMW\",\"BMW\",\"BMW\",\"BMW\",\"BMW\",\"Buick\",\"Buick\",\"Buick\",\"Buick\",\"Buick\",\"Buick\",\"Buick\",\"Buick\",\"Buick\",\"Cadillac\",\"Cadillac\",\"Cadillac\",\"Cadillac\",\"Cadillac\",\"Cadillac\",\"Cadillac\",\"Cadillac\",\"Chevrolet\",\"Chevrolet\",\"Chevrolet\",\"Chevrolet\",\"Chevrolet\",\"Chevrolet\",\"Chevrolet\",\"Chevrolet\",\"Chevrolet\",\"Chevrolet\",\"Chevrolet\",\"Chevrolet\",\"Chevrolet\",\"Chevrolet\",\"Chevrolet\",\"Chevrolet\",\"Chevrolet\",\"Chevrolet\",\"Chevrolet\",\"Chevrolet\",\"Chevrolet\",\"Chevrolet\",\"Chevrolet\",\"Chevrolet\",\"Chevrolet\",\"Chevrolet\",\"Chevrolet\",\"Chrysler\",\"Chrysler\",\"Chrysler\",\"Chrysler\",\"Chrysler\",\"Chrysler\",\"Chrysler\",\"Chrysler\",\"Chrysler\",\"Chrysler\",\"Chrysler\",\"Chrysler\",\"Chrysler\",\"Chrysler\",\"Chrysler\",\"Dodge\",\"Dodge\",\"Dodge\",\"Dodge\",\"Dodge\",\"Dodge\",\"Dodge\",\"Dodge\",\"Dodge\",\"Dodge\",\"Dodge\",\"Dodge\",\"Dodge\",\"Ford\",\"Ford\",\"Ford\",\"Ford\",\"Ford\",\"Ford\",\"Ford\",\"Ford\",\"Ford\",\"Ford\",\"Ford\",\"Ford\",\"Ford\",\"Ford\",\"Ford\",\"Ford\",\"Ford\",\"Ford\",\"Ford\",\"Ford\",\"Ford\",\"Ford\",\"Ford\",\"GMC\",\"GMC\",\"GMC\",\"GMC\",\"GMC\",\"GMC\",\"GMC\",\"GMC\",\"Honda\",\"Honda\",\"Honda\",\"Honda\",\"Honda\",\"Honda\",\"Honda\",\"Honda\",\"Honda\",\"Honda\",\"Honda\",\"Honda\",\"Honda\",\"Honda\",\"Honda\",\"Honda\",\"Honda\",\"Hummer\",\"Hyundai\",\"Hyundai\",\"Hyundai\",\"Hyundai\",\"Hyundai\",\"Hyundai\",\"Hyundai\",\"Hyundai\",\"Hyundai\",\"Hyundai\",\"Hyundai\",\"Hyundai\",\"Infiniti\",\"Infiniti\",\"Infiniti\",\"Infiniti\",\"Infiniti\",\"Infiniti\",\"Infiniti\",\"Infiniti\",\"Isuzu\",\"Isuzu\",\"Jaguar\",\"Jaguar\",\"Jaguar\",\"Jaguar\",\"Jaguar\",\"Jaguar\",\"Jaguar\",\"Jaguar\",\"Jaguar\",\"Jaguar\",\"Jaguar\",\"Jaguar\",\"Jeep\",\"Jeep\",\"Jeep\",\"Kia\",\"Kia\",\"Kia\",\"Kia\",\"Kia\",\"Kia\",\"Kia\",\"Kia\",\"Kia\",\"Kia\",\"Kia\",\"Land Rover\",\"Land Rover\",\"Land Rover\",\"Lexus\",\"Lexus\",\"Lexus\",\"Lexus\",\"Lexus\",\"Lexus\",\"Lexus\",\"Lexus\",\"Lexus\",\"Lexus\",\"Lexus\",\"Lincoln\",\"Lincoln\",\"Lincoln\",\"Lincoln\",\"Lincoln\",\"Lincoln\",\"Lincoln\",\"Lincoln\",\"Lincoln\",\"MINI\",\"MINI\",\"Mazda\",\"Mazda\",\"Mazda\",\"Mazda\",\"Mazda\",\"Mazda\",\"Mazda\",\"Mazda\",\"Mazda\",\"Mazda\",\"Mazda\",\"Mercedes-Benz\",\"Mercedes-Benz\",\"Mercedes-Benz\",\"Mercedes-Benz\",\"Mercedes-Benz\",\"Mercedes-Benz\",\"Mercedes-Benz\",\"Mercedes-Benz\",\"Mercedes-Benz\",\"Mercedes-Benz\",\"Mercedes-Benz\",\"Mercedes-Benz\",\"Mercedes-Benz\",\"Mercedes-Benz\",\"Mercedes-Benz\",\"Mercedes-Benz\",\"Mercedes-Benz\",\"Mercedes-Benz\",\"Mercedes-Benz\",\"Mercedes-Benz\",\"Mercedes-Benz\",\"Mercedes-Benz\",\"Mercedes-Benz\",\"Mercedes-Benz\",\"Mercedes-Benz\",\"Mercedes-Benz\",\"Mercury\",\"Mercury\",\"Mercury\",\"Mercury\",\"Mercury\",\"Mercury\",\"Mercury\",\"Mercury\",\"Mercury\",\"Mitsubishi\",\"Mitsubishi\",\"Mitsubishi\",\"Mitsubishi\",\"Mitsubishi\",\"Mitsubishi\",\"Mitsubishi\",\"Mitsubishi\",\"Mitsubishi\",\"Mitsubishi\",\"Mitsubishi\",\"Mitsubishi\",\"Mitsubishi\",\"Nissan\",\"Nissan\",\"Nissan\",\"Nissan\",\"Nissan\",\"Nissan\",\"Nissan\",\"Nissan\",\"Nissan\",\"Nissan\",\"Nissan\",\"Nissan\",\"Nissan\",\"Nissan\",\"Nissan\",\"Nissan\",\"Nissan\",\"Oldsmobile\",\"Oldsmobile\",\"Oldsmobile\",\"Pontiac\",\"Pontiac\",\"Pontiac\",\"Pontiac\",\"Pontiac\",\"Pontiac\",\"Pontiac\",\"Pontiac\",\"Pontiac\",\"Pontiac\",\"Pontiac\",\"Porsche\",\"Porsche\",\"Porsche\",\"Porsche\",\"Porsche\",\"Porsche\",\"Porsche\",\"Saab\",\"Saab\",\"Saab\",\"Saab\",\"Saab\",\"Saab\",\"Saab\",\"Saturn\",\"Saturn\",\"Saturn\",\"Saturn\",\"Saturn\",\"Saturn\",\"Saturn\",\"Saturn\",\"Scion\",\"Scion\",\"Subaru\",\"Subaru\",\"Subaru\",\"Subaru\",\"Subaru\",\"Subaru\",\"Subaru\",\"Subaru\",\"Subaru\",\"Subaru\",\"Subaru\",\"Suzuki\",\"Suzuki\",\"Suzuki\",\"Suzuki\",\"Suzuki\",\"Suzuki\",\"Suzuki\",\"Suzuki\",\"Toyota\",\"Toyota\",\"Toyota\",\"Toyota\",\"Toyota\",\"Toyota\",\"Toyota\",\"Toyota\",\"Toyota\",\"Toyota\",\"Toyota\",\"Toyota\",\"Toyota\",\"Toyota\",\"Toyota\",\"Toyota\",\"Toyota\",\"Toyota\",\"Toyota\",\"Toyota\",\"Toyota\",\"Toyota\",\"Toyota\",\"Toyota\",\"Toyota\",\"Toyota\",\"Toyota\",\"Toyota\",\"Volkswagen\",\"Volkswagen\",\"Volkswagen\",\"Volkswagen\",\"Volkswagen\",\"Volkswagen\",\"Volkswagen\",\"Volkswagen\",\"Volkswagen\",\"Volkswagen\",\"Volkswagen\",\"Volkswagen\",\"Volkswagen\",\"Volkswagen\",\"Volkswagen\",\"Volvo\",\"Volvo\",\"Volvo\",\"Volvo\",\"Volvo\",\"Volvo\",\"Volvo\",\"Volvo\",\"Volvo\",\"Volvo\",\"Volvo\",\"Volvo\"],\"x0\":\" \",\"xaxis\":\"x\",\"y\":[23,31,29,28,24,24,24,31,30,28,26,25,27,25,27,25,25,24,24,20,22,28,28,29,25,21,23,22,29,29,27,27,30,30,29,28,28,30,26,26,26,24,23,28,29,26,21,26,30,29,30,28,29,29,28,18,21,25,26,26,26,25,17,18,18,21,22,34,34,37,37,37,32,34,30,32,30,28,32,28,17,26,25,25,18,23,21,17,19,30,29,29,30,28,27,29,27,27,30,27,28,26,25,25,23,21,36,36,29,28,28,27,26,25,20,22,22,21,13,19,20,23,33,36,33,33,28,27,26,25,25,25,23,29,25,24,19,18,29,33,26,19,19,17,20,25,20,18,19,51,66,22,25,24,38,44,38,34,34,37,30,30,30,25,25,25,12,26,33,33,33,34,34,34,27,27,26,26,26,26,26,26,26,23,23,22,19,20,21,26,25,26,28,24,28,28,24,26,26,23,23,21,24,19,19,30,33,32,32,32,32,27,25,22,33,16,16,21,19,17,24,29,25,24,25,23,25,23,24,18,18,26,26,24,24,25,25,25,37,34,25,34,31,32,25,28,28,25,24,29,19,14,17,30,26,25,25,26,26,27,21,24,19,26,22,27,20,26,24,23,21,19,29,22,25,27,24,21,27,25,25,26,25,23,23,26,21,19,27,31,31,30,31,25,26,28,28,26,31,19,21,20,35,35,26,28,26,28,28,26,25,26,26,20,18,25,32,29,26,26,33,29,30,33,30,20,26,24,20,36,18,26,24,26,24,29,26,28,28,29,29,29,30,29,26,35,35,35,35,35,28,34,38,35,28,28,28,27,26,26,27,24,28,28,28,22,22,31,31,31,30,27,29,51,17,21,24,17,27,40,40,40,43,39,43,33,29,33,29,29,29,29,29,27,27,33,32,27,18,17,36,20,31,31,46,31,30,30,31,26,25,22,19,30,31,25,20,29,27,28,25,28,27,28,26,26,29,27],\"y0\":\" \",\"yaxis\":\"y\",\"type\":\"box\"}],                        {\"template\":{\"data\":{\"histogram2dcontour\":[{\"type\":\"histogram2dcontour\",\"colorbar\":{\"outlinewidth\":0,\"ticks\":\"\"},\"colorscale\":[[0.0,\"#0d0887\"],[0.1111111111111111,\"#46039f\"],[0.2222222222222222,\"#7201a8\"],[0.3333333333333333,\"#9c179e\"],[0.4444444444444444,\"#bd3786\"],[0.5555555555555556,\"#d8576b\"],[0.6666666666666666,\"#ed7953\"],[0.7777777777777778,\"#fb9f3a\"],[0.8888888888888888,\"#fdca26\"],[1.0,\"#f0f921\"]]}],\"choropleth\":[{\"type\":\"choropleth\",\"colorbar\":{\"outlinewidth\":0,\"ticks\":\"\"}}],\"histogram2d\":[{\"type\":\"histogram2d\",\"colorbar\":{\"outlinewidth\":0,\"ticks\":\"\"},\"colorscale\":[[0.0,\"#0d0887\"],[0.1111111111111111,\"#46039f\"],[0.2222222222222222,\"#7201a8\"],[0.3333333333333333,\"#9c179e\"],[0.4444444444444444,\"#bd3786\"],[0.5555555555555556,\"#d8576b\"],[0.6666666666666666,\"#ed7953\"],[0.7777777777777778,\"#fb9f3a\"],[0.8888888888888888,\"#fdca26\"],[1.0,\"#f0f921\"]]}],\"heatmap\":[{\"type\":\"heatmap\",\"colorbar\":{\"outlinewidth\":0,\"ticks\":\"\"},\"colorscale\":[[0.0,\"#0d0887\"],[0.1111111111111111,\"#46039f\"],[0.2222222222222222,\"#7201a8\"],[0.3333333333333333,\"#9c179e\"],[0.4444444444444444,\"#bd3786\"],[0.5555555555555556,\"#d8576b\"],[0.6666666666666666,\"#ed7953\"],[0.7777777777777778,\"#fb9f3a\"],[0.8888888888888888,\"#fdca26\"],[1.0,\"#f0f921\"]]}],\"heatmapgl\":[{\"type\":\"heatmapgl\",\"colorbar\":{\"outlinewidth\":0,\"ticks\":\"\"},\"colorscale\":[[0.0,\"#0d0887\"],[0.1111111111111111,\"#46039f\"],[0.2222222222222222,\"#7201a8\"],[0.3333333333333333,\"#9c179e\"],[0.4444444444444444,\"#bd3786\"],[0.5555555555555556,\"#d8576b\"],[0.6666666666666666,\"#ed7953\"],[0.7777777777777778,\"#fb9f3a\"],[0.8888888888888888,\"#fdca26\"],[1.0,\"#f0f921\"]]}],\"contourcarpet\":[{\"type\":\"contourcarpet\",\"colorbar\":{\"outlinewidth\":0,\"ticks\":\"\"}}],\"contour\":[{\"type\":\"contour\",\"colorbar\":{\"outlinewidth\":0,\"ticks\":\"\"},\"colorscale\":[[0.0,\"#0d0887\"],[0.1111111111111111,\"#46039f\"],[0.2222222222222222,\"#7201a8\"],[0.3333333333333333,\"#9c179e\"],[0.4444444444444444,\"#bd3786\"],[0.5555555555555556,\"#d8576b\"],[0.6666666666666666,\"#ed7953\"],[0.7777777777777778,\"#fb9f3a\"],[0.8888888888888888,\"#fdca26\"],[1.0,\"#f0f921\"]]}],\"surface\":[{\"type\":\"surface\",\"colorbar\":{\"outlinewidth\":0,\"ticks\":\"\"},\"colorscale\":[[0.0,\"#0d0887\"],[0.1111111111111111,\"#46039f\"],[0.2222222222222222,\"#7201a8\"],[0.3333333333333333,\"#9c179e\"],[0.4444444444444444,\"#bd3786\"],[0.5555555555555556,\"#d8576b\"],[0.6666666666666666,\"#ed7953\"],[0.7777777777777778,\"#fb9f3a\"],[0.8888888888888888,\"#fdca26\"],[1.0,\"#f0f921\"]]}],\"mesh3d\":[{\"type\":\"mesh3d\",\"colorbar\":{\"outlinewidth\":0,\"ticks\":\"\"}}],\"scatter\":[{\"fillpattern\":{\"fillmode\":\"overlay\",\"size\":10,\"solidity\":0.2},\"type\":\"scatter\"}],\"parcoords\":[{\"type\":\"parcoords\",\"line\":{\"colorbar\":{\"outlinewidth\":0,\"ticks\":\"\"}}}],\"scatterpolargl\":[{\"type\":\"scatterpolargl\",\"marker\":{\"colorbar\":{\"outlinewidth\":0,\"ticks\":\"\"}}}],\"bar\":[{\"error_x\":{\"color\":\"#2a3f5f\"},\"error_y\":{\"color\":\"#2a3f5f\"},\"marker\":{\"line\":{\"color\":\"#E5ECF6\",\"width\":0.5},\"pattern\":{\"fillmode\":\"overlay\",\"size\":10,\"solidity\":0.2}},\"type\":\"bar\"}],\"scattergeo\":[{\"type\":\"scattergeo\",\"marker\":{\"colorbar\":{\"outlinewidth\":0,\"ticks\":\"\"}}}],\"scatterpolar\":[{\"type\":\"scatterpolar\",\"marker\":{\"colorbar\":{\"outlinewidth\":0,\"ticks\":\"\"}}}],\"histogram\":[{\"marker\":{\"pattern\":{\"fillmode\":\"overlay\",\"size\":10,\"solidity\":0.2}},\"type\":\"histogram\"}],\"scattergl\":[{\"type\":\"scattergl\",\"marker\":{\"colorbar\":{\"outlinewidth\":0,\"ticks\":\"\"}}}],\"scatter3d\":[{\"type\":\"scatter3d\",\"line\":{\"colorbar\":{\"outlinewidth\":0,\"ticks\":\"\"}},\"marker\":{\"colorbar\":{\"outlinewidth\":0,\"ticks\":\"\"}}}],\"scattermapbox\":[{\"type\":\"scattermapbox\",\"marker\":{\"colorbar\":{\"outlinewidth\":0,\"ticks\":\"\"}}}],\"scatterternary\":[{\"type\":\"scatterternary\",\"marker\":{\"colorbar\":{\"outlinewidth\":0,\"ticks\":\"\"}}}],\"scattercarpet\":[{\"type\":\"scattercarpet\",\"marker\":{\"colorbar\":{\"outlinewidth\":0,\"ticks\":\"\"}}}],\"carpet\":[{\"aaxis\":{\"endlinecolor\":\"#2a3f5f\",\"gridcolor\":\"white\",\"linecolor\":\"white\",\"minorgridcolor\":\"white\",\"startlinecolor\":\"#2a3f5f\"},\"baxis\":{\"endlinecolor\":\"#2a3f5f\",\"gridcolor\":\"white\",\"linecolor\":\"white\",\"minorgridcolor\":\"white\",\"startlinecolor\":\"#2a3f5f\"},\"type\":\"carpet\"}],\"table\":[{\"cells\":{\"fill\":{\"color\":\"#EBF0F8\"},\"line\":{\"color\":\"white\"}},\"header\":{\"fill\":{\"color\":\"#C8D4E3\"},\"line\":{\"color\":\"white\"}},\"type\":\"table\"}],\"barpolar\":[{\"marker\":{\"line\":{\"color\":\"#E5ECF6\",\"width\":0.5},\"pattern\":{\"fillmode\":\"overlay\",\"size\":10,\"solidity\":0.2}},\"type\":\"barpolar\"}],\"pie\":[{\"automargin\":true,\"type\":\"pie\"}]},\"layout\":{\"autotypenumbers\":\"strict\",\"colorway\":[\"#636efa\",\"#EF553B\",\"#00cc96\",\"#ab63fa\",\"#FFA15A\",\"#19d3f3\",\"#FF6692\",\"#B6E880\",\"#FF97FF\",\"#FECB52\"],\"font\":{\"color\":\"#2a3f5f\"},\"hovermode\":\"closest\",\"hoverlabel\":{\"align\":\"left\"},\"paper_bgcolor\":\"white\",\"plot_bgcolor\":\"#E5ECF6\",\"polar\":{\"bgcolor\":\"#E5ECF6\",\"angularaxis\":{\"gridcolor\":\"white\",\"linecolor\":\"white\",\"ticks\":\"\"},\"radialaxis\":{\"gridcolor\":\"white\",\"linecolor\":\"white\",\"ticks\":\"\"}},\"ternary\":{\"bgcolor\":\"#E5ECF6\",\"aaxis\":{\"gridcolor\":\"white\",\"linecolor\":\"white\",\"ticks\":\"\"},\"baxis\":{\"gridcolor\":\"white\",\"linecolor\":\"white\",\"ticks\":\"\"},\"caxis\":{\"gridcolor\":\"white\",\"linecolor\":\"white\",\"ticks\":\"\"}},\"coloraxis\":{\"colorbar\":{\"outlinewidth\":0,\"ticks\":\"\"}},\"colorscale\":{\"sequential\":[[0.0,\"#0d0887\"],[0.1111111111111111,\"#46039f\"],[0.2222222222222222,\"#7201a8\"],[0.3333333333333333,\"#9c179e\"],[0.4444444444444444,\"#bd3786\"],[0.5555555555555556,\"#d8576b\"],[0.6666666666666666,\"#ed7953\"],[0.7777777777777778,\"#fb9f3a\"],[0.8888888888888888,\"#fdca26\"],[1.0,\"#f0f921\"]],\"sequentialminus\":[[0.0,\"#0d0887\"],[0.1111111111111111,\"#46039f\"],[0.2222222222222222,\"#7201a8\"],[0.3333333333333333,\"#9c179e\"],[0.4444444444444444,\"#bd3786\"],[0.5555555555555556,\"#d8576b\"],[0.6666666666666666,\"#ed7953\"],[0.7777777777777778,\"#fb9f3a\"],[0.8888888888888888,\"#fdca26\"],[1.0,\"#f0f921\"]],\"diverging\":[[0,\"#8e0152\"],[0.1,\"#c51b7d\"],[0.2,\"#de77ae\"],[0.3,\"#f1b6da\"],[0.4,\"#fde0ef\"],[0.5,\"#f7f7f7\"],[0.6,\"#e6f5d0\"],[0.7,\"#b8e186\"],[0.8,\"#7fbc41\"],[0.9,\"#4d9221\"],[1,\"#276419\"]]},\"xaxis\":{\"gridcolor\":\"white\",\"linecolor\":\"white\",\"ticks\":\"\",\"title\":{\"standoff\":15},\"zerolinecolor\":\"white\",\"automargin\":true,\"zerolinewidth\":2},\"yaxis\":{\"gridcolor\":\"white\",\"linecolor\":\"white\",\"ticks\":\"\",\"title\":{\"standoff\":15},\"zerolinecolor\":\"white\",\"automargin\":true,\"zerolinewidth\":2},\"scene\":{\"xaxis\":{\"backgroundcolor\":\"#E5ECF6\",\"gridcolor\":\"white\",\"linecolor\":\"white\",\"showbackground\":true,\"ticks\":\"\",\"zerolinecolor\":\"white\",\"gridwidth\":2},\"yaxis\":{\"backgroundcolor\":\"#E5ECF6\",\"gridcolor\":\"white\",\"linecolor\":\"white\",\"showbackground\":true,\"ticks\":\"\",\"zerolinecolor\":\"white\",\"gridwidth\":2},\"zaxis\":{\"backgroundcolor\":\"#E5ECF6\",\"gridcolor\":\"white\",\"linecolor\":\"white\",\"showbackground\":true,\"ticks\":\"\",\"zerolinecolor\":\"white\",\"gridwidth\":2}},\"shapedefaults\":{\"line\":{\"color\":\"#2a3f5f\"}},\"annotationdefaults\":{\"arrowcolor\":\"#2a3f5f\",\"arrowhead\":0,\"arrowwidth\":1},\"geo\":{\"bgcolor\":\"white\",\"landcolor\":\"#E5ECF6\",\"subunitcolor\":\"white\",\"showland\":true,\"showlakes\":true,\"lakecolor\":\"white\"},\"title\":{\"x\":0.05},\"mapbox\":{\"style\":\"light\"}}},\"xaxis\":{\"anchor\":\"y\",\"domain\":[0.0,1.0],\"title\":{\"text\":\"Make\"}},\"yaxis\":{\"anchor\":\"x\",\"domain\":[0.0,1.0],\"title\":{\"text\":\"MPG_Highway\"}},\"legend\":{\"tracegroupgap\":0},\"margin\":{\"t\":60},\"boxmode\":\"group\"},                        {\"responsive\": true}                    ).then(function(){\n",
       "                            \n",
       "var gd = document.getElementById('505cfab7-dc98-4992-bd08-40ac1c5b2368');\n",
       "var x = new MutationObserver(function (mutations, observer) {{\n",
       "        var display = window.getComputedStyle(gd).display;\n",
       "        if (!display || display === 'none') {{\n",
       "            console.log([gd, 'removed!']);\n",
       "            Plotly.purge(gd);\n",
       "            observer.disconnect();\n",
       "        }}\n",
       "}});\n",
       "\n",
       "// Listen for the removal of the full notebook cells\n",
       "var notebookContainer = gd.closest('#notebook-container');\n",
       "if (notebookContainer) {{\n",
       "    x.observe(notebookContainer, {childList: true});\n",
       "}}\n",
       "\n",
       "// Listen for the clearing of the current output cell\n",
       "var outputEl = gd.closest('.output');\n",
       "if (outputEl) {{\n",
       "    x.observe(outputEl, {childList: true});\n",
       "}}\n",
       "\n",
       "                        })                };                });            </script>        </div>"
      ]
     },
     "metadata": {},
     "output_type": "display_data"
    }
   ],
   "source": [
    "fig = px.box(df, x=\"Make\", y=\"MPG_Highway\")\n",
    "fig.show()"
   ]
  },
  {
   "cell_type": "code",
   "execution_count": 122,
   "metadata": {},
   "outputs": [
    {
     "data": {
      "application/vnd.plotly.v1+json": {
       "config": {
        "plotlyServerURL": "https://plot.ly"
       },
       "data": [
        {
         "coloraxis": "coloraxis",
         "hovertemplate": "x: %{x}<br>y: %{y}<br>color: %{z}<extra></extra>",
         "name": "0",
         "texttemplate": "%{z}",
         "type": "heatmap",
         "x": [
          "Invoice",
          "EngineSize",
          "Cylinders",
          "Horsepower",
          "MPG_City",
          "MPG_Highway",
          "Weight",
          "Wheelbase",
          "Length"
         ],
         "xaxis": "x",
         "y": [
          "Invoice",
          "EngineSize",
          "Cylinders",
          "Horsepower",
          "MPG_City",
          "MPG_Highway",
          "Weight",
          "Wheelbase",
          "Length"
         ],
         "yaxis": "y",
         "z": [
          [
           1,
           0.5644979779575717,
           0.6452260665851463,
           0.8237464987316087,
           -0.47044202738983004,
           -0.43458523330945803,
           0.44233222055681204,
           0.14832752412185055,
           0.16658639173798911
          ],
          [
           0.5644979779575717,
           1,
           0.9080023416877024,
           0.7874349451231378,
           -0.7094710668127525,
           -0.7173016327383449,
           0.8078667388532568,
           0.6365169992086608,
           0.6374482149199929
          ],
          [
           0.6452260665851463,
           0.9080023416877024,
           1,
           0.8103405605448716,
           -0.6844016161073357,
           -0.6760998911521607,
           0.7422086742280625,
           0.5467304669551134,
           0.5477826640367848
          ],
          [
           0.8237464987316087,
           0.7874349451231378,
           0.8103405605448716,
           1,
           -0.6766993120656525,
           -0.6471953785007615,
           0.6307958167406745,
           0.38739778269895553,
           0.3815538813265893
          ],
          [
           -0.47044202738983004,
           -0.7094710668127525,
           -0.6844016161073357,
           -0.6766993120656525,
           1,
           0.9410205153430933,
           -0.7379659978301696,
           -0.5072838055365505,
           -0.5015264136482293
          ],
          [
           -0.43458523330945803,
           -0.7173016327383449,
           -0.6760998911521607,
           -0.6471953785007615,
           0.9410205153430933,
           1,
           -0.7909894957789138,
           -0.5246606379253733,
           -0.46609176323645063
          ],
          [
           0.44233222055681204,
           0.8078667388532568,
           0.7422086742280625,
           0.6307958167406745,
           -0.7379659978301696,
           -0.7909894957789138,
           1,
           0.7607027588863561,
           0.6900207109097161
          ],
          [
           0.14832752412185055,
           0.6365169992086608,
           0.5467304669551134,
           0.38739778269895553,
           -0.5072838055365505,
           -0.5246606379253733,
           0.7607027588863561,
           1,
           0.889194666850983
          ],
          [
           0.16658639173798911,
           0.6374482149199929,
           0.5477826640367848,
           0.3815538813265893,
           -0.5015264136482293,
           -0.46609176323645063,
           0.6900207109097161,
           0.889194666850983,
           1
          ]
         ]
        }
       ],
       "layout": {
        "coloraxis": {
         "colorscale": [
          [
           0,
           "#0d0887"
          ],
          [
           0.1111111111111111,
           "#46039f"
          ],
          [
           0.2222222222222222,
           "#7201a8"
          ],
          [
           0.3333333333333333,
           "#9c179e"
          ],
          [
           0.4444444444444444,
           "#bd3786"
          ],
          [
           0.5555555555555556,
           "#d8576b"
          ],
          [
           0.6666666666666666,
           "#ed7953"
          ],
          [
           0.7777777777777778,
           "#fb9f3a"
          ],
          [
           0.8888888888888888,
           "#fdca26"
          ],
          [
           1,
           "#f0f921"
          ]
         ]
        },
        "margin": {
         "t": 60
        },
        "template": {
         "data": {
          "bar": [
           {
            "error_x": {
             "color": "#2a3f5f"
            },
            "error_y": {
             "color": "#2a3f5f"
            },
            "marker": {
             "line": {
              "color": "#E5ECF6",
              "width": 0.5
             },
             "pattern": {
              "fillmode": "overlay",
              "size": 10,
              "solidity": 0.2
             }
            },
            "type": "bar"
           }
          ],
          "barpolar": [
           {
            "marker": {
             "line": {
              "color": "#E5ECF6",
              "width": 0.5
             },
             "pattern": {
              "fillmode": "overlay",
              "size": 10,
              "solidity": 0.2
             }
            },
            "type": "barpolar"
           }
          ],
          "carpet": [
           {
            "aaxis": {
             "endlinecolor": "#2a3f5f",
             "gridcolor": "white",
             "linecolor": "white",
             "minorgridcolor": "white",
             "startlinecolor": "#2a3f5f"
            },
            "baxis": {
             "endlinecolor": "#2a3f5f",
             "gridcolor": "white",
             "linecolor": "white",
             "minorgridcolor": "white",
             "startlinecolor": "#2a3f5f"
            },
            "type": "carpet"
           }
          ],
          "choropleth": [
           {
            "colorbar": {
             "outlinewidth": 0,
             "ticks": ""
            },
            "type": "choropleth"
           }
          ],
          "contour": [
           {
            "colorbar": {
             "outlinewidth": 0,
             "ticks": ""
            },
            "colorscale": [
             [
              0,
              "#0d0887"
             ],
             [
              0.1111111111111111,
              "#46039f"
             ],
             [
              0.2222222222222222,
              "#7201a8"
             ],
             [
              0.3333333333333333,
              "#9c179e"
             ],
             [
              0.4444444444444444,
              "#bd3786"
             ],
             [
              0.5555555555555556,
              "#d8576b"
             ],
             [
              0.6666666666666666,
              "#ed7953"
             ],
             [
              0.7777777777777778,
              "#fb9f3a"
             ],
             [
              0.8888888888888888,
              "#fdca26"
             ],
             [
              1,
              "#f0f921"
             ]
            ],
            "type": "contour"
           }
          ],
          "contourcarpet": [
           {
            "colorbar": {
             "outlinewidth": 0,
             "ticks": ""
            },
            "type": "contourcarpet"
           }
          ],
          "heatmap": [
           {
            "colorbar": {
             "outlinewidth": 0,
             "ticks": ""
            },
            "colorscale": [
             [
              0,
              "#0d0887"
             ],
             [
              0.1111111111111111,
              "#46039f"
             ],
             [
              0.2222222222222222,
              "#7201a8"
             ],
             [
              0.3333333333333333,
              "#9c179e"
             ],
             [
              0.4444444444444444,
              "#bd3786"
             ],
             [
              0.5555555555555556,
              "#d8576b"
             ],
             [
              0.6666666666666666,
              "#ed7953"
             ],
             [
              0.7777777777777778,
              "#fb9f3a"
             ],
             [
              0.8888888888888888,
              "#fdca26"
             ],
             [
              1,
              "#f0f921"
             ]
            ],
            "type": "heatmap"
           }
          ],
          "heatmapgl": [
           {
            "colorbar": {
             "outlinewidth": 0,
             "ticks": ""
            },
            "colorscale": [
             [
              0,
              "#0d0887"
             ],
             [
              0.1111111111111111,
              "#46039f"
             ],
             [
              0.2222222222222222,
              "#7201a8"
             ],
             [
              0.3333333333333333,
              "#9c179e"
             ],
             [
              0.4444444444444444,
              "#bd3786"
             ],
             [
              0.5555555555555556,
              "#d8576b"
             ],
             [
              0.6666666666666666,
              "#ed7953"
             ],
             [
              0.7777777777777778,
              "#fb9f3a"
             ],
             [
              0.8888888888888888,
              "#fdca26"
             ],
             [
              1,
              "#f0f921"
             ]
            ],
            "type": "heatmapgl"
           }
          ],
          "histogram": [
           {
            "marker": {
             "pattern": {
              "fillmode": "overlay",
              "size": 10,
              "solidity": 0.2
             }
            },
            "type": "histogram"
           }
          ],
          "histogram2d": [
           {
            "colorbar": {
             "outlinewidth": 0,
             "ticks": ""
            },
            "colorscale": [
             [
              0,
              "#0d0887"
             ],
             [
              0.1111111111111111,
              "#46039f"
             ],
             [
              0.2222222222222222,
              "#7201a8"
             ],
             [
              0.3333333333333333,
              "#9c179e"
             ],
             [
              0.4444444444444444,
              "#bd3786"
             ],
             [
              0.5555555555555556,
              "#d8576b"
             ],
             [
              0.6666666666666666,
              "#ed7953"
             ],
             [
              0.7777777777777778,
              "#fb9f3a"
             ],
             [
              0.8888888888888888,
              "#fdca26"
             ],
             [
              1,
              "#f0f921"
             ]
            ],
            "type": "histogram2d"
           }
          ],
          "histogram2dcontour": [
           {
            "colorbar": {
             "outlinewidth": 0,
             "ticks": ""
            },
            "colorscale": [
             [
              0,
              "#0d0887"
             ],
             [
              0.1111111111111111,
              "#46039f"
             ],
             [
              0.2222222222222222,
              "#7201a8"
             ],
             [
              0.3333333333333333,
              "#9c179e"
             ],
             [
              0.4444444444444444,
              "#bd3786"
             ],
             [
              0.5555555555555556,
              "#d8576b"
             ],
             [
              0.6666666666666666,
              "#ed7953"
             ],
             [
              0.7777777777777778,
              "#fb9f3a"
             ],
             [
              0.8888888888888888,
              "#fdca26"
             ],
             [
              1,
              "#f0f921"
             ]
            ],
            "type": "histogram2dcontour"
           }
          ],
          "mesh3d": [
           {
            "colorbar": {
             "outlinewidth": 0,
             "ticks": ""
            },
            "type": "mesh3d"
           }
          ],
          "parcoords": [
           {
            "line": {
             "colorbar": {
              "outlinewidth": 0,
              "ticks": ""
             }
            },
            "type": "parcoords"
           }
          ],
          "pie": [
           {
            "automargin": true,
            "type": "pie"
           }
          ],
          "scatter": [
           {
            "fillpattern": {
             "fillmode": "overlay",
             "size": 10,
             "solidity": 0.2
            },
            "type": "scatter"
           }
          ],
          "scatter3d": [
           {
            "line": {
             "colorbar": {
              "outlinewidth": 0,
              "ticks": ""
             }
            },
            "marker": {
             "colorbar": {
              "outlinewidth": 0,
              "ticks": ""
             }
            },
            "type": "scatter3d"
           }
          ],
          "scattercarpet": [
           {
            "marker": {
             "colorbar": {
              "outlinewidth": 0,
              "ticks": ""
             }
            },
            "type": "scattercarpet"
           }
          ],
          "scattergeo": [
           {
            "marker": {
             "colorbar": {
              "outlinewidth": 0,
              "ticks": ""
             }
            },
            "type": "scattergeo"
           }
          ],
          "scattergl": [
           {
            "marker": {
             "colorbar": {
              "outlinewidth": 0,
              "ticks": ""
             }
            },
            "type": "scattergl"
           }
          ],
          "scattermapbox": [
           {
            "marker": {
             "colorbar": {
              "outlinewidth": 0,
              "ticks": ""
             }
            },
            "type": "scattermapbox"
           }
          ],
          "scatterpolar": [
           {
            "marker": {
             "colorbar": {
              "outlinewidth": 0,
              "ticks": ""
             }
            },
            "type": "scatterpolar"
           }
          ],
          "scatterpolargl": [
           {
            "marker": {
             "colorbar": {
              "outlinewidth": 0,
              "ticks": ""
             }
            },
            "type": "scatterpolargl"
           }
          ],
          "scatterternary": [
           {
            "marker": {
             "colorbar": {
              "outlinewidth": 0,
              "ticks": ""
             }
            },
            "type": "scatterternary"
           }
          ],
          "surface": [
           {
            "colorbar": {
             "outlinewidth": 0,
             "ticks": ""
            },
            "colorscale": [
             [
              0,
              "#0d0887"
             ],
             [
              0.1111111111111111,
              "#46039f"
             ],
             [
              0.2222222222222222,
              "#7201a8"
             ],
             [
              0.3333333333333333,
              "#9c179e"
             ],
             [
              0.4444444444444444,
              "#bd3786"
             ],
             [
              0.5555555555555556,
              "#d8576b"
             ],
             [
              0.6666666666666666,
              "#ed7953"
             ],
             [
              0.7777777777777778,
              "#fb9f3a"
             ],
             [
              0.8888888888888888,
              "#fdca26"
             ],
             [
              1,
              "#f0f921"
             ]
            ],
            "type": "surface"
           }
          ],
          "table": [
           {
            "cells": {
             "fill": {
              "color": "#EBF0F8"
             },
             "line": {
              "color": "white"
             }
            },
            "header": {
             "fill": {
              "color": "#C8D4E3"
             },
             "line": {
              "color": "white"
             }
            },
            "type": "table"
           }
          ]
         },
         "layout": {
          "annotationdefaults": {
           "arrowcolor": "#2a3f5f",
           "arrowhead": 0,
           "arrowwidth": 1
          },
          "autotypenumbers": "strict",
          "coloraxis": {
           "colorbar": {
            "outlinewidth": 0,
            "ticks": ""
           }
          },
          "colorscale": {
           "diverging": [
            [
             0,
             "#8e0152"
            ],
            [
             0.1,
             "#c51b7d"
            ],
            [
             0.2,
             "#de77ae"
            ],
            [
             0.3,
             "#f1b6da"
            ],
            [
             0.4,
             "#fde0ef"
            ],
            [
             0.5,
             "#f7f7f7"
            ],
            [
             0.6,
             "#e6f5d0"
            ],
            [
             0.7,
             "#b8e186"
            ],
            [
             0.8,
             "#7fbc41"
            ],
            [
             0.9,
             "#4d9221"
            ],
            [
             1,
             "#276419"
            ]
           ],
           "sequential": [
            [
             0,
             "#0d0887"
            ],
            [
             0.1111111111111111,
             "#46039f"
            ],
            [
             0.2222222222222222,
             "#7201a8"
            ],
            [
             0.3333333333333333,
             "#9c179e"
            ],
            [
             0.4444444444444444,
             "#bd3786"
            ],
            [
             0.5555555555555556,
             "#d8576b"
            ],
            [
             0.6666666666666666,
             "#ed7953"
            ],
            [
             0.7777777777777778,
             "#fb9f3a"
            ],
            [
             0.8888888888888888,
             "#fdca26"
            ],
            [
             1,
             "#f0f921"
            ]
           ],
           "sequentialminus": [
            [
             0,
             "#0d0887"
            ],
            [
             0.1111111111111111,
             "#46039f"
            ],
            [
             0.2222222222222222,
             "#7201a8"
            ],
            [
             0.3333333333333333,
             "#9c179e"
            ],
            [
             0.4444444444444444,
             "#bd3786"
            ],
            [
             0.5555555555555556,
             "#d8576b"
            ],
            [
             0.6666666666666666,
             "#ed7953"
            ],
            [
             0.7777777777777778,
             "#fb9f3a"
            ],
            [
             0.8888888888888888,
             "#fdca26"
            ],
            [
             1,
             "#f0f921"
            ]
           ]
          },
          "colorway": [
           "#636efa",
           "#EF553B",
           "#00cc96",
           "#ab63fa",
           "#FFA15A",
           "#19d3f3",
           "#FF6692",
           "#B6E880",
           "#FF97FF",
           "#FECB52"
          ],
          "font": {
           "color": "#2a3f5f"
          },
          "geo": {
           "bgcolor": "white",
           "lakecolor": "white",
           "landcolor": "#E5ECF6",
           "showlakes": true,
           "showland": true,
           "subunitcolor": "white"
          },
          "hoverlabel": {
           "align": "left"
          },
          "hovermode": "closest",
          "mapbox": {
           "style": "light"
          },
          "paper_bgcolor": "white",
          "plot_bgcolor": "#E5ECF6",
          "polar": {
           "angularaxis": {
            "gridcolor": "white",
            "linecolor": "white",
            "ticks": ""
           },
           "bgcolor": "#E5ECF6",
           "radialaxis": {
            "gridcolor": "white",
            "linecolor": "white",
            "ticks": ""
           }
          },
          "scene": {
           "xaxis": {
            "backgroundcolor": "#E5ECF6",
            "gridcolor": "white",
            "gridwidth": 2,
            "linecolor": "white",
            "showbackground": true,
            "ticks": "",
            "zerolinecolor": "white"
           },
           "yaxis": {
            "backgroundcolor": "#E5ECF6",
            "gridcolor": "white",
            "gridwidth": 2,
            "linecolor": "white",
            "showbackground": true,
            "ticks": "",
            "zerolinecolor": "white"
           },
           "zaxis": {
            "backgroundcolor": "#E5ECF6",
            "gridcolor": "white",
            "gridwidth": 2,
            "linecolor": "white",
            "showbackground": true,
            "ticks": "",
            "zerolinecolor": "white"
           }
          },
          "shapedefaults": {
           "line": {
            "color": "#2a3f5f"
           }
          },
          "ternary": {
           "aaxis": {
            "gridcolor": "white",
            "linecolor": "white",
            "ticks": ""
           },
           "baxis": {
            "gridcolor": "white",
            "linecolor": "white",
            "ticks": ""
           },
           "bgcolor": "#E5ECF6",
           "caxis": {
            "gridcolor": "white",
            "linecolor": "white",
            "ticks": ""
           }
          },
          "title": {
           "x": 0.05
          },
          "xaxis": {
           "automargin": true,
           "gridcolor": "white",
           "linecolor": "white",
           "ticks": "",
           "title": {
            "standoff": 15
           },
           "zerolinecolor": "white",
           "zerolinewidth": 2
          },
          "yaxis": {
           "automargin": true,
           "gridcolor": "white",
           "linecolor": "white",
           "ticks": "",
           "title": {
            "standoff": 15
           },
           "zerolinecolor": "white",
           "zerolinewidth": 2
          }
         }
        },
        "xaxis": {
         "anchor": "y",
         "constrain": "domain",
         "domain": [
          0,
          1
         ],
         "scaleanchor": "y"
        },
        "yaxis": {
         "anchor": "x",
         "autorange": "reversed",
         "constrain": "domain",
         "domain": [
          0,
          1
         ]
        }
       }
      },
      "text/html": [
       "<div>                            <div id=\"3d4af1b1-76af-4482-a47e-b3303207591a\" class=\"plotly-graph-div\" style=\"height:525px; width:100%;\"></div>            <script type=\"text/javascript\">                require([\"plotly\"], function(Plotly) {                    window.PLOTLYENV=window.PLOTLYENV || {};                                    if (document.getElementById(\"3d4af1b1-76af-4482-a47e-b3303207591a\")) {                    Plotly.newPlot(                        \"3d4af1b1-76af-4482-a47e-b3303207591a\",                        [{\"coloraxis\":\"coloraxis\",\"name\":\"0\",\"texttemplate\":\"%{z}\",\"x\":[\"Invoice\",\"EngineSize\",\"Cylinders\",\"Horsepower\",\"MPG_City\",\"MPG_Highway\",\"Weight\",\"Wheelbase\",\"Length\"],\"y\":[\"Invoice\",\"EngineSize\",\"Cylinders\",\"Horsepower\",\"MPG_City\",\"MPG_Highway\",\"Weight\",\"Wheelbase\",\"Length\"],\"z\":[[1.0,0.5644979779575717,0.6452260665851463,0.8237464987316087,-0.47044202738983004,-0.43458523330945803,0.44233222055681204,0.14832752412185055,0.16658639173798911],[0.5644979779575717,1.0,0.9080023416877024,0.7874349451231378,-0.7094710668127525,-0.7173016327383449,0.8078667388532568,0.6365169992086608,0.6374482149199929],[0.6452260665851463,0.9080023416877024,1.0,0.8103405605448716,-0.6844016161073357,-0.6760998911521607,0.7422086742280625,0.5467304669551134,0.5477826640367848],[0.8237464987316087,0.7874349451231378,0.8103405605448716,1.0,-0.6766993120656525,-0.6471953785007615,0.6307958167406745,0.38739778269895553,0.3815538813265893],[-0.47044202738983004,-0.7094710668127525,-0.6844016161073357,-0.6766993120656525,1.0,0.9410205153430933,-0.7379659978301696,-0.5072838055365505,-0.5015264136482293],[-0.43458523330945803,-0.7173016327383449,-0.6760998911521607,-0.6471953785007615,0.9410205153430933,1.0,-0.7909894957789138,-0.5246606379253733,-0.46609176323645063],[0.44233222055681204,0.8078667388532568,0.7422086742280625,0.6307958167406745,-0.7379659978301696,-0.7909894957789138,1.0,0.7607027588863561,0.6900207109097161],[0.14832752412185055,0.6365169992086608,0.5467304669551134,0.38739778269895553,-0.5072838055365505,-0.5246606379253733,0.7607027588863561,1.0,0.889194666850983],[0.16658639173798911,0.6374482149199929,0.5477826640367848,0.3815538813265893,-0.5015264136482293,-0.46609176323645063,0.6900207109097161,0.889194666850983,1.0]],\"type\":\"heatmap\",\"xaxis\":\"x\",\"yaxis\":\"y\",\"hovertemplate\":\"x: %{x}<br>y: %{y}<br>color: %{z}<extra></extra>\"}],                        {\"template\":{\"data\":{\"histogram2dcontour\":[{\"type\":\"histogram2dcontour\",\"colorbar\":{\"outlinewidth\":0,\"ticks\":\"\"},\"colorscale\":[[0.0,\"#0d0887\"],[0.1111111111111111,\"#46039f\"],[0.2222222222222222,\"#7201a8\"],[0.3333333333333333,\"#9c179e\"],[0.4444444444444444,\"#bd3786\"],[0.5555555555555556,\"#d8576b\"],[0.6666666666666666,\"#ed7953\"],[0.7777777777777778,\"#fb9f3a\"],[0.8888888888888888,\"#fdca26\"],[1.0,\"#f0f921\"]]}],\"choropleth\":[{\"type\":\"choropleth\",\"colorbar\":{\"outlinewidth\":0,\"ticks\":\"\"}}],\"histogram2d\":[{\"type\":\"histogram2d\",\"colorbar\":{\"outlinewidth\":0,\"ticks\":\"\"},\"colorscale\":[[0.0,\"#0d0887\"],[0.1111111111111111,\"#46039f\"],[0.2222222222222222,\"#7201a8\"],[0.3333333333333333,\"#9c179e\"],[0.4444444444444444,\"#bd3786\"],[0.5555555555555556,\"#d8576b\"],[0.6666666666666666,\"#ed7953\"],[0.7777777777777778,\"#fb9f3a\"],[0.8888888888888888,\"#fdca26\"],[1.0,\"#f0f921\"]]}],\"heatmap\":[{\"type\":\"heatmap\",\"colorbar\":{\"outlinewidth\":0,\"ticks\":\"\"},\"colorscale\":[[0.0,\"#0d0887\"],[0.1111111111111111,\"#46039f\"],[0.2222222222222222,\"#7201a8\"],[0.3333333333333333,\"#9c179e\"],[0.4444444444444444,\"#bd3786\"],[0.5555555555555556,\"#d8576b\"],[0.6666666666666666,\"#ed7953\"],[0.7777777777777778,\"#fb9f3a\"],[0.8888888888888888,\"#fdca26\"],[1.0,\"#f0f921\"]]}],\"heatmapgl\":[{\"type\":\"heatmapgl\",\"colorbar\":{\"outlinewidth\":0,\"ticks\":\"\"},\"colorscale\":[[0.0,\"#0d0887\"],[0.1111111111111111,\"#46039f\"],[0.2222222222222222,\"#7201a8\"],[0.3333333333333333,\"#9c179e\"],[0.4444444444444444,\"#bd3786\"],[0.5555555555555556,\"#d8576b\"],[0.6666666666666666,\"#ed7953\"],[0.7777777777777778,\"#fb9f3a\"],[0.8888888888888888,\"#fdca26\"],[1.0,\"#f0f921\"]]}],\"contourcarpet\":[{\"type\":\"contourcarpet\",\"colorbar\":{\"outlinewidth\":0,\"ticks\":\"\"}}],\"contour\":[{\"type\":\"contour\",\"colorbar\":{\"outlinewidth\":0,\"ticks\":\"\"},\"colorscale\":[[0.0,\"#0d0887\"],[0.1111111111111111,\"#46039f\"],[0.2222222222222222,\"#7201a8\"],[0.3333333333333333,\"#9c179e\"],[0.4444444444444444,\"#bd3786\"],[0.5555555555555556,\"#d8576b\"],[0.6666666666666666,\"#ed7953\"],[0.7777777777777778,\"#fb9f3a\"],[0.8888888888888888,\"#fdca26\"],[1.0,\"#f0f921\"]]}],\"surface\":[{\"type\":\"surface\",\"colorbar\":{\"outlinewidth\":0,\"ticks\":\"\"},\"colorscale\":[[0.0,\"#0d0887\"],[0.1111111111111111,\"#46039f\"],[0.2222222222222222,\"#7201a8\"],[0.3333333333333333,\"#9c179e\"],[0.4444444444444444,\"#bd3786\"],[0.5555555555555556,\"#d8576b\"],[0.6666666666666666,\"#ed7953\"],[0.7777777777777778,\"#fb9f3a\"],[0.8888888888888888,\"#fdca26\"],[1.0,\"#f0f921\"]]}],\"mesh3d\":[{\"type\":\"mesh3d\",\"colorbar\":{\"outlinewidth\":0,\"ticks\":\"\"}}],\"scatter\":[{\"fillpattern\":{\"fillmode\":\"overlay\",\"size\":10,\"solidity\":0.2},\"type\":\"scatter\"}],\"parcoords\":[{\"type\":\"parcoords\",\"line\":{\"colorbar\":{\"outlinewidth\":0,\"ticks\":\"\"}}}],\"scatterpolargl\":[{\"type\":\"scatterpolargl\",\"marker\":{\"colorbar\":{\"outlinewidth\":0,\"ticks\":\"\"}}}],\"bar\":[{\"error_x\":{\"color\":\"#2a3f5f\"},\"error_y\":{\"color\":\"#2a3f5f\"},\"marker\":{\"line\":{\"color\":\"#E5ECF6\",\"width\":0.5},\"pattern\":{\"fillmode\":\"overlay\",\"size\":10,\"solidity\":0.2}},\"type\":\"bar\"}],\"scattergeo\":[{\"type\":\"scattergeo\",\"marker\":{\"colorbar\":{\"outlinewidth\":0,\"ticks\":\"\"}}}],\"scatterpolar\":[{\"type\":\"scatterpolar\",\"marker\":{\"colorbar\":{\"outlinewidth\":0,\"ticks\":\"\"}}}],\"histogram\":[{\"marker\":{\"pattern\":{\"fillmode\":\"overlay\",\"size\":10,\"solidity\":0.2}},\"type\":\"histogram\"}],\"scattergl\":[{\"type\":\"scattergl\",\"marker\":{\"colorbar\":{\"outlinewidth\":0,\"ticks\":\"\"}}}],\"scatter3d\":[{\"type\":\"scatter3d\",\"line\":{\"colorbar\":{\"outlinewidth\":0,\"ticks\":\"\"}},\"marker\":{\"colorbar\":{\"outlinewidth\":0,\"ticks\":\"\"}}}],\"scattermapbox\":[{\"type\":\"scattermapbox\",\"marker\":{\"colorbar\":{\"outlinewidth\":0,\"ticks\":\"\"}}}],\"scatterternary\":[{\"type\":\"scatterternary\",\"marker\":{\"colorbar\":{\"outlinewidth\":0,\"ticks\":\"\"}}}],\"scattercarpet\":[{\"type\":\"scattercarpet\",\"marker\":{\"colorbar\":{\"outlinewidth\":0,\"ticks\":\"\"}}}],\"carpet\":[{\"aaxis\":{\"endlinecolor\":\"#2a3f5f\",\"gridcolor\":\"white\",\"linecolor\":\"white\",\"minorgridcolor\":\"white\",\"startlinecolor\":\"#2a3f5f\"},\"baxis\":{\"endlinecolor\":\"#2a3f5f\",\"gridcolor\":\"white\",\"linecolor\":\"white\",\"minorgridcolor\":\"white\",\"startlinecolor\":\"#2a3f5f\"},\"type\":\"carpet\"}],\"table\":[{\"cells\":{\"fill\":{\"color\":\"#EBF0F8\"},\"line\":{\"color\":\"white\"}},\"header\":{\"fill\":{\"color\":\"#C8D4E3\"},\"line\":{\"color\":\"white\"}},\"type\":\"table\"}],\"barpolar\":[{\"marker\":{\"line\":{\"color\":\"#E5ECF6\",\"width\":0.5},\"pattern\":{\"fillmode\":\"overlay\",\"size\":10,\"solidity\":0.2}},\"type\":\"barpolar\"}],\"pie\":[{\"automargin\":true,\"type\":\"pie\"}]},\"layout\":{\"autotypenumbers\":\"strict\",\"colorway\":[\"#636efa\",\"#EF553B\",\"#00cc96\",\"#ab63fa\",\"#FFA15A\",\"#19d3f3\",\"#FF6692\",\"#B6E880\",\"#FF97FF\",\"#FECB52\"],\"font\":{\"color\":\"#2a3f5f\"},\"hovermode\":\"closest\",\"hoverlabel\":{\"align\":\"left\"},\"paper_bgcolor\":\"white\",\"plot_bgcolor\":\"#E5ECF6\",\"polar\":{\"bgcolor\":\"#E5ECF6\",\"angularaxis\":{\"gridcolor\":\"white\",\"linecolor\":\"white\",\"ticks\":\"\"},\"radialaxis\":{\"gridcolor\":\"white\",\"linecolor\":\"white\",\"ticks\":\"\"}},\"ternary\":{\"bgcolor\":\"#E5ECF6\",\"aaxis\":{\"gridcolor\":\"white\",\"linecolor\":\"white\",\"ticks\":\"\"},\"baxis\":{\"gridcolor\":\"white\",\"linecolor\":\"white\",\"ticks\":\"\"},\"caxis\":{\"gridcolor\":\"white\",\"linecolor\":\"white\",\"ticks\":\"\"}},\"coloraxis\":{\"colorbar\":{\"outlinewidth\":0,\"ticks\":\"\"}},\"colorscale\":{\"sequential\":[[0.0,\"#0d0887\"],[0.1111111111111111,\"#46039f\"],[0.2222222222222222,\"#7201a8\"],[0.3333333333333333,\"#9c179e\"],[0.4444444444444444,\"#bd3786\"],[0.5555555555555556,\"#d8576b\"],[0.6666666666666666,\"#ed7953\"],[0.7777777777777778,\"#fb9f3a\"],[0.8888888888888888,\"#fdca26\"],[1.0,\"#f0f921\"]],\"sequentialminus\":[[0.0,\"#0d0887\"],[0.1111111111111111,\"#46039f\"],[0.2222222222222222,\"#7201a8\"],[0.3333333333333333,\"#9c179e\"],[0.4444444444444444,\"#bd3786\"],[0.5555555555555556,\"#d8576b\"],[0.6666666666666666,\"#ed7953\"],[0.7777777777777778,\"#fb9f3a\"],[0.8888888888888888,\"#fdca26\"],[1.0,\"#f0f921\"]],\"diverging\":[[0,\"#8e0152\"],[0.1,\"#c51b7d\"],[0.2,\"#de77ae\"],[0.3,\"#f1b6da\"],[0.4,\"#fde0ef\"],[0.5,\"#f7f7f7\"],[0.6,\"#e6f5d0\"],[0.7,\"#b8e186\"],[0.8,\"#7fbc41\"],[0.9,\"#4d9221\"],[1,\"#276419\"]]},\"xaxis\":{\"gridcolor\":\"white\",\"linecolor\":\"white\",\"ticks\":\"\",\"title\":{\"standoff\":15},\"zerolinecolor\":\"white\",\"automargin\":true,\"zerolinewidth\":2},\"yaxis\":{\"gridcolor\":\"white\",\"linecolor\":\"white\",\"ticks\":\"\",\"title\":{\"standoff\":15},\"zerolinecolor\":\"white\",\"automargin\":true,\"zerolinewidth\":2},\"scene\":{\"xaxis\":{\"backgroundcolor\":\"#E5ECF6\",\"gridcolor\":\"white\",\"linecolor\":\"white\",\"showbackground\":true,\"ticks\":\"\",\"zerolinecolor\":\"white\",\"gridwidth\":2},\"yaxis\":{\"backgroundcolor\":\"#E5ECF6\",\"gridcolor\":\"white\",\"linecolor\":\"white\",\"showbackground\":true,\"ticks\":\"\",\"zerolinecolor\":\"white\",\"gridwidth\":2},\"zaxis\":{\"backgroundcolor\":\"#E5ECF6\",\"gridcolor\":\"white\",\"linecolor\":\"white\",\"showbackground\":true,\"ticks\":\"\",\"zerolinecolor\":\"white\",\"gridwidth\":2}},\"shapedefaults\":{\"line\":{\"color\":\"#2a3f5f\"}},\"annotationdefaults\":{\"arrowcolor\":\"#2a3f5f\",\"arrowhead\":0,\"arrowwidth\":1},\"geo\":{\"bgcolor\":\"white\",\"landcolor\":\"#E5ECF6\",\"subunitcolor\":\"white\",\"showland\":true,\"showlakes\":true,\"lakecolor\":\"white\"},\"title\":{\"x\":0.05},\"mapbox\":{\"style\":\"light\"}}},\"xaxis\":{\"anchor\":\"y\",\"domain\":[0.0,1.0],\"scaleanchor\":\"y\",\"constrain\":\"domain\"},\"yaxis\":{\"anchor\":\"x\",\"domain\":[0.0,1.0],\"autorange\":\"reversed\",\"constrain\":\"domain\"},\"coloraxis\":{\"colorscale\":[[0.0,\"#0d0887\"],[0.1111111111111111,\"#46039f\"],[0.2222222222222222,\"#7201a8\"],[0.3333333333333333,\"#9c179e\"],[0.4444444444444444,\"#bd3786\"],[0.5555555555555556,\"#d8576b\"],[0.6666666666666666,\"#ed7953\"],[0.7777777777777778,\"#fb9f3a\"],[0.8888888888888888,\"#fdca26\"],[1.0,\"#f0f921\"]]},\"margin\":{\"t\":60}},                        {\"responsive\": true}                    ).then(function(){\n",
       "                            \n",
       "var gd = document.getElementById('3d4af1b1-76af-4482-a47e-b3303207591a');\n",
       "var x = new MutationObserver(function (mutations, observer) {{\n",
       "        var display = window.getComputedStyle(gd).display;\n",
       "        if (!display || display === 'none') {{\n",
       "            console.log([gd, 'removed!']);\n",
       "            Plotly.purge(gd);\n",
       "            observer.disconnect();\n",
       "        }}\n",
       "}});\n",
       "\n",
       "// Listen for the removal of the full notebook cells\n",
       "var notebookContainer = gd.closest('#notebook-container');\n",
       "if (notebookContainer) {{\n",
       "    x.observe(notebookContainer, {childList: true});\n",
       "}}\n",
       "\n",
       "// Listen for the clearing of the current output cell\n",
       "var outputEl = gd.closest('.output');\n",
       "if (outputEl) {{\n",
       "    x.observe(outputEl, {childList: true});\n",
       "}}\n",
       "\n",
       "                        })                };                });            </script>        </div>"
      ]
     },
     "metadata": {},
     "output_type": "display_data"
    }
   ],
   "source": [
    "fig = px.imshow(df.corr(), text_auto=True)\n",
    "fig.show()"
   ]
  },
  {
   "cell_type": "code",
   "execution_count": 50,
   "metadata": {},
   "outputs": [
    {
     "data": {
      "text/plain": [
       "0        (26243.5, 34427.75]\n",
       "1        (18059.25, 26243.5]\n",
       "2        (18059.25, 26243.5]\n",
       "3        (26243.5, 34427.75]\n",
       "4        (34427.75, 42612.0]\n",
       "5        (34427.75, 42612.0]\n",
       "6        (75349.0, 83533.25]\n",
       "7        (18059.25, 26243.5]\n",
       "8        (26243.5, 34427.75]\n",
       "9        (26243.5, 34427.75]\n",
       "10       (26243.5, 34427.75]\n",
       "11       (26243.5, 34427.75]\n",
       "12       (26243.5, 34427.75]\n",
       "13       (34427.75, 42612.0]\n",
       "14       (34427.75, 42612.0]\n",
       "15       (34427.75, 42612.0]\n",
       "16       (34427.75, 42612.0]\n",
       "17       (42612.0, 50796.25]\n",
       "18       (58980.5, 67164.75]\n",
       "19       (42612.0, 50796.25]\n",
       "20       (75349.0, 83533.25]\n",
       "21       (26243.5, 34427.75]\n",
       "22       (26243.5, 34427.75]\n",
       "23       (34427.75, 42612.0]\n",
       "24       (34427.75, 42612.0]\n",
       "25       (42612.0, 50796.25]\n",
       "26       (26243.5, 34427.75]\n",
       "27       (42612.0, 50796.25]\n",
       "28       (18059.25, 26243.5]\n",
       "29       (26243.5, 34427.75]\n",
       "30       (34427.75, 42612.0]\n",
       "31       (26243.5, 34427.75]\n",
       "32       (26243.5, 34427.75]\n",
       "33       (26243.5, 34427.75]\n",
       "34       (26243.5, 34427.75]\n",
       "35       (34427.75, 42612.0]\n",
       "36       (34427.75, 42612.0]\n",
       "37       (34427.75, 42612.0]\n",
       "38       (42612.0, 50796.25]\n",
       "39       (58980.5, 67164.75]\n",
       "40       (58980.5, 67164.75]\n",
       "41       (42612.0, 50796.25]\n",
       "42       (50796.25, 58980.5]\n",
       "43       (26243.5, 34427.75]\n",
       "44       (34427.75, 42612.0]\n",
       "45       (26243.5, 34427.75]\n",
       "46       (26243.5, 34427.75]\n",
       "47       (18059.25, 26243.5]\n",
       "48       (18059.25, 26243.5]\n",
       "49       (18059.25, 26243.5]\n",
       "50       (18059.25, 26243.5]\n",
       "51       (18059.25, 26243.5]\n",
       "52       (26243.5, 34427.75]\n",
       "53       (26243.5, 34427.75]\n",
       "54       (34427.75, 42612.0]\n",
       "55       (42612.0, 50796.25]\n",
       "56       (42612.0, 50796.25]\n",
       "57       (26243.5, 34427.75]\n",
       "58       (34427.75, 42612.0]\n",
       "59       (42612.0, 50796.25]\n",
       "60       (42612.0, 50796.25]\n",
       "61       (67164.75, 75349.0]\n",
       "62       (42612.0, 50796.25]\n",
       "63       (34427.75, 42612.0]\n",
       "64       (34427.75, 42612.0]\n",
       "65       (26243.5, 34427.75]\n",
       "66       (18059.25, 26243.5]\n",
       "67      (9711.315, 18059.25]\n",
       "68      (9711.315, 18059.25]\n",
       "69      (9711.315, 18059.25]\n",
       "70      (9711.315, 18059.25]\n",
       "71      (9711.315, 18059.25]\n",
       "72       (18059.25, 26243.5]\n",
       "73      (9711.315, 18059.25]\n",
       "74       (18059.25, 26243.5]\n",
       "75       (18059.25, 26243.5]\n",
       "76       (18059.25, 26243.5]\n",
       "77       (18059.25, 26243.5]\n",
       "78       (18059.25, 26243.5]\n",
       "79       (18059.25, 26243.5]\n",
       "80       (18059.25, 26243.5]\n",
       "81       (18059.25, 26243.5]\n",
       "82       (34427.75, 42612.0]\n",
       "83       (42612.0, 50796.25]\n",
       "84       (26243.5, 34427.75]\n",
       "85      (9711.315, 18059.25]\n",
       "86       (18059.25, 26243.5]\n",
       "87       (34427.75, 42612.0]\n",
       "88       (34427.75, 42612.0]\n",
       "89       (18059.25, 26243.5]\n",
       "90      (9711.315, 18059.25]\n",
       "91       (18059.25, 26243.5]\n",
       "92      (9711.315, 18059.25]\n",
       "93       (18059.25, 26243.5]\n",
       "94       (26243.5, 34427.75]\n",
       "95       (18059.25, 26243.5]\n",
       "96       (18059.25, 26243.5]\n",
       "97       (18059.25, 26243.5]\n",
       "98       (18059.25, 26243.5]\n",
       "99       (26243.5, 34427.75]\n",
       "100      (26243.5, 34427.75]\n",
       "101      (18059.25, 26243.5]\n",
       "102      (34427.75, 42612.0]\n",
       "103      (26243.5, 34427.75]\n",
       "104      (26243.5, 34427.75]\n",
       "105      (26243.5, 34427.75]\n",
       "106     (9711.315, 18059.25]\n",
       "107     (9711.315, 18059.25]\n",
       "108      (18059.25, 26243.5]\n",
       "109     (9711.315, 18059.25]\n",
       "110      (18059.25, 26243.5]\n",
       "111      (18059.25, 26243.5]\n",
       "112      (18059.25, 26243.5]\n",
       "113      (26243.5, 34427.75]\n",
       "114      (67164.75, 75349.0]\n",
       "115     (9711.315, 18059.25]\n",
       "116      (18059.25, 26243.5]\n",
       "117      (18059.25, 26243.5]\n",
       "118      (34427.75, 42612.0]\n",
       "119      (26243.5, 34427.75]\n",
       "120      (26243.5, 34427.75]\n",
       "121      (18059.25, 26243.5]\n",
       "122     (9711.315, 18059.25]\n",
       "123     (9711.315, 18059.25]\n",
       "124     (9711.315, 18059.25]\n",
       "125     (9711.315, 18059.25]\n",
       "126     (9711.315, 18059.25]\n",
       "127      (18059.25, 26243.5]\n",
       "128      (18059.25, 26243.5]\n",
       "129      (18059.25, 26243.5]\n",
       "130      (18059.25, 26243.5]\n",
       "131      (26243.5, 34427.75]\n",
       "132      (18059.25, 26243.5]\n",
       "133     (9711.315, 18059.25]\n",
       "134      (26243.5, 34427.75]\n",
       "135      (34427.75, 42612.0]\n",
       "136      (18059.25, 26243.5]\n",
       "137      (26243.5, 34427.75]\n",
       "138     (9711.315, 18059.25]\n",
       "139     (9711.315, 18059.25]\n",
       "140      (18059.25, 26243.5]\n",
       "141      (26243.5, 34427.75]\n",
       "142      (26243.5, 34427.75]\n",
       "143      (34427.75, 42612.0]\n",
       "144      (18059.25, 26243.5]\n",
       "145     (9711.315, 18059.25]\n",
       "146      (18059.25, 26243.5]\n",
       "147      (18059.25, 26243.5]\n",
       "148      (18059.25, 26243.5]\n",
       "149      (18059.25, 26243.5]\n",
       "150     (9711.315, 18059.25]\n",
       "151      (18059.25, 26243.5]\n",
       "152      (18059.25, 26243.5]\n",
       "153     (9711.315, 18059.25]\n",
       "154     (9711.315, 18059.25]\n",
       "155     (9711.315, 18059.25]\n",
       "156     (9711.315, 18059.25]\n",
       "157     (9711.315, 18059.25]\n",
       "158      (18059.25, 26243.5]\n",
       "159     (9711.315, 18059.25]\n",
       "160     (9711.315, 18059.25]\n",
       "161      (18059.25, 26243.5]\n",
       "162      (18059.25, 26243.5]\n",
       "163      (18059.25, 26243.5]\n",
       "164      (18059.25, 26243.5]\n",
       "165      (26243.5, 34427.75]\n",
       "166      (42612.0, 50796.25]\n",
       "167      (18059.25, 26243.5]\n",
       "168     (9711.315, 18059.25]\n",
       "169     (9711.315, 18059.25]\n",
       "170     (9711.315, 18059.25]\n",
       "171     (9711.315, 18059.25]\n",
       "172     (9711.315, 18059.25]\n",
       "173     (9711.315, 18059.25]\n",
       "174     (9711.315, 18059.25]\n",
       "175      (18059.25, 26243.5]\n",
       "176      (18059.25, 26243.5]\n",
       "177      (18059.25, 26243.5]\n",
       "178     (9711.315, 18059.25]\n",
       "179      (18059.25, 26243.5]\n",
       "180      (26243.5, 34427.75]\n",
       "181      (26243.5, 34427.75]\n",
       "182      (26243.5, 34427.75]\n",
       "183      (34427.75, 42612.0]\n",
       "184      (42612.0, 50796.25]\n",
       "185      (26243.5, 34427.75]\n",
       "186      (26243.5, 34427.75]\n",
       "187      (26243.5, 34427.75]\n",
       "188      (18059.25, 26243.5]\n",
       "189      (26243.5, 34427.75]\n",
       "190      (26243.5, 34427.75]\n",
       "191      (34427.75, 42612.0]\n",
       "192      (42612.0, 50796.25]\n",
       "193      (50796.25, 58980.5]\n",
       "194      (58980.5, 67164.75]\n",
       "195      (50796.25, 58980.5]\n",
       "196      (67164.75, 75349.0]\n",
       "197      (58980.5, 67164.75]\n",
       "198      (67164.75, 75349.0]\n",
       "199      (67164.75, 75349.0]\n",
       "200      (75349.0, 83533.25]\n",
       "201      (18059.25, 26243.5]\n",
       "202      (18059.25, 26243.5]\n",
       "203      (18059.25, 26243.5]\n",
       "204      (18059.25, 26243.5]\n",
       "205     (9711.315, 18059.25]\n",
       "206     (9711.315, 18059.25]\n",
       "207     (9711.315, 18059.25]\n",
       "208     (9711.315, 18059.25]\n",
       "209     (9711.315, 18059.25]\n",
       "210     (9711.315, 18059.25]\n",
       "211     (9711.315, 18059.25]\n",
       "212      (18059.25, 26243.5]\n",
       "213      (18059.25, 26243.5]\n",
       "214     (9711.315, 18059.25]\n",
       "215      (58980.5, 67164.75]\n",
       "216      (34427.75, 42612.0]\n",
       "217      (18059.25, 26243.5]\n",
       "218      (34427.75, 42612.0]\n",
       "219      (50796.25, 58980.5]\n",
       "220      (34427.75, 42612.0]\n",
       "221      (26243.5, 34427.75]\n",
       "222      (26243.5, 34427.75]\n",
       "223      (26243.5, 34427.75]\n",
       "224      (34427.75, 42612.0]\n",
       "225      (34427.75, 42612.0]\n",
       "226      (42612.0, 50796.25]\n",
       "227      (50796.25, 58980.5]\n",
       "228      (26243.5, 34427.75]\n",
       "229      (42612.0, 50796.25]\n",
       "230      (34427.75, 42612.0]\n",
       "231      (26243.5, 34427.75]\n",
       "232      (26243.5, 34427.75]\n",
       "233      (34427.75, 42612.0]\n",
       "234      (34427.75, 42612.0]\n",
       "235      (34427.75, 42612.0]\n",
       "236      (34427.75, 42612.0]\n",
       "237      (42612.0, 50796.25]\n",
       "238     (9711.315, 18059.25]\n",
       "239      (18059.25, 26243.5]\n",
       "240      (18059.25, 26243.5]\n",
       "241     (9711.315, 18059.25]\n",
       "242     (9711.315, 18059.25]\n",
       "243     (9711.315, 18059.25]\n",
       "244      (26243.5, 34427.75]\n",
       "245      (18059.25, 26243.5]\n",
       "246      (18059.25, 26243.5]\n",
       "247      (18059.25, 26243.5]\n",
       "248      (18059.25, 26243.5]\n",
       "249     (9711.315, 18059.25]\n",
       "250      (18059.25, 26243.5]\n",
       "251      (67164.75, 75349.0]\n",
       "252      (42612.0, 50796.25]\n",
       "253      (18059.25, 26243.5]\n",
       "254      (26243.5, 34427.75]\n",
       "255      (26243.5, 34427.75]\n",
       "256      (26243.5, 34427.75]\n",
       "257      (26243.5, 34427.75]\n",
       "258      (34427.75, 42612.0]\n",
       "259      (34427.75, 42612.0]\n",
       "260      (42612.0, 50796.25]\n",
       "261      (83533.25, 91717.5]\n",
       "262    (116270.25, 124454.5]\n",
       "263      (34427.75, 42612.0]\n",
       "264      (42612.0, 50796.25]\n",
       "265      (42612.0, 50796.25]\n",
       "266      (50796.25, 58980.5]\n",
       "267      (67164.75, 75349.0]\n",
       "268      (75349.0, 83533.25]\n",
       "269      (83533.25, 91717.5]\n",
       "270    (108086.0, 116270.25]\n",
       "271    (116270.25, 124454.5]\n",
       "272      (34427.75, 42612.0]\n",
       "273      (50796.25, 58980.5]\n",
       "274      (26243.5, 34427.75]\n",
       "275      (42612.0, 50796.25]\n",
       "276      (50796.25, 58980.5]\n",
       "277      (26243.5, 34427.75]\n",
       "278      (18059.25, 26243.5]\n",
       "279      (18059.25, 26243.5]\n",
       "280      (26243.5, 34427.75]\n",
       "281      (18059.25, 26243.5]\n",
       "282      (26243.5, 34427.75]\n",
       "283      (26243.5, 34427.75]\n",
       "284      (26243.5, 34427.75]\n",
       "285      (18059.25, 26243.5]\n",
       "286      (26243.5, 34427.75]\n",
       "287      (26243.5, 34427.75]\n",
       "288     (9711.315, 18059.25]\n",
       "289     (9711.315, 18059.25]\n",
       "290     (9711.315, 18059.25]\n",
       "291     (9711.315, 18059.25]\n",
       "292     (9711.315, 18059.25]\n",
       "293      (26243.5, 34427.75]\n",
       "294      (18059.25, 26243.5]\n",
       "295      (18059.25, 26243.5]\n",
       "296      (18059.25, 26243.5]\n",
       "297      (26243.5, 34427.75]\n",
       "298     (9711.315, 18059.25]\n",
       "299      (26243.5, 34427.75]\n",
       "300      (18059.25, 26243.5]\n",
       "301      (18059.25, 26243.5]\n",
       "302     (9711.315, 18059.25]\n",
       "303     (9711.315, 18059.25]\n",
       "304     (9711.315, 18059.25]\n",
       "305     (9711.315, 18059.25]\n",
       "306      (18059.25, 26243.5]\n",
       "307      (18059.25, 26243.5]\n",
       "308      (26243.5, 34427.75]\n",
       "309      (18059.25, 26243.5]\n",
       "310      (26243.5, 34427.75]\n",
       "311      (18059.25, 26243.5]\n",
       "312      (26243.5, 34427.75]\n",
       "313      (18059.25, 26243.5]\n",
       "314      (18059.25, 26243.5]\n",
       "315      (26243.5, 34427.75]\n",
       "316     (9711.315, 18059.25]\n",
       "317      (18059.25, 26243.5]\n",
       "318      (18059.25, 26243.5]\n",
       "319      (18059.25, 26243.5]\n",
       "320     (9711.315, 18059.25]\n",
       "321      (18059.25, 26243.5]\n",
       "322      (18059.25, 26243.5]\n",
       "323     (9711.315, 18059.25]\n",
       "324      (18059.25, 26243.5]\n",
       "325      (26243.5, 34427.75]\n",
       "326      (18059.25, 26243.5]\n",
       "327      (26243.5, 34427.75]\n",
       "328      (26243.5, 34427.75]\n",
       "329     (9711.315, 18059.25]\n",
       "330      (42612.0, 50796.25]\n",
       "331      (67164.75, 75349.0]\n",
       "332      (67164.75, 75349.0]\n",
       "333      (58980.5, 67164.75]\n",
       "334    (165375.75, 173560.0]\n",
       "335      (34427.75, 42612.0]\n",
       "336      (42612.0, 50796.25]\n",
       "337      (26243.5, 34427.75]\n",
       "338      (26243.5, 34427.75]\n",
       "339      (26243.5, 34427.75]\n",
       "340      (34427.75, 42612.0]\n",
       "341      (34427.75, 42612.0]\n",
       "342      (34427.75, 42612.0]\n",
       "343      (34427.75, 42612.0]\n",
       "344      (18059.25, 26243.5]\n",
       "345     (9711.315, 18059.25]\n",
       "346     (9711.315, 18059.25]\n",
       "347     (9711.315, 18059.25]\n",
       "348     (9711.315, 18059.25]\n",
       "349     (9711.315, 18059.25]\n",
       "350      (18059.25, 26243.5]\n",
       "351      (18059.25, 26243.5]\n",
       "352     (9711.315, 18059.25]\n",
       "353     (9711.315, 18059.25]\n",
       "354      (18059.25, 26243.5]\n",
       "355      (18059.25, 26243.5]\n",
       "356      (18059.25, 26243.5]\n",
       "357      (18059.25, 26243.5]\n",
       "358      (26243.5, 34427.75]\n",
       "359      (26243.5, 34427.75]\n",
       "360      (18059.25, 26243.5]\n",
       "361      (26243.5, 34427.75]\n",
       "362      (18059.25, 26243.5]\n",
       "363      (18059.25, 26243.5]\n",
       "364      (18059.25, 26243.5]\n",
       "365      (18059.25, 26243.5]\n",
       "366     (9711.315, 18059.25]\n",
       "367     (9711.315, 18059.25]\n",
       "368     (9711.315, 18059.25]\n",
       "369     (9711.315, 18059.25]\n",
       "370     (9711.315, 18059.25]\n",
       "371     (9711.315, 18059.25]\n",
       "372     (9711.315, 18059.25]\n",
       "373      (18059.25, 26243.5]\n",
       "374      (26243.5, 34427.75]\n",
       "375      (18059.25, 26243.5]\n",
       "376      (18059.25, 26243.5]\n",
       "377      (42612.0, 50796.25]\n",
       "378      (18059.25, 26243.5]\n",
       "379     (9711.315, 18059.25]\n",
       "380     (9711.315, 18059.25]\n",
       "381     (9711.315, 18059.25]\n",
       "382     (9711.315, 18059.25]\n",
       "383     (9711.315, 18059.25]\n",
       "384     (9711.315, 18059.25]\n",
       "385     (9711.315, 18059.25]\n",
       "386      (18059.25, 26243.5]\n",
       "387     (9711.315, 18059.25]\n",
       "388      (18059.25, 26243.5]\n",
       "389      (18059.25, 26243.5]\n",
       "390      (18059.25, 26243.5]\n",
       "391      (18059.25, 26243.5]\n",
       "392      (26243.5, 34427.75]\n",
       "393      (18059.25, 26243.5]\n",
       "394      (18059.25, 26243.5]\n",
       "395      (18059.25, 26243.5]\n",
       "396      (18059.25, 26243.5]\n",
       "397     (9711.315, 18059.25]\n",
       "398     (9711.315, 18059.25]\n",
       "399      (18059.25, 26243.5]\n",
       "400     (9711.315, 18059.25]\n",
       "401      (26243.5, 34427.75]\n",
       "402     (9711.315, 18059.25]\n",
       "403      (18059.25, 26243.5]\n",
       "404      (18059.25, 26243.5]\n",
       "405      (18059.25, 26243.5]\n",
       "406      (18059.25, 26243.5]\n",
       "407      (18059.25, 26243.5]\n",
       "408      (18059.25, 26243.5]\n",
       "409      (26243.5, 34427.75]\n",
       "410      (34427.75, 42612.0]\n",
       "411      (58980.5, 67164.75]\n",
       "412      (67164.75, 75349.0]\n",
       "413     (9711.315, 18059.25]\n",
       "414      (18059.25, 26243.5]\n",
       "415      (34427.75, 42612.0]\n",
       "416      (34427.75, 42612.0]\n",
       "417      (18059.25, 26243.5]\n",
       "418      (26243.5, 34427.75]\n",
       "419      (26243.5, 34427.75]\n",
       "420      (34427.75, 42612.0]\n",
       "421      (34427.75, 42612.0]\n",
       "422      (34427.75, 42612.0]\n",
       "423      (34427.75, 42612.0]\n",
       "424      (34427.75, 42612.0]\n",
       "425      (34427.75, 42612.0]\n",
       "426      (18059.25, 26243.5]\n",
       "427      (26243.5, 34427.75]\n",
       "Name: Invoice, dtype: category\n",
       "Categories (20, interval[float64]): [(9711.315, 18059.25] < (18059.25, 26243.5] < (26243.5, 34427.75] < (34427.75, 42612.0] ... (140823.0, 149007.25] < (149007.25, 157191.5] < (157191.5, 165375.75] < (165375.75, 173560.0]]"
      ]
     },
     "execution_count": 50,
     "metadata": {},
     "output_type": "execute_result"
    }
   ],
   "source": [
    "pd.cut(x=df['Invoice'],bins=20)"
   ]
  },
  {
   "cell_type": "code",
   "execution_count": 52,
   "metadata": {},
   "outputs": [
    {
     "data": {
      "text/plain": [
       "0       (32987.5, 38401.2]\n",
       "1       (20288.1, 23009.2]\n",
       "2       (23009.2, 25294.5]\n",
       "3       (28963.6, 32987.5]\n",
       "4       (38401.2, 48103.3]\n",
       "5       (38401.2, 48103.3]\n",
       "6      (48103.3, 173560.0]\n",
       "7       (23009.2, 25294.5]\n",
       "8       (28963.6, 32987.5]\n",
       "9       (25294.5, 28963.6]\n",
       "10      (28963.6, 32987.5]\n",
       "11      (28963.6, 32987.5]\n",
       "12      (32987.5, 38401.2]\n",
       "13      (32987.5, 38401.2]\n",
       "14      (32987.5, 38401.2]\n",
       "15      (38401.2, 48103.3]\n",
       "16      (38401.2, 48103.3]\n",
       "17      (38401.2, 48103.3]\n",
       "18     (48103.3, 173560.0]\n",
       "19      (38401.2, 48103.3]\n",
       "20     (48103.3, 173560.0]\n",
       "21      (28963.6, 32987.5]\n",
       "22      (32987.5, 38401.2]\n",
       "23      (32987.5, 38401.2]\n",
       "24      (32987.5, 38401.2]\n",
       "25      (38401.2, 48103.3]\n",
       "26      (32987.5, 38401.2]\n",
       "27      (38401.2, 48103.3]\n",
       "28      (25294.5, 28963.6]\n",
       "29      (25294.5, 28963.6]\n",
       "30      (32987.5, 38401.2]\n",
       "31      (25294.5, 28963.6]\n",
       "32      (28963.6, 32987.5]\n",
       "33      (32987.5, 38401.2]\n",
       "34      (32987.5, 38401.2]\n",
       "35      (32987.5, 38401.2]\n",
       "36      (38401.2, 48103.3]\n",
       "37      (38401.2, 48103.3]\n",
       "38     (48103.3, 173560.0]\n",
       "39     (48103.3, 173560.0]\n",
       "40     (48103.3, 173560.0]\n",
       "41      (38401.2, 48103.3]\n",
       "42     (48103.3, 173560.0]\n",
       "43      (28963.6, 32987.5]\n",
       "44      (32987.5, 38401.2]\n",
       "45      (28963.6, 32987.5]\n",
       "46      (32987.5, 38401.2]\n",
       "47      (23009.2, 25294.5]\n",
       "48      (20288.1, 23009.2]\n",
       "49      (23009.2, 25294.5]\n",
       "50      (20288.1, 23009.2]\n",
       "51      (25294.5, 28963.6]\n",
       "52      (28963.6, 32987.5]\n",
       "53      (28963.6, 32987.5]\n",
       "54      (32987.5, 38401.2]\n",
       "55     (48103.3, 173560.0]\n",
       "56      (38401.2, 48103.3]\n",
       "57      (25294.5, 28963.6]\n",
       "58      (38401.2, 48103.3]\n",
       "59      (38401.2, 48103.3]\n",
       "60      (38401.2, 48103.3]\n",
       "61     (48103.3, 173560.0]\n",
       "62     (48103.3, 173560.0]\n",
       "63      (32987.5, 38401.2]\n",
       "64      (32987.5, 38401.2]\n",
       "65      (25294.5, 28963.6]\n",
       "66      (17829.8, 20288.1]\n",
       "67     (9874.999, 14459.7]\n",
       "68     (9874.999, 14459.7]\n",
       "69     (9874.999, 14459.7]\n",
       "70     (9874.999, 14459.7]\n",
       "71      (14459.7, 17829.8]\n",
       "72      (17829.8, 20288.1]\n",
       "73      (14459.7, 17829.8]\n",
       "74      (17829.8, 20288.1]\n",
       "75      (17829.8, 20288.1]\n",
       "76      (20288.1, 23009.2]\n",
       "77      (25294.5, 28963.6]\n",
       "78      (20288.1, 23009.2]\n",
       "79      (20288.1, 23009.2]\n",
       "80      (23009.2, 25294.5]\n",
       "81      (23009.2, 25294.5]\n",
       "82      (38401.2, 48103.3]\n",
       "83      (38401.2, 48103.3]\n",
       "84      (28963.6, 32987.5]\n",
       "85      (14459.7, 17829.8]\n",
       "86      (17829.8, 20288.1]\n",
       "87      (32987.5, 38401.2]\n",
       "88      (38401.2, 48103.3]\n",
       "89      (20288.1, 23009.2]\n",
       "90      (14459.7, 17829.8]\n",
       "91      (20288.1, 23009.2]\n",
       "92      (14459.7, 17829.8]\n",
       "93      (17829.8, 20288.1]\n",
       "94      (25294.5, 28963.6]\n",
       "95      (20288.1, 23009.2]\n",
       "96      (23009.2, 25294.5]\n",
       "97      (23009.2, 25294.5]\n",
       "98      (23009.2, 25294.5]\n",
       "99      (28963.6, 32987.5]\n",
       "100     (25294.5, 28963.6]\n",
       "101     (25294.5, 28963.6]\n",
       "102     (32987.5, 38401.2]\n",
       "103     (28963.6, 32987.5]\n",
       "104     (25294.5, 28963.6]\n",
       "105     (28963.6, 32987.5]\n",
       "106    (9874.999, 14459.7]\n",
       "107    (9874.999, 14459.7]\n",
       "108     (20288.1, 23009.2]\n",
       "109     (14459.7, 17829.8]\n",
       "110     (17829.8, 20288.1]\n",
       "111     (23009.2, 25294.5]\n",
       "112     (20288.1, 23009.2]\n",
       "113     (28963.6, 32987.5]\n",
       "114    (48103.3, 173560.0]\n",
       "115     (14459.7, 17829.8]\n",
       "116     (17829.8, 20288.1]\n",
       "117     (17829.8, 20288.1]\n",
       "118     (32987.5, 38401.2]\n",
       "119     (28963.6, 32987.5]\n",
       "120     (25294.5, 28963.6]\n",
       "121     (20288.1, 23009.2]\n",
       "122    (9874.999, 14459.7]\n",
       "123    (9874.999, 14459.7]\n",
       "124     (14459.7, 17829.8]\n",
       "125     (14459.7, 17829.8]\n",
       "126     (17829.8, 20288.1]\n",
       "127     (17829.8, 20288.1]\n",
       "128     (20288.1, 23009.2]\n",
       "129     (20288.1, 23009.2]\n",
       "130     (23009.2, 25294.5]\n",
       "131     (25294.5, 28963.6]\n",
       "132     (23009.2, 25294.5]\n",
       "133     (14459.7, 17829.8]\n",
       "134     (25294.5, 28963.6]\n",
       "135     (32987.5, 38401.2]\n",
       "136     (17829.8, 20288.1]\n",
       "137     (28963.6, 32987.5]\n",
       "138    (9874.999, 14459.7]\n",
       "139     (14459.7, 17829.8]\n",
       "140     (20288.1, 23009.2]\n",
       "141     (25294.5, 28963.6]\n",
       "142     (28963.6, 32987.5]\n",
       "143     (38401.2, 48103.3]\n",
       "144     (23009.2, 25294.5]\n",
       "145     (14459.7, 17829.8]\n",
       "146     (20288.1, 23009.2]\n",
       "147     (25294.5, 28963.6]\n",
       "148     (23009.2, 25294.5]\n",
       "149     (17829.8, 20288.1]\n",
       "150     (17829.8, 20288.1]\n",
       "151     (23009.2, 25294.5]\n",
       "152     (17829.8, 20288.1]\n",
       "153     (14459.7, 17829.8]\n",
       "154    (9874.999, 14459.7]\n",
       "155    (9874.999, 14459.7]\n",
       "156     (14459.7, 17829.8]\n",
       "157     (17829.8, 20288.1]\n",
       "158     (17829.8, 20288.1]\n",
       "159     (14459.7, 17829.8]\n",
       "160     (17829.8, 20288.1]\n",
       "161     (20288.1, 23009.2]\n",
       "162     (23009.2, 25294.5]\n",
       "163     (20288.1, 23009.2]\n",
       "164     (23009.2, 25294.5]\n",
       "165     (28963.6, 32987.5]\n",
       "166     (38401.2, 48103.3]\n",
       "167     (17829.8, 20288.1]\n",
       "168    (9874.999, 14459.7]\n",
       "169    (9874.999, 14459.7]\n",
       "170    (9874.999, 14459.7]\n",
       "171    (9874.999, 14459.7]\n",
       "172    (9874.999, 14459.7]\n",
       "173    (9874.999, 14459.7]\n",
       "174     (14459.7, 17829.8]\n",
       "175     (17829.8, 20288.1]\n",
       "176     (20288.1, 23009.2]\n",
       "177     (23009.2, 25294.5]\n",
       "178     (14459.7, 17829.8]\n",
       "179     (25294.5, 28963.6]\n",
       "180     (25294.5, 28963.6]\n",
       "181     (28963.6, 32987.5]\n",
       "182     (25294.5, 28963.6]\n",
       "183     (38401.2, 48103.3]\n",
       "184     (38401.2, 48103.3]\n",
       "185     (28963.6, 32987.5]\n",
       "186     (32987.5, 38401.2]\n",
       "187     (28963.6, 32987.5]\n",
       "188     (17829.8, 20288.1]\n",
       "189     (25294.5, 28963.6]\n",
       "190     (28963.6, 32987.5]\n",
       "191     (38401.2, 48103.3]\n",
       "192     (38401.2, 48103.3]\n",
       "193    (48103.3, 173560.0]\n",
       "194    (48103.3, 173560.0]\n",
       "195    (48103.3, 173560.0]\n",
       "196    (48103.3, 173560.0]\n",
       "197    (48103.3, 173560.0]\n",
       "198    (48103.3, 173560.0]\n",
       "199    (48103.3, 173560.0]\n",
       "200    (48103.3, 173560.0]\n",
       "201     (25294.5, 28963.6]\n",
       "202     (17829.8, 20288.1]\n",
       "203     (23009.2, 25294.5]\n",
       "204     (17829.8, 20288.1]\n",
       "205     (14459.7, 17829.8]\n",
       "206    (9874.999, 14459.7]\n",
       "207    (9874.999, 14459.7]\n",
       "208    (9874.999, 14459.7]\n",
       "209    (9874.999, 14459.7]\n",
       "210    (9874.999, 14459.7]\n",
       "211     (14459.7, 17829.8]\n",
       "212     (23009.2, 25294.5]\n",
       "213     (17829.8, 20288.1]\n",
       "214    (9874.999, 14459.7]\n",
       "215    (48103.3, 173560.0]\n",
       "216     (32987.5, 38401.2]\n",
       "217     (23009.2, 25294.5]\n",
       "218     (38401.2, 48103.3]\n",
       "219    (48103.3, 173560.0]\n",
       "220     (32987.5, 38401.2]\n",
       "221     (25294.5, 28963.6]\n",
       "222     (25294.5, 28963.6]\n",
       "223     (25294.5, 28963.6]\n",
       "224     (32987.5, 38401.2]\n",
       "225     (38401.2, 48103.3]\n",
       "226    (48103.3, 173560.0]\n",
       "227    (48103.3, 173560.0]\n",
       "228     (25294.5, 28963.6]\n",
       "229     (38401.2, 48103.3]\n",
       "230     (38401.2, 48103.3]\n",
       "231     (28963.6, 32987.5]\n",
       "232     (32987.5, 38401.2]\n",
       "233     (32987.5, 38401.2]\n",
       "234     (38401.2, 48103.3]\n",
       "235     (38401.2, 48103.3]\n",
       "236     (38401.2, 48103.3]\n",
       "237     (38401.2, 48103.3]\n",
       "238     (14459.7, 17829.8]\n",
       "239     (17829.8, 20288.1]\n",
       "240     (17829.8, 20288.1]\n",
       "241     (14459.7, 17829.8]\n",
       "242     (14459.7, 17829.8]\n",
       "243     (14459.7, 17829.8]\n",
       "244     (25294.5, 28963.6]\n",
       "245     (20288.1, 23009.2]\n",
       "246     (23009.2, 25294.5]\n",
       "247     (23009.2, 25294.5]\n",
       "248     (23009.2, 25294.5]\n",
       "249    (9874.999, 14459.7]\n",
       "250     (20288.1, 23009.2]\n",
       "251    (48103.3, 173560.0]\n",
       "252     (38401.2, 48103.3]\n",
       "253     (23009.2, 25294.5]\n",
       "254     (25294.5, 28963.6]\n",
       "255     (28963.6, 32987.5]\n",
       "256     (28963.6, 32987.5]\n",
       "257     (32987.5, 38401.2]\n",
       "258     (32987.5, 38401.2]\n",
       "259     (32987.5, 38401.2]\n",
       "260    (48103.3, 173560.0]\n",
       "261    (48103.3, 173560.0]\n",
       "262    (48103.3, 173560.0]\n",
       "263     (38401.2, 48103.3]\n",
       "264    (48103.3, 173560.0]\n",
       "265     (38401.2, 48103.3]\n",
       "266    (48103.3, 173560.0]\n",
       "267    (48103.3, 173560.0]\n",
       "268    (48103.3, 173560.0]\n",
       "269    (48103.3, 173560.0]\n",
       "270    (48103.3, 173560.0]\n",
       "271    (48103.3, 173560.0]\n",
       "272     (32987.5, 38401.2]\n",
       "273    (48103.3, 173560.0]\n",
       "274     (28963.6, 32987.5]\n",
       "275     (38401.2, 48103.3]\n",
       "276    (48103.3, 173560.0]\n",
       "277     (25294.5, 28963.6]\n",
       "278     (17829.8, 20288.1]\n",
       "279     (23009.2, 25294.5]\n",
       "280     (25294.5, 28963.6]\n",
       "281     (20288.1, 23009.2]\n",
       "282     (25294.5, 28963.6]\n",
       "283     (28963.6, 32987.5]\n",
       "284     (28963.6, 32987.5]\n",
       "285     (20288.1, 23009.2]\n",
       "286     (25294.5, 28963.6]\n",
       "287     (28963.6, 32987.5]\n",
       "288     (14459.7, 17829.8]\n",
       "289    (9874.999, 14459.7]\n",
       "290     (14459.7, 17829.8]\n",
       "291     (17829.8, 20288.1]\n",
       "292     (14459.7, 17829.8]\n",
       "293     (25294.5, 28963.6]\n",
       "294     (23009.2, 25294.5]\n",
       "295     (23009.2, 25294.5]\n",
       "296     (23009.2, 25294.5]\n",
       "297     (25294.5, 28963.6]\n",
       "298     (14459.7, 17829.8]\n",
       "299     (28963.6, 32987.5]\n",
       "300     (25294.5, 28963.6]\n",
       "301     (17829.8, 20288.1]\n",
       "302    (9874.999, 14459.7]\n",
       "303    (9874.999, 14459.7]\n",
       "304     (17829.8, 20288.1]\n",
       "305     (14459.7, 17829.8]\n",
       "306     (20288.1, 23009.2]\n",
       "307     (23009.2, 25294.5]\n",
       "308     (25294.5, 28963.6]\n",
       "309     (20288.1, 23009.2]\n",
       "310     (28963.6, 32987.5]\n",
       "311     (23009.2, 25294.5]\n",
       "312     (28963.6, 32987.5]\n",
       "313     (17829.8, 20288.1]\n",
       "314     (23009.2, 25294.5]\n",
       "315     (25294.5, 28963.6]\n",
       "316     (14459.7, 17829.8]\n",
       "317     (20288.1, 23009.2]\n",
       "318     (25294.5, 28963.6]\n",
       "319     (17829.8, 20288.1]\n",
       "320    (9874.999, 14459.7]\n",
       "321     (20288.1, 23009.2]\n",
       "322     (20288.1, 23009.2]\n",
       "323     (14459.7, 17829.8]\n",
       "324     (20288.1, 23009.2]\n",
       "325     (32987.5, 38401.2]\n",
       "326     (20288.1, 23009.2]\n",
       "327     (25294.5, 28963.6]\n",
       "328     (28963.6, 32987.5]\n",
       "329     (14459.7, 17829.8]\n",
       "330    (48103.3, 173560.0]\n",
       "331    (48103.3, 173560.0]\n",
       "332    (48103.3, 173560.0]\n",
       "333    (48103.3, 173560.0]\n",
       "334    (48103.3, 173560.0]\n",
       "335     (32987.5, 38401.2]\n",
       "336     (38401.2, 48103.3]\n",
       "337     (28963.6, 32987.5]\n",
       "338     (28963.6, 32987.5]\n",
       "339     (32987.5, 38401.2]\n",
       "340     (32987.5, 38401.2]\n",
       "341     (38401.2, 48103.3]\n",
       "342     (38401.2, 48103.3]\n",
       "343     (32987.5, 38401.2]\n",
       "344     (17829.8, 20288.1]\n",
       "345    (9874.999, 14459.7]\n",
       "346    (9874.999, 14459.7]\n",
       "347     (14459.7, 17829.8]\n",
       "348    (9874.999, 14459.7]\n",
       "349     (14459.7, 17829.8]\n",
       "350     (17829.8, 20288.1]\n",
       "351     (20288.1, 23009.2]\n",
       "352    (9874.999, 14459.7]\n",
       "353    (9874.999, 14459.7]\n",
       "354     (17829.8, 20288.1]\n",
       "355     (17829.8, 20288.1]\n",
       "356     (23009.2, 25294.5]\n",
       "357     (23009.2, 25294.5]\n",
       "358     (25294.5, 28963.6]\n",
       "359     (25294.5, 28963.6]\n",
       "360     (23009.2, 25294.5]\n",
       "361     (28963.6, 32987.5]\n",
       "362     (20288.1, 23009.2]\n",
       "363     (17829.8, 20288.1]\n",
       "364     (20288.1, 23009.2]\n",
       "365     (20288.1, 23009.2]\n",
       "366     (14459.7, 17829.8]\n",
       "367    (9874.999, 14459.7]\n",
       "368    (9874.999, 14459.7]\n",
       "369    (9874.999, 14459.7]\n",
       "370     (14459.7, 17829.8]\n",
       "371     (14459.7, 17829.8]\n",
       "372     (14459.7, 17829.8]\n",
       "373     (17829.8, 20288.1]\n",
       "374     (28963.6, 32987.5]\n",
       "375     (23009.2, 25294.5]\n",
       "376     (23009.2, 25294.5]\n",
       "377     (38401.2, 48103.3]\n",
       "378     (17829.8, 20288.1]\n",
       "379    (9874.999, 14459.7]\n",
       "380    (9874.999, 14459.7]\n",
       "381    (9874.999, 14459.7]\n",
       "382    (9874.999, 14459.7]\n",
       "383    (9874.999, 14459.7]\n",
       "384    (9874.999, 14459.7]\n",
       "385     (14459.7, 17829.8]\n",
       "386     (20288.1, 23009.2]\n",
       "387     (14459.7, 17829.8]\n",
       "388     (17829.8, 20288.1]\n",
       "389     (23009.2, 25294.5]\n",
       "390     (23009.2, 25294.5]\n",
       "391     (23009.2, 25294.5]\n",
       "392     (25294.5, 28963.6]\n",
       "393     (20288.1, 23009.2]\n",
       "394     (25294.5, 28963.6]\n",
       "395     (20288.1, 23009.2]\n",
       "396     (20288.1, 23009.2]\n",
       "397    (9874.999, 14459.7]\n",
       "398     (14459.7, 17829.8]\n",
       "399     (23009.2, 25294.5]\n",
       "400     (14459.7, 17829.8]\n",
       "401     (28963.6, 32987.5]\n",
       "402     (14459.7, 17829.8]\n",
       "403     (17829.8, 20288.1]\n",
       "404     (17829.8, 20288.1]\n",
       "405     (17829.8, 20288.1]\n",
       "406     (20288.1, 23009.2]\n",
       "407     (20288.1, 23009.2]\n",
       "408     (20288.1, 23009.2]\n",
       "409     (28963.6, 32987.5]\n",
       "410     (32987.5, 38401.2]\n",
       "411    (48103.3, 173560.0]\n",
       "412    (48103.3, 173560.0]\n",
       "413     (14459.7, 17829.8]\n",
       "414     (20288.1, 23009.2]\n",
       "415     (32987.5, 38401.2]\n",
       "416     (38401.2, 48103.3]\n",
       "417     (23009.2, 25294.5]\n",
       "418     (28963.6, 32987.5]\n",
       "419     (28963.6, 32987.5]\n",
       "420     (32987.5, 38401.2]\n",
       "421     (32987.5, 38401.2]\n",
       "422     (32987.5, 38401.2]\n",
       "423     (32987.5, 38401.2]\n",
       "424     (38401.2, 48103.3]\n",
       "425     (38401.2, 48103.3]\n",
       "426     (23009.2, 25294.5]\n",
       "427     (32987.5, 38401.2]\n",
       "Name: Invoice, dtype: category\n",
       "Categories (10, interval[float64]): [(9874.999, 14459.7] < (14459.7, 17829.8] < (17829.8, 20288.1] < (20288.1, 23009.2] ... (28963.6, 32987.5] < (32987.5, 38401.2] < (38401.2, 48103.3] < (48103.3, 173560.0]]"
      ]
     },
     "execution_count": 52,
     "metadata": {},
     "output_type": "execute_result"
    }
   ],
   "source": [
    "pd.qcut(df['Invoice'], 10)"
   ]
  },
  {
   "cell_type": "code",
   "execution_count": null,
   "metadata": {},
   "outputs": [],
   "source": []
  }
 ],
 "metadata": {
  "kernelspec": {
   "display_name": "Python 3 (ipykernel)",
   "language": "python",
   "name": "python3"
  },
  "language_info": {
   "codemirror_mode": {
    "name": "ipython",
    "version": 3
   },
   "file_extension": ".py",
   "mimetype": "text/x-python",
   "name": "python",
   "nbconvert_exporter": "python",
   "pygments_lexer": "ipython3",
   "version": "3.10.10"
  }
 },
 "nbformat": 4,
 "nbformat_minor": 4
}
