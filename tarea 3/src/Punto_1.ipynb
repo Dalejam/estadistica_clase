{
 "cells": [
  {
   "cell_type": "code",
   "execution_count": 2,
   "id": "410d592d",
   "metadata": {},
   "outputs": [
    {
     "name": "stdout",
     "output_type": "stream",
     "text": [
      "Collecting networkx\n",
      "  Downloading networkx-3.1-py3-none-any.whl (2.1 MB)\n",
      "                                              0.0/2.1 MB ? eta -:--:--\n",
      "     -                                        0.1/2.1 MB 3.0 MB/s eta 0:00:01\n",
      "     -----                                    0.3/2.1 MB 3.4 MB/s eta 0:00:01\n",
      "     -----------                              0.6/2.1 MB 4.8 MB/s eta 0:00:01\n",
      "     -------------------                      1.0/2.1 MB 5.8 MB/s eta 0:00:01\n",
      "     -----------------------------            1.5/2.1 MB 6.8 MB/s eta 0:00:01\n",
      "     --------------------------------------   2.0/2.1 MB 7.5 MB/s eta 0:00:01\n",
      "     ---------------------------------------- 2.1/2.1 MB 7.3 MB/s eta 0:00:00\n",
      "Installing collected packages: networkx\n",
      "Successfully installed networkx-3.1\n",
      "Note: you may need to restart the kernel to use updated packages.\n"
     ]
    }
   ],
   "source": [
    "pip install networkx"
   ]
  },
  {
   "cell_type": "code",
   "execution_count": 3,
   "id": "3d96d396",
   "metadata": {},
   "outputs": [],
   "source": [
    "import numpy as np\n",
    "import pandas as pd\n",
    "import math\n",
    "import matplotlib.pyplot as plt\n",
    "import networkx as nx\n",
    "import matplotlib\n",
    "from sklearn import datasets\n",
    "from networkx.drawing.nx_agraph import graphviz_layout\n",
    "%matplotlib inline"
   ]
  },
  {
   "cell_type": "code",
   "execution_count": 4,
   "id": "9ea91f0a",
   "metadata": {},
   "outputs": [],
   "source": [
    "df = pd.read_excel('datos/datos_arbol.xlsx')"
   ]
  },
  {
   "cell_type": "code",
   "execution_count": 6,
   "id": "8a9cdb4e",
   "metadata": {},
   "outputs": [
    {
     "name": "stdout",
     "output_type": "stream",
     "text": [
      "    INGRESO  ESTRATO  CREDITO\n",
      "0         1        2        0\n",
      "1         5        2        0\n",
      "2         1        4        1\n",
      "3         6        0        0\n",
      "4         8        5        1\n",
      "5         4        0        0\n",
      "6         3        5        1\n",
      "7         6        2        0\n",
      "8         3        5        1\n",
      "9         3        2        0\n",
      "10        9        2        1\n",
      "11        1        2        0\n",
      "12        3        0        0\n",
      "13        1        3        0\n",
      "14        7        2        0\n",
      "15        9        1        1\n",
      "16        8        3        1\n",
      "17        7        2        0\n",
      "18        6        3        0\n",
      "19        9        2        1\n",
      "20        0        3        0\n",
      "21        2        4        1\n",
      "22        3        4        1\n",
      "23        1        3        0\n",
      "24        0        5        1\n",
      "25        5        4        1\n",
      "26        9        5        1\n",
      "27        0        5        1\n",
      "28        0        4        1\n",
      "29        3        3        0\n"
     ]
    }
   ],
   "source": [
    "print(df)"
   ]
  },
  {
   "cell_type": "markdown",
   "id": "1f23c0c6",
   "metadata": {},
   "source": [
    "## 1. Clasificación y la entropía como función objetivo de la clasificación (15%).\n",
    "#### a. Utilizar la siguiente tabla para crear un árbol de clasificación de la variable Y a mano con 2 niveles."
   ]
  },
  {
   "cell_type": "code",
   "execution_count": 7,
   "id": "d24cdae3",
   "metadata": {},
   "outputs": [],
   "source": [
    "## Calculamos la entropia de la variable estrato \n",
    "\n",
    "estrato_counts = df['ESTRATO'].value_counts()\n",
    "total_samples = len(df)\n",
    "\n",
    "entropy = 0\n",
    "for count in estrato_counts:\n",
    "    probability = count / total_samples\n",
    "    entropy += -probability * math.log2(probability)"
   ]
  },
  {
   "cell_type": "code",
   "execution_count": 8,
   "id": "f154ed79",
   "metadata": {},
   "outputs": [],
   "source": [
    "def calculate_conditional_entropy(df, feature, target):\n",
    "    feature_values = df[feature].unique()\n",
    "    entropy = 0\n",
    "    \n",
    "    for value in feature_values:\n",
    "        subset = df[df[feature] == value]\n",
    "        subset_size = len(subset)\n",
    "        subset_y_counts = subset[target].value_counts()\n",
    "        conditional_entropy = 0\n",
    "        \n",
    "        for count in subset_y_counts:\n",
    "            probability = count / subset_size\n",
    "            conditional_entropy += -probability * math.log2(probability)\n",
    "        \n",
    "        entropy += (subset_size / total_samples) * conditional_entropy\n",
    "    \n",
    "    return entropy"
   ]
  },
  {
   "cell_type": "code",
   "execution_count": 10,
   "id": "c7ce6478",
   "metadata": {},
   "outputs": [],
   "source": [
    "features = df.columns[:-1]\n",
    "best_feature = None\n",
    "max_information_gain = -1\n",
    "\n",
    "for feature in features:\n",
    "    information_gain = entropy - calculate_conditional_entropy(df, feature, 'CREDITO')\n",
    "    \n",
    "    if information_gain > max_information_gain:\n",
    "        max_information_gain = information_gain\n",
    "        best_feature = feature"
   ]
  },
  {
   "cell_type": "code",
   "execution_count": 11,
   "id": "0801e41f",
   "metadata": {},
   "outputs": [],
   "source": [
    "subset1 = df[df[best_feature] == 0]\n",
    "subset2 = df[df[best_feature] == 1]"
   ]
  },
  {
   "cell_type": "code",
   "execution_count": 12,
   "id": "cf02f19a",
   "metadata": {},
   "outputs": [],
   "source": [
    "subset1_entropy = 0\n",
    "subset2_entropy = 0\n",
    "\n",
    "if len(subset1) > 0:\n",
    "    subset1_y_counts = subset1['CREDITO'].value_counts()\n",
    "    for count in subset1_y_counts:\n",
    "        probability = count / len(subset1)\n",
    "        subset1_entropy += -probability * math.log2(probability)\n",
    "\n",
    "if len(subset2) > 0:\n",
    "    subset2_y_counts = subset2['CREDITO'].value_counts()\n",
    "    for count in subset2_y_counts:\n",
    "        probability = count / len(subset2)\n",
    "        subset2_entropy += -probability * math.log2(probability)\n",
    "\n",
    "subset1_information_gain = entropy - subset1_entropy\n",
    "subset2_information_gain = entropy - subset2_entropy"
   ]
  },
  {
   "cell_type": "code",
   "execution_count": 13,
   "id": "1487ac0a",
   "metadata": {},
   "outputs": [
    {
     "name": "stdout",
     "output_type": "stream",
     "text": [
      "Nodo raíz: ESTRATO\n",
      "Subset 1 - Entropía: 0.0\n",
      "Subset 1 - Ganancia de información: 2.3764438290006864\n",
      "Subset 2 - Entropía: 0.0\n",
      "Subset 2 - Ganancia de información: 2.3764438290006864\n"
     ]
    }
   ],
   "source": [
    "print(\"Nodo raíz:\", best_feature)\n",
    "print(\"Subset 1 - Entropía:\", subset1_entropy)\n",
    "print(\"Subset 1 - Ganancia de información:\", subset1_information_gain)\n",
    "print(\"Subset 2 - Entropía:\", subset2_entropy)\n",
    "print(\"Subset 2 - Ganancia de información:\", subset2_information_gain)"
   ]
  },
  {
   "cell_type": "markdown",
   "id": "13b7d21a",
   "metadata": {},
   "source": [
    "### Entrene un árbol utilizando sklearn.tree.DecisionTreeClassifier y compare los resultados. ¿Qué puede concluir son iguales?"
   ]
  },
  {
   "cell_type": "code",
   "execution_count": 16,
   "id": "92b5ac80",
   "metadata": {},
   "outputs": [],
   "source": [
    "X = df.drop('CREDITO', axis=1)\n",
    "y = df['CREDITO']"
   ]
  },
  {
   "cell_type": "code",
   "execution_count": 18,
   "id": "f6f9d407",
   "metadata": {},
   "outputs": [],
   "source": [
    "from sklearn.model_selection import train_test_split\n",
    "\n",
    "X_train, X_test, y_train, y_test = train_test_split(X, y, test_size=0.2, random_state=42)"
   ]
  },
  {
   "cell_type": "code",
   "execution_count": 20,
   "id": "821587f4",
   "metadata": {},
   "outputs": [],
   "source": [
    "from sklearn.tree import DecisionTreeClassifier\n",
    "clasificacion = DecisionTreeClassifier()"
   ]
  },
  {
   "cell_type": "code",
   "execution_count": 21,
   "id": "dd281e3e",
   "metadata": {},
   "outputs": [
    {
     "data": {
      "text/html": [
       "<style>#sk-container-id-1 {color: black;background-color: white;}#sk-container-id-1 pre{padding: 0;}#sk-container-id-1 div.sk-toggleable {background-color: white;}#sk-container-id-1 label.sk-toggleable__label {cursor: pointer;display: block;width: 100%;margin-bottom: 0;padding: 0.3em;box-sizing: border-box;text-align: center;}#sk-container-id-1 label.sk-toggleable__label-arrow:before {content: \"▸\";float: left;margin-right: 0.25em;color: #696969;}#sk-container-id-1 label.sk-toggleable__label-arrow:hover:before {color: black;}#sk-container-id-1 div.sk-estimator:hover label.sk-toggleable__label-arrow:before {color: black;}#sk-container-id-1 div.sk-toggleable__content {max-height: 0;max-width: 0;overflow: hidden;text-align: left;background-color: #f0f8ff;}#sk-container-id-1 div.sk-toggleable__content pre {margin: 0.2em;color: black;border-radius: 0.25em;background-color: #f0f8ff;}#sk-container-id-1 input.sk-toggleable__control:checked~div.sk-toggleable__content {max-height: 200px;max-width: 100%;overflow: auto;}#sk-container-id-1 input.sk-toggleable__control:checked~label.sk-toggleable__label-arrow:before {content: \"▾\";}#sk-container-id-1 div.sk-estimator input.sk-toggleable__control:checked~label.sk-toggleable__label {background-color: #d4ebff;}#sk-container-id-1 div.sk-label input.sk-toggleable__control:checked~label.sk-toggleable__label {background-color: #d4ebff;}#sk-container-id-1 input.sk-hidden--visually {border: 0;clip: rect(1px 1px 1px 1px);clip: rect(1px, 1px, 1px, 1px);height: 1px;margin: -1px;overflow: hidden;padding: 0;position: absolute;width: 1px;}#sk-container-id-1 div.sk-estimator {font-family: monospace;background-color: #f0f8ff;border: 1px dotted black;border-radius: 0.25em;box-sizing: border-box;margin-bottom: 0.5em;}#sk-container-id-1 div.sk-estimator:hover {background-color: #d4ebff;}#sk-container-id-1 div.sk-parallel-item::after {content: \"\";width: 100%;border-bottom: 1px solid gray;flex-grow: 1;}#sk-container-id-1 div.sk-label:hover label.sk-toggleable__label {background-color: #d4ebff;}#sk-container-id-1 div.sk-serial::before {content: \"\";position: absolute;border-left: 1px solid gray;box-sizing: border-box;top: 0;bottom: 0;left: 50%;z-index: 0;}#sk-container-id-1 div.sk-serial {display: flex;flex-direction: column;align-items: center;background-color: white;padding-right: 0.2em;padding-left: 0.2em;position: relative;}#sk-container-id-1 div.sk-item {position: relative;z-index: 1;}#sk-container-id-1 div.sk-parallel {display: flex;align-items: stretch;justify-content: center;background-color: white;position: relative;}#sk-container-id-1 div.sk-item::before, #sk-container-id-1 div.sk-parallel-item::before {content: \"\";position: absolute;border-left: 1px solid gray;box-sizing: border-box;top: 0;bottom: 0;left: 50%;z-index: -1;}#sk-container-id-1 div.sk-parallel-item {display: flex;flex-direction: column;z-index: 1;position: relative;background-color: white;}#sk-container-id-1 div.sk-parallel-item:first-child::after {align-self: flex-end;width: 50%;}#sk-container-id-1 div.sk-parallel-item:last-child::after {align-self: flex-start;width: 50%;}#sk-container-id-1 div.sk-parallel-item:only-child::after {width: 0;}#sk-container-id-1 div.sk-dashed-wrapped {border: 1px dashed gray;margin: 0 0.4em 0.5em 0.4em;box-sizing: border-box;padding-bottom: 0.4em;background-color: white;}#sk-container-id-1 div.sk-label label {font-family: monospace;font-weight: bold;display: inline-block;line-height: 1.2em;}#sk-container-id-1 div.sk-label-container {text-align: center;}#sk-container-id-1 div.sk-container {/* jupyter's `normalize.less` sets `[hidden] { display: none; }` but bootstrap.min.css set `[hidden] { display: none !important; }` so we also need the `!important` here to be able to override the default hidden behavior on the sphinx rendered scikit-learn.org. See: https://github.com/scikit-learn/scikit-learn/issues/21755 */display: inline-block !important;position: relative;}#sk-container-id-1 div.sk-text-repr-fallback {display: none;}</style><div id=\"sk-container-id-1\" class=\"sk-top-container\"><div class=\"sk-text-repr-fallback\"><pre>DecisionTreeClassifier()</pre><b>In a Jupyter environment, please rerun this cell to show the HTML representation or trust the notebook. <br />On GitHub, the HTML representation is unable to render, please try loading this page with nbviewer.org.</b></div><div class=\"sk-container\" hidden><div class=\"sk-item\"><div class=\"sk-estimator sk-toggleable\"><input class=\"sk-toggleable__control sk-hidden--visually\" id=\"sk-estimator-id-1\" type=\"checkbox\" checked><label for=\"sk-estimator-id-1\" class=\"sk-toggleable__label sk-toggleable__label-arrow\">DecisionTreeClassifier</label><div class=\"sk-toggleable__content\"><pre>DecisionTreeClassifier()</pre></div></div></div></div></div>"
      ],
      "text/plain": [
       "DecisionTreeClassifier()"
      ]
     },
     "execution_count": 21,
     "metadata": {},
     "output_type": "execute_result"
    }
   ],
   "source": [
    "clasificacion.fit(X_train, y_train)"
   ]
  },
  {
   "cell_type": "code",
   "execution_count": 26,
   "id": "99f7fedf",
   "metadata": {},
   "outputs": [
    {
     "name": "stdout",
     "output_type": "stream",
     "text": [
      "[1 1 0 0 1 0]\n"
     ]
    }
   ],
   "source": [
    "y_pred = clasificacion.predict(X_test)\n",
    "print(y_pred)"
   ]
  },
  {
   "cell_type": "code",
   "execution_count": 24,
   "id": "94a1a5e3",
   "metadata": {},
   "outputs": [
    {
     "name": "stdout",
     "output_type": "stream",
     "text": [
      "Precisión del modelo: 1.0\n"
     ]
    }
   ],
   "source": [
    "from sklearn.metrics import accuracy_score\n",
    "accuracy = accuracy_score(y_test, y_pred)\n",
    "print(\"Precisión del modelo:\", accuracy)"
   ]
  },
  {
   "cell_type": "markdown",
   "id": "7f9c4d76",
   "metadata": {},
   "source": [
    "###  ¿Qué puede concluir son iguales?"
   ]
  },
  {
   "cell_type": "markdown",
   "id": "2985232c",
   "metadata": {},
   "source": [
    "Una precisión de 1.0 significa que el modelo clasificó correctamente todos los ejemplos en el conjunto de prueba. Esto sugiere que tanto el árbol de clasificación manual como el modelo entrenado con sklearn pudieron aprender patrones en los datos que les permitieron realizar predicciones precisas."
   ]
  },
  {
   "cell_type": "code",
   "execution_count": null,
   "id": "6b272bf3",
   "metadata": {},
   "outputs": [],
   "source": []
  }
 ],
 "metadata": {
  "kernelspec": {
   "display_name": "Python 3 (ipykernel)",
   "language": "python",
   "name": "python3"
  },
  "language_info": {
   "codemirror_mode": {
    "name": "ipython",
    "version": 3
   },
   "file_extension": ".py",
   "mimetype": "text/x-python",
   "name": "python",
   "nbconvert_exporter": "python",
   "pygments_lexer": "ipython3",
   "version": "3.10.10"
  }
 },
 "nbformat": 4,
 "nbformat_minor": 5
}
