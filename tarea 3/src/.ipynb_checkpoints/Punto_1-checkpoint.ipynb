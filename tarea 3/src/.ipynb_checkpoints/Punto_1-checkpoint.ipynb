{
 "cells": [
  {
   "cell_type": "code",
   "execution_count": 2,
   "id": "3db68bd4",
   "metadata": {},
   "outputs": [
    {
     "name": "stdout",
     "output_type": "stream",
     "text": [
      "Collecting networkx\n",
      "  Downloading networkx-3.1-py3-none-any.whl (2.1 MB)\n",
      "                                              0.0/2.1 MB ? eta -:--:--\n",
      "     -                                        0.1/2.1 MB 3.0 MB/s eta 0:00:01\n",
      "     -----                                    0.3/2.1 MB 3.4 MB/s eta 0:00:01\n",
      "     -----------                              0.6/2.1 MB 4.8 MB/s eta 0:00:01\n",
      "     -------------------                      1.0/2.1 MB 5.8 MB/s eta 0:00:01\n",
      "     -----------------------------            1.5/2.1 MB 6.8 MB/s eta 0:00:01\n",
      "     --------------------------------------   2.0/2.1 MB 7.5 MB/s eta 0:00:01\n",
      "     ---------------------------------------- 2.1/2.1 MB 7.3 MB/s eta 0:00:00\n",
      "Installing collected packages: networkx\n",
      "Successfully installed networkx-3.1\n",
      "Note: you may need to restart the kernel to use updated packages.\n"
     ]
    }
   ],
   "source": [
    "pip install networkx"
   ]
  },
  {
   "cell_type": "code",
   "execution_count": 3,
   "id": "916b1848",
   "metadata": {},
   "outputs": [],
   "source": [
    "import numpy as np\n",
    "import pandas as pd\n",
    "import math\n",
    "import matplotlib.pyplot as plt\n",
    "import networkx as nx\n",
    "import matplotlib\n",
    "from sklearn import datasets\n",
    "from networkx.drawing.nx_agraph import graphviz_layout\n",
    "%matplotlib inline"
   ]
  },
  {
   "cell_type": "code",
   "execution_count": 4,
   "id": "82aed833",
   "metadata": {},
   "outputs": [],
   "source": [
    "df = pd.read_excel('datos/datos_arbol.xlsx')"
   ]
  },
  {
   "cell_type": "code",
   "execution_count": 6,
   "id": "f373b3ab",
   "metadata": {},
   "outputs": [
    {
     "name": "stdout",
     "output_type": "stream",
     "text": [
      "    INGRESO  ESTRATO  CREDITO\n",
      "0         1        2        0\n",
      "1         5        2        0\n",
      "2         1        4        1\n",
      "3         6        0        0\n",
      "4         8        5        1\n",
      "5         4        0        0\n",
      "6         3        5        1\n",
      "7         6        2        0\n",
      "8         3        5        1\n",
      "9         3        2        0\n",
      "10        9        2        1\n",
      "11        1        2        0\n",
      "12        3        0        0\n",
      "13        1        3        0\n",
      "14        7        2        0\n",
      "15        9        1        1\n",
      "16        8        3        1\n",
      "17        7        2        0\n",
      "18        6        3        0\n",
      "19        9        2        1\n",
      "20        0        3        0\n",
      "21        2        4        1\n",
      "22        3        4        1\n",
      "23        1        3        0\n",
      "24        0        5        1\n",
      "25        5        4        1\n",
      "26        9        5        1\n",
      "27        0        5        1\n",
      "28        0        4        1\n",
      "29        3        3        0\n"
     ]
    }
   ],
   "source": [
    "print(df)"
   ]
  },
  {
   "cell_type": "markdown",
   "id": "b73e80b2",
   "metadata": {},
   "source": [
    "## 1. Clasificación y la entropía como función objetivo de la clasificación (15%).\n",
    "#### a. Utilizar la siguiente tabla para crear un árbol de clasificación de la variable Y a mano con 2 niveles."
   ]
  },
  {
   "cell_type": "code",
   "execution_count": 7,
   "id": "02f54ce1",
   "metadata": {},
   "outputs": [],
   "source": [
    "## Calculamos la entropia de la variable estrato \n",
    "\n",
    "estrato_counts = df['ESTRATO'].value_counts()\n",
    "total_samples = len(df)\n",
    "\n",
    "entropy = 0\n",
    "for count in estrato_counts:\n",
    "    probability = count / total_samples\n",
    "    entropy += -probability * math.log2(probability)"
   ]
  },
  {
   "cell_type": "code",
   "execution_count": 8,
   "id": "ab65308a",
   "metadata": {},
   "outputs": [],
   "source": [
    "def calculate_conditional_entropy(df, feature, target):\n",
    "    feature_values = df[feature].unique()\n",
    "    entropy = 0\n",
    "    \n",
    "    for value in feature_values:\n",
    "        subset = df[df[feature] == value]\n",
    "        subset_size = len(subset)\n",
    "        subset_y_counts = subset[target].value_counts()\n",
    "        conditional_entropy = 0\n",
    "        \n",
    "        for count in subset_y_counts:\n",
    "            probability = count / subset_size\n",
    "            conditional_entropy += -probability * math.log2(probability)\n",
    "        \n",
    "        entropy += (subset_size / total_samples) * conditional_entropy\n",
    "    \n",
    "    return entropy"
   ]
  },
  {
   "cell_type": "code",
   "execution_count": 10,
   "id": "36934bf8",
   "metadata": {},
   "outputs": [],
   "source": [
    "features = df.columns[:-1]\n",
    "best_feature = None\n",
    "max_information_gain = -1\n",
    "\n",
    "for feature in features:\n",
    "    information_gain = entropy - calculate_conditional_entropy(df, feature, 'CREDITO')\n",
    "    \n",
    "    if information_gain > max_information_gain:\n",
    "        max_information_gain = information_gain\n",
    "        best_feature = feature"
   ]
  },
  {
   "cell_type": "code",
   "execution_count": 11,
   "id": "ea2c743c",
   "metadata": {},
   "outputs": [],
   "source": [
    "subset1 = df[df[best_feature] == 0]\n",
    "subset2 = df[df[best_feature] == 1]"
   ]
  },
  {
   "cell_type": "code",
   "execution_count": 12,
   "id": "dc140338",
   "metadata": {},
   "outputs": [],
   "source": [
    "subset1_entropy = 0\n",
    "subset2_entropy = 0\n",
    "\n",
    "if len(subset1) > 0:\n",
    "    subset1_y_counts = subset1['CREDITO'].value_counts()\n",
    "    for count in subset1_y_counts:\n",
    "        probability = count / len(subset1)\n",
    "        subset1_entropy += -probability * math.log2(probability)\n",
    "\n",
    "if len(subset2) > 0:\n",
    "    subset2_y_counts = subset2['CREDITO'].value_counts()\n",
    "    for count in subset2_y_counts:\n",
    "        probability = count / len(subset2)\n",
    "        subset2_entropy += -probability * math.log2(probability)\n",
    "\n",
    "subset1_information_gain = entropy - subset1_entropy\n",
    "subset2_information_gain = entropy - subset2_entropy"
   ]
  },
  {
   "cell_type": "code",
   "execution_count": 13,
   "id": "8b075ed6",
   "metadata": {},
   "outputs": [
    {
     "name": "stdout",
     "output_type": "stream",
     "text": [
      "Nodo raíz: ESTRATO\n",
      "Subset 1 - Entropía: 0.0\n",
      "Subset 1 - Ganancia de información: 2.3764438290006864\n",
      "Subset 2 - Entropía: 0.0\n",
      "Subset 2 - Ganancia de información: 2.3764438290006864\n"
     ]
    }
   ],
   "source": [
    "print(\"Nodo raíz:\", best_feature)\n",
    "print(\"Subset 1 - Entropía:\", subset1_entropy)\n",
    "print(\"Subset 1 - Ganancia de información:\", subset1_information_gain)\n",
    "print(\"Subset 2 - Entropía:\", subset2_entropy)\n",
    "print(\"Subset 2 - Ganancia de información:\", subset2_information_gain)"
   ]
  },
  {
   "cell_type": "markdown",
   "id": "43d00038",
   "metadata": {},
   "source": [
    "### Entrene un árbol utilizando sklearn.tree.DecisionTreeClassifier y compare los resultados. ¿Qué puede concluir son iguales?"
   ]
  },
  {
   "cell_type": "code",
   "execution_count": 16,
   "id": "1708a38e",
   "metadata": {},
   "outputs": [],
   "source": [
    "X = df.drop('CREDITO', axis=1)\n",
    "y = df['CREDITO']"
   ]
  },
  {
   "cell_type": "code",
   "execution_count": 18,
   "id": "59f34228",
   "metadata": {},
   "outputs": [],
   "source": [
    "from sklearn.model_selection import train_test_split\n",
    "\n",
    "X_train, X_test, y_train, y_test = train_test_split(X, y, test_size=0.2, random_state=42)"
   ]
  },
  {
   "cell_type": "code",
   "execution_count": null,
   "id": "356705f6",
   "metadata": {},
   "outputs": [],
   "source": [
    "clasificacion = DecisionTreeClassifier()"
   ]
  }
 ],
 "metadata": {
  "kernelspec": {
   "display_name": "Python 3 (ipykernel)",
   "language": "python",
   "name": "python3"
  },
  "language_info": {
   "codemirror_mode": {
    "name": "ipython",
    "version": 3
   },
   "file_extension": ".py",
   "mimetype": "text/x-python",
   "name": "python",
   "nbconvert_exporter": "python",
   "pygments_lexer": "ipython3",
   "version": "3.10.10"
  }
 },
 "nbformat": 4,
 "nbformat_minor": 5
}
